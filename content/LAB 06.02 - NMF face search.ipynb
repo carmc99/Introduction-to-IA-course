{
  "cells": [
    {
      "cell_type": "markdown",
      "metadata": {
        "id": "view-in-github",
        "colab_type": "text"
      },
      "source": [
        "<a href=\"https://colab.research.google.com/github/carmc99/Introduction-to-IA-course/blob/intro%2Fpython/content/LAB%2006.02%20-%20NMF%20face%20search.ipynb\" target=\"_parent\"><img src=\"https://colab.research.google.com/assets/colab-badge.svg\" alt=\"Open In Colab\"/></a>"
      ]
    },
    {
      "cell_type": "markdown",
      "metadata": {
        "id": "m3eJRLk4O0YJ"
      },
      "source": [
        "# LAB 06.02 - NMF face search"
      ]
    },
    {
      "cell_type": "code",
      "execution_count": 1,
      "metadata": {
        "id": "5zIxa2vSO0YN",
        "outputId": "a616b2d7-fbbe-4ae3-ff0d-9ae051822e34",
        "colab": {
          "base_uri": "https://localhost:8080/",
          "height": 76
        }
      },
      "outputs": [
        {
          "output_type": "display_data",
          "data": {
            "text/plain": [
              "<IPython.core.display.HTML object>"
            ],
            "text/html": [
              "\n",
              "<meta name=\"google-signin-client_id\"\n",
              "      content=\"461673936472-kdjosv61up3ac1ajeuq6qqu72upilmls.apps.googleusercontent.com\"/>\n",
              "<script src=\"https://apis.google.com/js/client:platform.js?onload=google_button_start\"></script>\n",
              "    "
            ]
          },
          "metadata": {}
        },
        {
          "output_type": "stream",
          "name": "stdout",
          "text": [
            "replicating local resources\n"
          ]
        },
        {
          "output_type": "execute_result",
          "data": {
            "text/plain": [
              "<IPython.core.display.HTML object>"
            ],
            "text/html": [
              "<h3>See <a href='https://m5knaekxo6.execute-api.us-west-2.amazonaws.com/dev-v0001/rlxmooc/web/login' target='_blank'>my courses and progress</a></h2>"
            ]
          },
          "metadata": {},
          "execution_count": 1
        }
      ],
      "source": [
        "!wget --no-cache -O init.py -q https://raw.githubusercontent.com/rramosp/ai4eng.v1/main/content/init.py\n",
        "import init; init.init(force_download=False); init.get_weblink()\n"
      ]
    },
    {
      "cell_type": "code",
      "execution_count": 2,
      "metadata": {
        "id": "HQa8U4CwO0YO",
        "outputId": "8b9e2f69-7f24-4bf3-cdc7-5fb7cdbe0e1d",
        "colab": {
          "base_uri": "https://localhost:8080/",
          "height": 136,
          "referenced_widgets": [
            "298b961e8ace4ebdb077a5a87c15a1e1",
            "8fd1071af84549eebf55fbb1269ef92d",
            "c996aa1fb97a4eba8f2085e04b169e90",
            "90ea672b88ee4ea692ea226b7302f473",
            "b30df254c59743498a04c406f59dddb2",
            "09469c4d8c18400ca93fb249a81056ce",
            "d1b4b1ce7ff44b46bba06e4a9a4f0956",
            "ac67f0aaf47449a08a498965f665d3ff",
            "22d217fbca164e1c8231fffc89a8ace7",
            "3c964df6a4fb4d9ab24ce3a51ca9e52c",
            "990bcce96577474489e352791b7b8296",
            "ff827ad29558498486150e26958142a0",
            "c1a99667541445e4991ba99ad6f1385a",
            "f6463a95fa5844b6ab3db333ba54757d",
            "3a1844d674fb43129f9bb9f7df2976f1",
            "f70cd8dad7fe411f8294da2abf772b7f",
            "3fb1403d79654765a2247ee31fff7fc9",
            "1fb1d4e3a5394c49b7e77edfd8f4520d",
            "10e2a166339a40d59d945672fa6ede01"
          ]
        }
      },
      "outputs": [
        {
          "output_type": "stream",
          "name": "stdout",
          "text": [
            "logging in as carlos.medinac@udea.edu.co... please wait\n",
            "using course session ai4eng.v1.udea.r2::2023.1\n",
            "success!! you are logged in\n"
          ]
        }
      ],
      "source": [
        "from local.lib.rlxmoocapi import submit, session\n",
        "session.LoginSequence(endpoint=init.endpoint, course_id=init.course_id, lab_id=\"L06.02\", varname=\"student\");"
      ]
    },
    {
      "cell_type": "markdown",
      "metadata": {
        "id": "0trMHWz9O0YO"
      },
      "source": [
        "## Dataset\n",
        "\n",
        "we will use the faces dataset"
      ]
    },
    {
      "cell_type": "code",
      "execution_count": 3,
      "metadata": {
        "id": "k8yWPYAHO0YP"
      },
      "outputs": [],
      "source": [
        "import pandas as pd\n",
        "import numpy as np\n",
        "import matplotlib.pyplot as plt\n",
        "from IPython.display import Image\n",
        "%matplotlib inline"
      ]
    },
    {
      "cell_type": "code",
      "execution_count": 4,
      "metadata": {
        "id": "fBVRZYbgO0YP",
        "outputId": "d98273bd-df8b-4e78-d759-e28882256a31",
        "colab": {
          "base_uri": "https://localhost:8080/"
        }
      },
      "outputs": [
        {
          "output_type": "execute_result",
          "data": {
            "text/plain": [
              "(535, 361)"
            ]
          },
          "metadata": {},
          "execution_count": 4
        }
      ],
      "source": [
        "\n",
        "import numpy as np\n",
        "faces = np.load(\"local/data/faces.npy\")\n",
        "faces.shape\n"
      ]
    },
    {
      "cell_type": "code",
      "execution_count": 5,
      "metadata": {
        "id": "1VZneNlcO0YQ"
      },
      "outputs": [],
      "source": [
        "def plot_faces(faces):\n",
        "    assert len(faces)<=30, \"can only plot at most 30 faces\"\n",
        "    plt.figure(figsize=(15,2))\n",
        "    for i in range(len(faces)):\n",
        "        plt.subplot(2,15,i+1)\n",
        "        plt.imshow(faces[i].reshape(19,19), cmap=plt.cm.Greys_r)\n",
        "        plt.xticks([]); plt.yticks([])"
      ]
    },
    {
      "cell_type": "code",
      "execution_count": 6,
      "metadata": {
        "id": "ifxxE12qO0YQ",
        "outputId": "4251bdbe-dfbd-4c18-b219-74b24ff4b7cf",
        "colab": {
          "base_uri": "https://localhost:8080/",
          "height": 186
        }
      },
      "outputs": [
        {
          "output_type": "display_data",
          "data": {
            "text/plain": [
              "<Figure size 1500x200 with 30 Axes>"
            ],
            "image/png": "[encoded data removed]"
          },
          "metadata": {}
        }
      ],
      "source": [
        "\n",
        "plot_faces(np.random.permutation(faces)[:30])\n"
      ]
    },
    {
      "cell_type": "markdown",
      "metadata": {
        "id": "2A9GutHsO0YR"
      },
      "source": [
        "## Task 1: Distance function for a vector\n",
        "\n",
        "complete the following function so that given a vector $v \\in \\mathbb{R}^n$ and a `numpy` array $X \\in \\mathbb{R}^{m\\times n}$ (whose rows are vectors of the same size as $v$) returns a new array $\\in \\mathbb{R}^m$ with the Euclidean distance between $v$ and each vector in $X$.\n",
        "\n",
        "Recall that the Euclidean distance between vectors $z=[z_0,...z_{n-1}]$ and $w=[w_0,...,w_{n-1}]$ is given by\n",
        "\n",
        "$$\\text{distance}(z,w) = \\sqrt{\\sum_{i=0}^{n-1} (z_i-w_i)^2}$$\n",
        "\n",
        "\n",
        "**hint**: use [`np.linalg.norm`](https://numpy.org/doc/stable/reference/generated/numpy.linalg.norm.html) to compute a distance between two vectors\n",
        "\n",
        "**challenge**: solve it using one line of code.\n",
        "\n",
        "**note**: your function must return a 1D numpy array of dimension $m$, not a list.\n",
        "\n",
        "for instance, for the following values of $v$ and $X$\n",
        "\n",
        "    X = array([[9, 5, 1, 3, 8, 3, 3, 3, 9, 2],\n",
        "               [9, 7, 0, 7, 9, 1, 4, 7, 3, 6],\n",
        "               [8, 0, 0, 5, 0, 5, 5, 1, 1, 5],\n",
        "               [8, 2, 9, 5, 6, 0, 8, 7, 2, 8],\n",
        "               [0, 6, 3, 0, 6, 6, 1, 2, 8, 0]])\n",
        "                  \n",
        "    v = np.array([9, 7, 0, 7, 9, 1, 4, 7, 3, 6])\n",
        "\n",
        "\n",
        "you should get the following result\n",
        "\n",
        "    array([ 9.74679434,  0.        , 13.89244399, 11.91637529, 16.40121947])\n"
      ]
    },
    {
      "cell_type": "code",
      "execution_count": 7,
      "metadata": {
        "id": "AW0w5iOSO0YS"
      },
      "outputs": [],
      "source": [
        "import numpy as np\n",
        "\n",
        "def distances(v, X):\n",
        "    result = np.linalg.norm(X - v, axis=1)\n",
        "    return result\n"
      ]
    },
    {
      "cell_type": "markdown",
      "metadata": {
        "id": "N1_9pIqWO0YT"
      },
      "source": [
        "check manually your code"
      ]
    },
    {
      "cell_type": "code",
      "execution_count": 8,
      "metadata": {
        "scrolled": true,
        "id": "Lz96zWzzO0YT",
        "outputId": "cdf2a6fb-93ec-4746-9a7b-b2c8964c9d78",
        "colab": {
          "base_uri": "https://localhost:8080/"
        }
      },
      "outputs": [
        {
          "output_type": "stream",
          "name": "stdout",
          "text": [
            "X=\n",
            " [[3 7 3 1 8 2 8 6 5 4]\n",
            " [1 4 6 1 8 7 4 5 1 0]\n",
            " [8 0 4 3 1 3 4 8 3 9]\n",
            " [4 6 8 1 4 4 6 5 9 9]\n",
            " [0 1 3 0 3 2 9 0 3 5]]\n",
            "\n",
            "v= [1 4 6 1 8 7 4 5 1 0]\n"
          ]
        },
        {
          "output_type": "execute_result",
          "data": {
            "text/plain": [
              "array([ 9.79795897,  0.        , 15.23154621, 13.82027496, 12.20655562])"
            ]
          },
          "metadata": {},
          "execution_count": 8
        }
      ],
      "source": [
        "X = np.random.randint(10, size=(5,10))\n",
        "v = X[1]\n",
        "\n",
        "print (\"X=\\n\", X)\n",
        "print (\"\\nv=\", v)\n",
        "distances(v, X)"
      ]
    },
    {
      "cell_type": "markdown",
      "metadata": {
        "id": "5Ypgfv9RO0YT"
      },
      "source": [
        "**submit your code**"
      ]
    },
    {
      "cell_type": "code",
      "execution_count": 9,
      "metadata": {
        "scrolled": true,
        "id": "0trQJqR7O0YU",
        "outputId": "1853ff94-701c-4c86-dc83-44d57b69c051",
        "colab": {
          "base_uri": "https://localhost:8080/",
          "height": 163
        }
      },
      "outputs": [
        {
          "output_type": "display_data",
          "data": {
            "text/plain": [
              "<IPython.core.display.HTML object>"
            ],
            "text/html": [
              "\n",
              "                    <b>task_01 submitted.</b> <b><font color=\"blue\">your grade is 5</font></b> \n",
              "                    <p/><pre>----- grader message -------</pre><br/>testing with 100 random calls<br/><br/><b>correct</b><pre>----------------------------</pre>\n",
              "                    <p/><p/>\n",
              "                    <div style=\"font-size:10px\"><b>SUBMISSION CODE</b> AgrdraPWr+PacN3MdC+NSTyqGW7bVybWDjKJXATK8+ZI7is8lx1ZUYcuUYQL7KjKxbWScQZ4rS7to9+Xlcdpvi/X9bRaw3pt9kvIfJ2Xzs9xHGL+aCrpg6cvWKK7Pw4tDJoZcBNXkwYKe3EmVHD4CEojtTteUE4BeJ5KQmOnJhQ=</div>\n",
              "                    "
            ]
          },
          "metadata": {}
        }
      ],
      "source": [
        "student.submit_task(globals(), task_id=\"task_01\");"
      ]
    },
    {
      "cell_type": "code",
      "execution_count": null,
      "metadata": {
        "id": "m1FTDFkYO0YU"
      },
      "outputs": [],
      "source": []
    },
    {
      "cell_type": "code",
      "execution_count": null,
      "metadata": {
        "id": "EMMPXQNbO0YU"
      },
      "outputs": [],
      "source": []
    },
    {
      "cell_type": "code",
      "execution_count": null,
      "metadata": {
        "id": "5sCh0EvYO0YU"
      },
      "outputs": [],
      "source": []
    },
    {
      "cell_type": "code",
      "execution_count": null,
      "metadata": {
        "id": "KCr6c4DBO0YU"
      },
      "outputs": [],
      "source": []
    },
    {
      "cell_type": "markdown",
      "metadata": {
        "id": "yDTu6y0lO0YU"
      },
      "source": [
        "## Task 2: Positions of closest vectors\n",
        "\n",
        "complete the following function so that given $v$ and $X$ as previously, returns the positions of the $n$ closest vectors to $v$ in $X$.\n",
        "\n",
        "**hint**: use the [`np.argsort`](https://numpy.org/doc/stable/reference/generated/numpy.argsort.html) function\n",
        "\n",
        "**challenge**: solve it using one line of code\n",
        "\n",
        "for the example $v$ and $X$ above you should get the following outputs\n",
        "\n",
        "    >> closest(v, X, 2)\n",
        "    array([1, 0])\n",
        "\n",
        "    >> closest(v, X, 3)\n",
        "    array([1, 0, 3])\n"
      ]
    },
    {
      "cell_type": "code",
      "execution_count": 10,
      "metadata": {
        "id": "jHkKDfMXO0YV"
      },
      "outputs": [],
      "source": [
        "import numpy as np\n",
        "\n",
        "def closest(v, X, n):\n",
        "    assert n < len(X), \"n must be at most the number of vectors in X\"\n",
        "    result = np.argsort(np.linalg.norm(X - v, axis=1))[:n]\n",
        "    return result\n"
      ]
    },
    {
      "cell_type": "markdown",
      "metadata": {
        "id": "RqJ6diPNO0YV"
      },
      "source": [
        "check manually your code"
      ]
    },
    {
      "cell_type": "code",
      "execution_count": 11,
      "metadata": {
        "id": "OM282cR1O0YV",
        "outputId": "272de617-075c-4e81-a8de-312dc5262a59",
        "colab": {
          "base_uri": "https://localhost:8080/"
        }
      },
      "outputs": [
        {
          "output_type": "stream",
          "name": "stdout",
          "text": [
            "X=\n",
            " [[2 0 9 0 7 5 8 1 9 3]\n",
            " [3 5 9 4 0 3 7 2 7 2]\n",
            " [5 3 2 8 6 0 0 9 1 1]\n",
            " [7 7 7 4 0 7 2 2 7 3]\n",
            " [5 1 7 3 0 0 5 9 1 9]]\n",
            "\n",
            "v= [3 5 9 4 0 3 7 2 7 2] \n",
            "\n",
            "\n",
            "[1 3]\n",
            "[1 3 0]\n"
          ]
        }
      ],
      "source": [
        "X = np.random.randint(10, size=(5,10))\n",
        "v = X[1]\n",
        "\n",
        "print (\"X=\\n\", X)\n",
        "print (\"\\nv=\", v,\"\\n\\n\")\n",
        "print (closest(v, X, 2))\n",
        "print (closest(v, X, 3))"
      ]
    },
    {
      "cell_type": "markdown",
      "metadata": {
        "id": "pQiqXLS_O0YV"
      },
      "source": [
        "### observe now how we can use your functions to search for faces similar to any other face"
      ]
    },
    {
      "cell_type": "code",
      "execution_count": 12,
      "metadata": {
        "id": "pmognz-dO0YV",
        "outputId": "50877d99-4a9b-4bad-ab69-271fa68fd3f3",
        "colab": {
          "base_uri": "https://localhost:8080/",
          "height": 159
        }
      },
      "outputs": [
        {
          "output_type": "stream",
          "name": "stdout",
          "text": [
            "TARGET FACE\n"
          ]
        },
        {
          "output_type": "display_data",
          "data": {
            "text/plain": [
              "<Figure size 100x100 with 1 Axes>"
            ],
            "image/png": "[encoded data removed]"
          },
          "metadata": {}
        }
      ],
      "source": [
        "\n",
        "plt.figure(figsize=(1,1))\n",
        "fi = 314 # np.random.randint(len(faces)) # 314 \n",
        "face = faces[fi]\n",
        "plt.imshow(faces[fi].reshape(19,19), cmap=plt.cm.Greys_r)\n",
        "print (\"TARGET FACE\")\n"
      ]
    },
    {
      "cell_type": "code",
      "execution_count": 13,
      "metadata": {
        "id": "-AZ62QmyO0YW",
        "outputId": "25c718c6-2c68-43f9-a914-63e5f4c5e39e",
        "colab": {
          "base_uri": "https://localhost:8080/",
          "height": 204
        }
      },
      "outputs": [
        {
          "output_type": "stream",
          "name": "stdout",
          "text": [
            "SIMILAR FACES\n"
          ]
        },
        {
          "output_type": "display_data",
          "data": {
            "text/plain": [
              "<Figure size 1500x200 with 30 Axes>"
            ],
            "image/png": "[encoded data removed]"
          },
          "metadata": {}
        }
      ],
      "source": [
        "\n",
        "plot_faces(faces[closest(face, faces, 30)])\n",
        "print (\"SIMILAR FACES\")\n"
      ]
    },
    {
      "cell_type": "markdown",
      "metadata": {
        "id": "vxEKxisNO0YW"
      },
      "source": [
        "But they do not look so similar, this is because we are doing comparison **pixel by pixel**. We will fix this in the next task"
      ]
    },
    {
      "cell_type": "code",
      "execution_count": null,
      "metadata": {
        "id": "o2rAs1QQO0YW"
      },
      "outputs": [],
      "source": []
    },
    {
      "cell_type": "markdown",
      "metadata": {
        "id": "YIYA7v7MO0YW"
      },
      "source": [
        "**submit your code**"
      ]
    },
    {
      "cell_type": "code",
      "execution_count": 14,
      "metadata": {
        "scrolled": false,
        "id": "_MSlFN7ZO0YW",
        "outputId": "f6ee7524-f812-415e-84fd-e9f69c7c40c0",
        "colab": {
          "base_uri": "https://localhost:8080/",
          "height": 163
        }
      },
      "outputs": [
        {
          "output_type": "display_data",
          "data": {
            "text/plain": [
              "<IPython.core.display.HTML object>"
            ],
            "text/html": [
              "\n",
              "                    <b>task_02 submitted.</b> <b><font color=\"blue\">your grade is 5</font></b> \n",
              "                    <p/><pre>----- grader message -------</pre><br/>testing with 100 random calls<br/><br/><b>correct</b><pre>----------------------------</pre>\n",
              "                    <p/><p/>\n",
              "                    <div style=\"font-size:10px\"><b>SUBMISSION CODE</b> aTuu/xjDcof7jOSOFNCamF70AiPf8cSb0Y0QFU0Z7oB+7GUlvZnieLYxXmcKbV8UzS+v7vuIM4ik2jkyMiqQ6/oGhpjWzglk9sMTaqmk2zIujNX1OEDRQWrgABQRxx58ZGm4W1dOCczEzjrUv0w/8728PWQMKS8vtDOBY/TPjdY=</div>\n",
              "                    "
            ]
          },
          "metadata": {}
        }
      ],
      "source": [
        "student.submit_task(globals(), task_id=\"task_02\");"
      ]
    },
    {
      "cell_type": "code",
      "execution_count": null,
      "metadata": {
        "id": "q_BXMJrBO0YX"
      },
      "outputs": [],
      "source": []
    },
    {
      "cell_type": "markdown",
      "metadata": {
        "id": "V15XBpm3O0YX"
      },
      "source": [
        "## Task 3: Use NMF to find similar faces\n",
        "\n",
        "Make the comparison in the faces space resulting from transforming them using NMF. For this you have to:\n",
        "\n",
        "- create an instance of NMF with `n_components=30, init=\"random\", random_state=0`\n",
        "- fit the instance with $X$\n",
        "- transform $X$\n",
        "- transform $v$\n",
        "- return the positions of closest $n$ vectors in the transformed $X$ to the transformed $v$\n",
        "\n",
        "For the target face above, you should get the following"
      ]
    },
    {
      "cell_type": "code",
      "execution_count": null,
      "metadata": {
        "id": "f_PoOxRFO0YX",
        "outputId": "0808738c-9c24-4b6b-9936-d291a21f967e"
      },
      "outputs": [
        {
          "data": {
            "image/png": "[encoded data removed]",
            "text/plain": [
              "<IPython.core.display.Image object>"
            ]
          },
          "execution_count": 34,
          "metadata": {},
          "output_type": "execute_result"
        }
      ],
      "source": [
        "\n",
        "from IPython.display import Image\n",
        "Image(filename='local/imgs/similar-images2.png')\n"
      ]
    },
    {
      "cell_type": "code",
      "execution_count": 19,
      "metadata": {
        "id": "ePKt8v_EO0YX"
      },
      "outputs": [],
      "source": [
        "import numpy as np\n",
        "def find_similar(v,X,n):\n",
        "    from sklearn.decomposition import NMF\n",
        "    \n",
        "    nmf = NMF(n_components=30, init=\"random\", random_state=0)\n",
        "    nmf.fit(X)\n",
        "    Xt = nmf.transform(X)\n",
        "    vt = nmf.transform(v.reshape(1, -1))\n",
        "    \n",
        "    result = np.argsort(np.linalg.norm(Xt - vt, axis=1))[:n]\n",
        "    return result"
      ]
    },
    {
      "cell_type": "markdown",
      "metadata": {
        "id": "P_by4QooO0YX"
      },
      "source": [
        "check manually your answer"
      ]
    },
    {
      "cell_type": "code",
      "execution_count": 16,
      "metadata": {
        "id": "tg-wfUmjO0YX",
        "outputId": "14dda9a8-5db8-4cb4-9568-e1c79da09ed2",
        "colab": {
          "base_uri": "https://localhost:8080/",
          "height": 222
        }
      },
      "outputs": [
        {
          "output_type": "stream",
          "name": "stderr",
          "text": [
            "/usr/local/lib/python3.10/dist-packages/sklearn/decomposition/_nmf.py:1665: ConvergenceWarning: Maximum number of iterations 200 reached. Increase it to improve convergence.\n",
            "  warnings.warn(\n"
          ]
        },
        {
          "output_type": "display_data",
          "data": {
            "text/plain": [
              "<Figure size 1500x200 with 30 Axes>"
            ],
            "image/png": "[encoded data removed]"
          },
          "metadata": {}
        }
      ],
      "source": [
        "\n",
        "plot_faces(faces[find_similar(face, faces, 30)])\n"
      ]
    },
    {
      "cell_type": "markdown",
      "metadata": {
        "id": "hFH769KYO0YY"
      },
      "source": [
        "**submit your code**"
      ]
    },
    {
      "cell_type": "code",
      "execution_count": 20,
      "metadata": {
        "scrolled": false,
        "id": "x15GHXoCO0YY",
        "outputId": "8e126cb8-c864-4c50-fdd5-dc1adc15970c",
        "colab": {
          "base_uri": "https://localhost:8080/",
          "height": 163
        }
      },
      "outputs": [
        {
          "output_type": "display_data",
          "data": {
            "text/plain": [
              "<IPython.core.display.HTML object>"
            ],
            "text/html": [
              "\n",
              "                    <b>task_03 submitted.</b> <b><font color=\"blue\">your grade is 5</font></b> \n",
              "                    <p/><pre>----- grader message -------</pre><br/>testing with 100 random calls<br/><br/><b>correct</b><pre>----------------------------</pre>\n",
              "                    <p/><p/>\n",
              "                    <div style=\"font-size:10px\"><b>SUBMISSION CODE</b> Tl4Zu9SJicnVVcste/4sWL4b1svrAxSB03gbQQjMUT2ZyX7/pcyc+37CgKxhvQvoF6vdK/uqGadc3hJE8RgxwxKjUpJD0lD9z16GBmX2XfVLe8ljMSUtcIzB3CPWsKq37p6YX6rEz9Fm9PJbDwcMVRt4xufsCpQ63f0wytZ0XZo=</div>\n",
              "                    "
            ]
          },
          "metadata": {}
        }
      ],
      "source": [
        "student.submit_task(globals(), task_id=\"task_03\");"
      ]
    },
    {
      "cell_type": "code",
      "execution_count": null,
      "metadata": {
        "id": "meL5CYYlO0YY"
      },
      "outputs": [],
      "source": []
    },
    {
      "cell_type": "code",
      "execution_count": null,
      "metadata": {
        "id": "XK0DyQhxO0YY"
      },
      "outputs": [],
      "source": []
    }
  ],
  "metadata": {
    "kernelspec": {
      "display_name": "Python 3",
      "language": "python",
      "name": "python3"
    },
    "language_info": {
      "codemirror_mode": {
        "name": "ipython",
        "version": 3
      },
      "file_extension": ".py",
      "mimetype": "text/x-python",
      "name": "python",
      "nbconvert_exporter": "python",
      "pygments_lexer": "ipython3",
      "version": "3.7.3"
    },
    "colab": {
      "provenance": [],
      "include_colab_link": true
    },
    "widgets": {
      "application/vnd.jupyter.widget-state+json": {
        "298b961e8ace4ebdb077a5a87c15a1e1": {
          "model_module": "@jupyter-widgets/controls",
          "model_name": "HBoxModel",
          "model_module_version": "1.5.0",
          "state": {
            "_dom_classes": [],
            "_model_module": "@jupyter-widgets/controls",
            "_model_module_version": "1.5.0",
            "_model_name": "HBoxModel",
            "_view_count": null,
            "_view_module": "@jupyter-widgets/controls",
            "_view_module_version": "1.5.0",
            "_view_name": "HBoxView",
            "box_style": "",
            "children": [
              "IPY_MODEL_8fd1071af84549eebf55fbb1269ef92d",
              "IPY_MODEL_c996aa1fb97a4eba8f2085e04b169e90",
              "IPY_MODEL_90ea672b88ee4ea692ea226b7302f473",
              "IPY_MODEL_b30df254c59743498a04c406f59dddb2"
            ],
            "layout": "IPY_MODEL_09469c4d8c18400ca93fb249a81056ce"
          }
        },
        "8fd1071af84549eebf55fbb1269ef92d": {
          "model_module": "@jupyter-widgets/controls",
          "model_name": "VBoxModel",
          "model_module_version": "1.5.0",
          "state": {
            "_dom_classes": [],
            "_model_module": "@jupyter-widgets/controls",
            "_model_module_version": "1.5.0",
            "_model_name": "VBoxModel",
            "_view_count": null,
            "_view_module": "@jupyter-widgets/controls",
            "_view_module_version": "1.5.0",
            "_view_name": "VBoxView",
            "box_style": "",
            "children": [
              "IPY_MODEL_d1b4b1ce7ff44b46bba06e4a9a4f0956",
              "IPY_MODEL_ac67f0aaf47449a08a498965f665d3ff"
            ],
            "layout": "IPY_MODEL_22d217fbca164e1c8231fffc89a8ace7"
          }
        },
        "c996aa1fb97a4eba8f2085e04b169e90": {
          "model_module": "@jupyter-widgets/controls",
          "model_name": "ButtonModel",
          "model_module_version": "1.5.0",
          "state": {
            "_dom_classes": [
              "login_button"
            ],
            "_model_module": "@jupyter-widgets/controls",
            "_model_module_version": "1.5.0",
            "_model_name": "ButtonModel",
            "_view_count": null,
            "_view_module": "@jupyter-widgets/controls",
            "_view_module_version": "1.5.0",
            "_view_name": "ButtonView",
            "button_style": "",
            "description": "Login with email",
            "disabled": false,
            "icon": "",
            "layout": "IPY_MODEL_3c964df6a4fb4d9ab24ce3a51ca9e52c",
            "style": "IPY_MODEL_990bcce96577474489e352791b7b8296",
            "tooltip": ""
          }
        },
        "90ea672b88ee4ea692ea226b7302f473": {
          "model_module": "@jupyter-widgets/controls",
          "model_name": "HTMLModel",
          "model_module_version": "1.5.0",
          "state": {
            "_dom_classes": [],
            "_model_module": "@jupyter-widgets/controls",
            "_model_module_version": "1.5.0",
            "_model_name": "HTMLModel",
            "_view_count": null,
            "_view_module": "@jupyter-widgets/controls",
            "_view_module_version": "1.5.0",
            "_view_name": "HTMLView",
            "description": "",
            "description_tooltip": null,
            "layout": "IPY_MODEL_ff827ad29558498486150e26958142a0",
            "placeholder": "​",
            "style": "IPY_MODEL_c1a99667541445e4991ba99ad6f1385a",
            "value": "<center><big>or</big></center>"
          }
        },
        "b30df254c59743498a04c406f59dddb2": {
          "model_module": "@jupyter-widgets/controls",
          "model_name": "ButtonModel",
          "model_module_version": "1.5.0",
          "state": {
            "_dom_classes": [
              "google_button"
            ],
            "_model_module": "@jupyter-widgets/controls",
            "_model_module_version": "1.5.0",
            "_model_name": "ButtonModel",
            "_view_count": null,
            "_view_module": "@jupyter-widgets/controls",
            "_view_module_version": "1.5.0",
            "_view_name": "ButtonView",
            "button_style": "",
            "description": "Login with Google",
            "disabled": false,
            "icon": "",
            "layout": "IPY_MODEL_f6463a95fa5844b6ab3db333ba54757d",
            "style": "IPY_MODEL_3a1844d674fb43129f9bb9f7df2976f1",
            "tooltip": ""
          }
        },
        "09469c4d8c18400ca93fb249a81056ce": {
          "model_module": "@jupyter-widgets/base",
          "model_name": "LayoutModel",
          "model_module_version": "1.2.0",
          "state": {
            "_model_module": "@jupyter-widgets/base",
            "_model_module_version": "1.2.0",
            "_model_name": "LayoutModel",
            "_view_count": null,
            "_view_module": "@jupyter-widgets/base",
            "_view_module_version": "1.2.0",
            "_view_name": "LayoutView",
            "align_content": null,
            "align_items": null,
            "align_self": null,
            "border": null,
            "bottom": null,
            "display": null,
            "flex": null,
            "flex_flow": null,
            "grid_area": null,
            "grid_auto_columns": null,
            "grid_auto_flow": null,
            "grid_auto_rows": null,
            "grid_column": null,
            "grid_gap": null,
            "grid_row": null,
            "grid_template_areas": null,
            "grid_template_columns": null,
            "grid_template_rows": null,
            "height": null,
            "justify_content": null,
            "justify_items": null,
            "left": null,
            "margin": null,
            "max_height": null,
            "max_width": null,
            "min_height": null,
            "min_width": null,
            "object_fit": null,
            "object_position": null,
            "order": null,
            "overflow": null,
            "overflow_x": null,
            "overflow_y": null,
            "padding": null,
            "right": null,
            "top": null,
            "visibility": null,
            "width": null
          }
        },
        "d1b4b1ce7ff44b46bba06e4a9a4f0956": {
          "model_module": "@jupyter-widgets/controls",
          "model_name": "TextModel",
          "model_module_version": "1.5.0",
          "state": {
            "_dom_classes": [],
            "_model_module": "@jupyter-widgets/controls",
            "_model_module_version": "1.5.0",
            "_model_name": "TextModel",
            "_view_count": null,
            "_view_module": "@jupyter-widgets/controls",
            "_view_module_version": "1.5.0",
            "_view_name": "TextView",
            "continuous_update": true,
            "description": "email",
            "description_tooltip": null,
            "disabled": false,
            "layout": "IPY_MODEL_f70cd8dad7fe411f8294da2abf772b7f",
            "placeholder": "​",
            "style": "IPY_MODEL_3fb1403d79654765a2247ee31fff7fc9",
            "value": ""
          }
        },
        "ac67f0aaf47449a08a498965f665d3ff": {
          "model_module": "@jupyter-widgets/controls",
          "model_name": "PasswordModel",
          "model_module_version": "1.5.0",
          "state": {
            "_dom_classes": [],
            "_model_module": "@jupyter-widgets/controls",
            "_model_module_version": "1.5.0",
            "_model_name": "PasswordModel",
            "_view_count": null,
            "_view_module": "@jupyter-widgets/controls",
            "_view_module_version": "1.5.0",
            "_view_name": "PasswordView",
            "continuous_update": true,
            "description": "password",
            "description_tooltip": null,
            "disabled": false,
            "layout": "IPY_MODEL_1fb1d4e3a5394c49b7e77edfd8f4520d",
            "placeholder": "​",
            "style": "IPY_MODEL_10e2a166339a40d59d945672fa6ede01",
            "value": ""
          }
        },
        "22d217fbca164e1c8231fffc89a8ace7": {
          "model_module": "@jupyter-widgets/base",
          "model_name": "LayoutModel",
          "model_module_version": "1.2.0",
          "state": {
            "_model_module": "@jupyter-widgets/base",
            "_model_module_version": "1.2.0",
            "_model_name": "LayoutModel",
            "_view_count": null,
            "_view_module": "@jupyter-widgets/base",
            "_view_module_version": "1.2.0",
            "_view_name": "LayoutView",
            "align_content": null,
            "align_items": null,
            "align_self": null,
            "border": null,
            "bottom": null,
            "display": null,
            "flex": null,
            "flex_flow": null,
            "grid_area": null,
            "grid_auto_columns": null,
            "grid_auto_flow": null,
            "grid_auto_rows": null,
            "grid_column": null,
            "grid_gap": null,
            "grid_row": null,
            "grid_template_areas": null,
            "grid_template_columns": null,
            "grid_template_rows": null,
            "height": null,
            "justify_content": null,
            "justify_items": null,
            "left": null,
            "margin": null,
            "max_height": null,
            "max_width": null,
            "min_height": null,
            "min_width": null,
            "object_fit": null,
            "object_position": null,
            "order": null,
            "overflow": null,
            "overflow_x": null,
            "overflow_y": null,
            "padding": null,
            "right": null,
            "top": null,
            "visibility": null,
            "width": null
          }
        },
        "3c964df6a4fb4d9ab24ce3a51ca9e52c": {
          "model_module": "@jupyter-widgets/base",
          "model_name": "LayoutModel",
          "model_module_version": "1.2.0",
          "state": {
            "_model_module": "@jupyter-widgets/base",
            "_model_module_version": "1.2.0",
            "_model_name": "LayoutModel",
            "_view_count": null,
            "_view_module": "@jupyter-widgets/base",
            "_view_module_version": "1.2.0",
            "_view_name": "LayoutView",
            "align_content": null,
            "align_items": null,
            "align_self": null,
            "border": null,
            "bottom": null,
            "display": null,
            "flex": null,
            "flex_flow": null,
            "grid_area": null,
            "grid_auto_columns": null,
            "grid_auto_flow": null,
            "grid_auto_rows": null,
            "grid_column": null,
            "grid_gap": null,
            "grid_row": null,
            "grid_template_areas": null,
            "grid_template_columns": null,
            "grid_template_rows": null,
            "height": "53px",
            "justify_content": null,
            "justify_items": null,
            "left": null,
            "margin": null,
            "max_height": null,
            "max_width": null,
            "min_height": null,
            "min_width": null,
            "object_fit": null,
            "object_position": null,
            "order": null,
            "overflow": null,
            "overflow_x": null,
            "overflow_y": null,
            "padding": null,
            "right": null,
            "top": null,
            "visibility": null,
            "width": "150px"
          }
        },
        "990bcce96577474489e352791b7b8296": {
          "model_module": "@jupyter-widgets/controls",
          "model_name": "ButtonStyleModel",
          "model_module_version": "1.5.0",
          "state": {
            "_model_module": "@jupyter-widgets/controls",
            "_model_module_version": "1.5.0",
            "_model_name": "ButtonStyleModel",
            "_view_count": null,
            "_view_module": "@jupyter-widgets/base",
            "_view_module_version": "1.2.0",
            "_view_name": "StyleView",
            "button_color": null,
            "font_weight": ""
          }
        },
        "ff827ad29558498486150e26958142a0": {
          "model_module": "@jupyter-widgets/base",
          "model_name": "LayoutModel",
          "model_module_version": "1.2.0",
          "state": {
            "_model_module": "@jupyter-widgets/base",
            "_model_module_version": "1.2.0",
            "_model_name": "LayoutModel",
            "_view_count": null,
            "_view_module": "@jupyter-widgets/base",
            "_view_module_version": "1.2.0",
            "_view_name": "LayoutView",
            "align_content": null,
            "align_items": null,
            "align_self": null,
            "border": null,
            "bottom": null,
            "display": null,
            "flex": null,
            "flex_flow": null,
            "grid_area": null,
            "grid_auto_columns": null,
            "grid_auto_flow": null,
            "grid_auto_rows": null,
            "grid_column": null,
            "grid_gap": null,
            "grid_row": null,
            "grid_template_areas": null,
            "grid_template_columns": null,
            "grid_template_rows": null,
            "height": null,
            "justify_content": null,
            "justify_items": null,
            "left": null,
            "margin": null,
            "max_height": null,
            "max_width": null,
            "min_height": null,
            "min_width": null,
            "object_fit": null,
            "object_position": null,
            "order": null,
            "overflow": null,
            "overflow_x": null,
            "overflow_y": null,
            "padding": null,
            "right": null,
            "top": null,
            "visibility": null,
            "width": "100px"
          }
        },
        "c1a99667541445e4991ba99ad6f1385a": {
          "model_module": "@jupyter-widgets/controls",
          "model_name": "DescriptionStyleModel",
          "model_module_version": "1.5.0",
          "state": {
            "_model_module": "@jupyter-widgets/controls",
            "_model_module_version": "1.5.0",
            "_model_name": "DescriptionStyleModel",
            "_view_count": null,
            "_view_module": "@jupyter-widgets/base",
            "_view_module_version": "1.2.0",
            "_view_name": "StyleView",
            "description_width": ""
          }
        },
        "f6463a95fa5844b6ab3db333ba54757d": {
          "model_module": "@jupyter-widgets/base",
          "model_name": "LayoutModel",
          "model_module_version": "1.2.0",
          "state": {
            "_model_module": "@jupyter-widgets/base",
            "_model_module_version": "1.2.0",
            "_model_name": "LayoutModel",
            "_view_count": null,
            "_view_module": "@jupyter-widgets/base",
            "_view_module_version": "1.2.0",
            "_view_name": "LayoutView",
            "align_content": null,
            "align_items": null,
            "align_self": null,
            "border": null,
            "bottom": null,
            "display": null,
            "flex": null,
            "flex_flow": null,
            "grid_area": null,
            "grid_auto_columns": null,
            "grid_auto_flow": null,
            "grid_auto_rows": null,
            "grid_column": null,
            "grid_gap": null,
            "grid_row": null,
            "grid_template_areas": null,
            "grid_template_columns": null,
            "grid_template_rows": null,
            "height": "53px",
            "justify_content": null,
            "justify_items": null,
            "left": null,
            "margin": null,
            "max_height": null,
            "max_width": null,
            "min_height": null,
            "min_width": null,
            "object_fit": null,
            "object_position": null,
            "order": null,
            "overflow": null,
            "overflow_x": null,
            "overflow_y": null,
            "padding": null,
            "right": null,
            "top": null,
            "visibility": null,
            "width": "200px"
          }
        },
        "3a1844d674fb43129f9bb9f7df2976f1": {
          "model_module": "@jupyter-widgets/controls",
          "model_name": "ButtonStyleModel",
          "model_module_version": "1.5.0",
          "state": {
            "_model_module": "@jupyter-widgets/controls",
            "_model_module_version": "1.5.0",
            "_model_name": "ButtonStyleModel",
            "_view_count": null,
            "_view_module": "@jupyter-widgets/base",
            "_view_module_version": "1.2.0",
            "_view_name": "StyleView",
            "button_color": null,
            "font_weight": ""
          }
        },
        "f70cd8dad7fe411f8294da2abf772b7f": {
          "model_module": "@jupyter-widgets/base",
          "model_name": "LayoutModel",
          "model_module_version": "1.2.0",
          "state": {
            "_model_module": "@jupyter-widgets/base",
            "_model_module_version": "1.2.0",
            "_model_name": "LayoutModel",
            "_view_count": null,
            "_view_module": "@jupyter-widgets/base",
            "_view_module_version": "1.2.0",
            "_view_name": "LayoutView",
            "align_content": null,
            "align_items": null,
            "align_self": null,
            "border": null,
            "bottom": null,
            "display": null,
            "flex": null,
            "flex_flow": null,
            "grid_area": null,
            "grid_auto_columns": null,
            "grid_auto_flow": null,
            "grid_auto_rows": null,
            "grid_column": null,
            "grid_gap": null,
            "grid_row": null,
            "grid_template_areas": null,
            "grid_template_columns": null,
            "grid_template_rows": null,
            "height": "25px",
            "justify_content": null,
            "justify_items": null,
            "left": null,
            "margin": null,
            "max_height": null,
            "max_width": null,
            "min_height": null,
            "min_width": null,
            "object_fit": null,
            "object_position": null,
            "order": null,
            "overflow": null,
            "overflow_x": null,
            "overflow_y": null,
            "padding": null,
            "right": null,
            "top": null,
            "visibility": null,
            "width": "300px"
          }
        },
        "3fb1403d79654765a2247ee31fff7fc9": {
          "model_module": "@jupyter-widgets/controls",
          "model_name": "DescriptionStyleModel",
          "model_module_version": "1.5.0",
          "state": {
            "_model_module": "@jupyter-widgets/controls",
            "_model_module_version": "1.5.0",
            "_model_name": "DescriptionStyleModel",
            "_view_count": null,
            "_view_module": "@jupyter-widgets/base",
            "_view_module_version": "1.2.0",
            "_view_name": "StyleView",
            "description_width": ""
          }
        },
        "1fb1d4e3a5394c49b7e77edfd8f4520d": {
          "model_module": "@jupyter-widgets/base",
          "model_name": "LayoutModel",
          "model_module_version": "1.2.0",
          "state": {
            "_model_module": "@jupyter-widgets/base",
            "_model_module_version": "1.2.0",
            "_model_name": "LayoutModel",
            "_view_count": null,
            "_view_module": "@jupyter-widgets/base",
            "_view_module_version": "1.2.0",
            "_view_name": "LayoutView",
            "align_content": null,
            "align_items": null,
            "align_self": null,
            "border": null,
            "bottom": null,
            "display": null,
            "flex": null,
            "flex_flow": null,
            "grid_area": null,
            "grid_auto_columns": null,
            "grid_auto_flow": null,
            "grid_auto_rows": null,
            "grid_column": null,
            "grid_gap": null,
            "grid_row": null,
            "grid_template_areas": null,
            "grid_template_columns": null,
            "grid_template_rows": null,
            "height": "24px",
            "justify_content": null,
            "justify_items": null,
            "left": null,
            "margin": null,
            "max_height": null,
            "max_width": null,
            "min_height": null,
            "min_width": null,
            "object_fit": null,
            "object_position": null,
            "order": null,
            "overflow": null,
            "overflow_x": null,
            "overflow_y": null,
            "padding": null,
            "right": null,
            "top": null,
            "visibility": null,
            "width": "300px"
          }
        },
        "10e2a166339a40d59d945672fa6ede01": {
          "model_module": "@jupyter-widgets/controls",
          "model_name": "DescriptionStyleModel",
          "model_module_version": "1.5.0",
          "state": {
            "_model_module": "@jupyter-widgets/controls",
            "_model_module_version": "1.5.0",
            "_model_name": "DescriptionStyleModel",
            "_view_count": null,
            "_view_module": "@jupyter-widgets/base",
            "_view_module_version": "1.2.0",
            "_view_name": "StyleView",
            "description_width": ""
          }
        }
      }
    }
  },
  "nbformat": 4,
  "nbformat_minor": 0
}