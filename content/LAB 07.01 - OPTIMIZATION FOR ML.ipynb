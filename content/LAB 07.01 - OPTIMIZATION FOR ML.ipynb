{
  "cells": [
    {
      "cell_type": "markdown",
      "metadata": {
        "id": "view-in-github",
        "colab_type": "text"
      },
      "source": [
        "<a href=\"https://colab.research.google.com/github/carmc99/Introduction-to-IA-course/blob/intro%2Fpython/content/LAB%2007.01%20-%20OPTIMIZATION%20FOR%20ML.ipynb\" target=\"_parent\"><img src=\"https://colab.research.google.com/assets/colab-badge.svg\" alt=\"Open In Colab\"/></a>"
      ]
    },
    {
      "cell_type": "markdown",
      "metadata": {
        "id": "bBiIi4OqSmOu"
      },
      "source": [
        "# LAB 07.01 - Optimization for ML"
      ]
    },
    {
      "cell_type": "code",
      "execution_count": 1,
      "metadata": {
        "id": "nwSnPpOwSmOy",
        "outputId": "2f161bbf-f983-4178-a8bd-f1e4325cf851",
        "colab": {
          "base_uri": "https://localhost:8080/",
          "height": 76
        }
      },
      "outputs": [
        {
          "output_type": "display_data",
          "data": {
            "text/plain": [
              "<IPython.core.display.HTML object>"
            ],
            "text/html": [
              "\n",
              "<meta name=\"google-signin-client_id\"\n",
              "      content=\"461673936472-kdjosv61up3ac1ajeuq6qqu72upilmls.apps.googleusercontent.com\"/>\n",
              "<script src=\"https://apis.google.com/js/client:platform.js?onload=google_button_start\"></script>\n",
              "    "
            ]
          },
          "metadata": {}
        },
        {
          "output_type": "stream",
          "name": "stdout",
          "text": [
            "replicating local resources\n"
          ]
        },
        {
          "output_type": "execute_result",
          "data": {
            "text/plain": [
              "<IPython.core.display.HTML object>"
            ],
            "text/html": [
              "<h3>See <a href='https://m5knaekxo6.execute-api.us-west-2.amazonaws.com/dev-v0001/rlxmooc/web/login' target='_blank'>my courses and progress</a></h2>"
            ]
          },
          "metadata": {},
          "execution_count": 1
        }
      ],
      "source": [
        "!wget --no-cache -O init.py -q https://raw.githubusercontent.com/rramosp/ai4eng.v1/main/content/init.py\n",
        "import init; init.init(force_download=False); init.get_weblink()\n"
      ]
    },
    {
      "cell_type": "code",
      "execution_count": 2,
      "metadata": {
        "id": "wlv5avvQSmO0",
        "outputId": "edfc6768-0503-4200-de35-63682a6c7ee1",
        "colab": {
          "base_uri": "https://localhost:8080/",
          "height": 136,
          "referenced_widgets": [
            "e86971d253954263964cdf501c9bc852",
            "6d5da27648d3494f806c5defeaae52b5",
            "ab59a7d2865e425cb05b84355d54137c",
            "6b4052e9273b49769eb7e79313378b47",
            "73401a72e4724f11b70c34aab7c15886",
            "1d26c2490aa64397b7f89f0ed6421b2a",
            "58c915a564e842f1bdab95fd59029fc3",
            "8988d9c704a6467abd37f3c6dea69e6b",
            "e87fe0aaac3b4df2a0ec82cc6cc00b73",
            "c8a4f261aea440418f9b6f5a438864b8",
            "5513ed1e6c6b4ce59fff1c8846bb80d5",
            "0e0b6a60245547ffac3c2881ae26e49f",
            "1c5681e685764b55bdcf3cf5f985d8e0",
            "22b685aac8aa41ddb56c773a6c7f1ff7",
            "d6fcec26266948b3b40673e5398d0788",
            "dd4488d5862143ca9f6ed4b1b77a35c3",
            "54b9f8e3625449a6a27e69c40641a42c",
            "afe5caf6c68246cf98f32074546a49eb",
            "4402855c16a5484d84c41cbd3c01e36a"
          ]
        }
      },
      "outputs": [
        {
          "output_type": "stream",
          "name": "stdout",
          "text": [
            "logging in as carlos.medinac@udea.edu.co... please wait\n",
            "using course session ai4eng.v1.udea.r2::2023.1\n",
            "success!! you are logged in\n"
          ]
        }
      ],
      "source": [
        "from local.lib.rlxmoocapi import submit, session\n",
        "session.LoginSequence(endpoint=init.endpoint, course_id=init.course_id, lab_id=\"L07.01\", varname=\"student\");"
      ]
    },
    {
      "cell_type": "code",
      "execution_count": 3,
      "metadata": {
        "id": "1Q-d0PBvSmO0"
      },
      "outputs": [],
      "source": [
        "from sklearn.datasets import make_moons\n",
        "import numpy as np\n",
        "import matplotlib.pyplot as plt\n",
        "import pandas as pd\n",
        "from local.lib import mlutils\n",
        "%matplotlib inline"
      ]
    },
    {
      "cell_type": "markdown",
      "metadata": {
        "id": "fWGGmUpLSmO1"
      },
      "source": [
        "## Dataset \n",
        "\n",
        "you have data in a matrix $\\mathbf{X} \\in \\mathbb{R}^{m\\times n}$ and the corresponding labels $\\mathbf{y} \\in \\mathbb{R}^m$.\n",
        "\n",
        "each row in matrix $\\mathbf{X}$ contains one data point $\\mathbf{x}^{(i)}$\n",
        "\n",
        "$$\\begin{bmatrix}\n",
        " x^{(0)}\\\\\n",
        " x^{(1)}\\\\\n",
        " ... \\\\\n",
        " x^{(m-1)} \n",
        "\\end{bmatrix}\n",
        "$$\n",
        "\n",
        "and each data point is a vector $\\mathbf{x}^{(i)}=[x^{(i)}_0, x^{(i)}_1,...,x^{(i)}_{n-1}]$.\n",
        "\n",
        "Also, each data point has an associated label $\\mathbf{y} = [y^{(0)}, y^{(1)},..., y^{(m-1)}]$.\n",
        "\n",
        "We will be doing **binary classification** so $y^{(0)}\\in \\{0,1\\}$"
      ]
    },
    {
      "cell_type": "code",
      "execution_count": 4,
      "metadata": {
        "id": "W1xSTFQHSmO2",
        "outputId": "31e2e29a-16ee-41b3-d79e-ae93d0f18e4c",
        "colab": {
          "base_uri": "https://localhost:8080/"
        }
      },
      "outputs": [
        {
          "output_type": "stream",
          "name": "stdout",
          "text": [
            "m=200\n",
            "n=2\n"
          ]
        },
        {
          "output_type": "execute_result",
          "data": {
            "text/plain": [
              "((200, 2), (200,))"
            ]
          },
          "metadata": {},
          "execution_count": 4
        }
      ],
      "source": [
        "\n",
        "d = pd.read_csv(\"local/data/moons.csv\")\n",
        "X = d[[\"col1\", \"col2\"]].values\n",
        "y = d[\"target\"].values\n",
        "print (\"m=%d\\nn=%d\"%(X.shape[0], X.shape[1]))\n",
        "X.shape, y.shape\n"
      ]
    },
    {
      "cell_type": "code",
      "execution_count": 5,
      "metadata": {
        "id": "2yB_rZMjSmO3",
        "outputId": "fea9ec32-4378-4228-b02f-3f58c650b84d",
        "colab": {
          "base_uri": "https://localhost:8080/"
        }
      },
      "outputs": [
        {
          "output_type": "stream",
          "name": "stdout",
          "text": [
            "[[ 1.303374   -0.81478084]\n",
            " [-0.98727894 -0.06456482]\n",
            " [ 2.317555    0.44925394]\n",
            " [ 0.85310268 -0.22083508]\n",
            " [-0.97006406  0.64095693]\n",
            " [ 1.65849049 -0.2342485 ]\n",
            " [ 0.8684624  -0.28940167]\n",
            " [ 0.05631143  0.00296565]\n",
            " [ 0.88824669 -0.12888889]\n",
            " [ 0.9925954   0.31451716]]\n",
            "[1 0 1 1 0 1 1 1 1 0]\n"
          ]
        }
      ],
      "source": [
        "\n",
        "print (X[:10])\n",
        "print (y[:10])\n"
      ]
    },
    {
      "cell_type": "code",
      "execution_count": 6,
      "metadata": {
        "id": "BesksDr3SmO3",
        "outputId": "57166b3d-2e9d-4915-cef8-86ad744cdde8",
        "colab": {
          "base_uri": "https://localhost:8080/",
          "height": 430
        }
      },
      "outputs": [
        {
          "output_type": "display_data",
          "data": {
            "text/plain": [
              "<Figure size 640x480 with 1 Axes>"
            ],
            "image/png": "[encoded data removed]"
          },
          "metadata": {}
        }
      ],
      "source": [
        "\n",
        "plt.scatter(X[:,0][y==0], X[:,1][y==0], color=\"red\", label=\"class 0\")\n",
        "plt.scatter(X[:,0][y==1], X[:,1][y==1], color=\"blue\", label=\"class 1\")\n",
        "plt.legend();\n"
      ]
    },
    {
      "cell_type": "markdown",
      "metadata": {
        "id": "5rIan6FMSmO4"
      },
      "source": [
        "## Task 1: Create a prediction function\n",
        "\n",
        "**complete the following prediction function** which accepts:\n",
        "    \n",
        "- $\\mathbf{\\theta} = [\\theta_0, \\theta_1,... \\theta_{n-1}] \\in \\mathbb{R}^n$, a `numpy` vector.\n",
        "- $b  \\in \\mathbb{R}$ , a `float`.\n",
        "- $\\mathbf{X} \\in \\mathbb{R}^{m\\times n}$, a `numpy` 2D array.\n",
        "\n",
        "and returns\n",
        "\n",
        "- $\\hat{\\mathbf{y}} = [\\hat{y}^{(0)}, \\hat{y}^{(1)}, ..., \\hat{y}^{(m-1)}] \\in \\mathbb{R}^m$ defined as follows\n",
        "\n",
        "$$\\hat{y}^{(i)} = \\text{sigm}(\\mathbf{\\theta} \\cdot \\mathbf{x}^{(i)} + b) = \\text{sigm}(\\theta_0 x^{(i)}_0 + \\theta_1 x^{(i)}_1 + b)$$\n",
        "\n",
        "with \n",
        "\n",
        "$$\\text{sigm}(z) = \\frac{1}{1+e^{-z}}$$\n",
        "\n",
        "note that we can also express the prediction vector $\\hat{\\mathbf{y}}$ over the whole dataset as\n",
        "\n",
        "$$\\hat{\\mathbf{y}} = \\text{sigm}(\\mathbf{\\theta} \\cdot \\mathbf{X} + b)$$\n",
        "\n",
        "observe that for any $z$, the sigmoid function squeshes its value between 0 and 1. It can  be simply seen as a continuous **step** function which converts any negative value into 0, and any positive value into 1.\n",
        "\n",
        "**challenge**: use only one line of python code (not counting the $\\text{sigm}$ definition)\n",
        "\n",
        "**warn**: your function must work with any $\\mathbf{X} \\in \\mathbb{R}^{m\\times n}$ and  $\\mathbf{\\theta} \\in \\mathbb{R}^n$, for any $m$ and $n$, not only for $n=2$"
      ]
    },
    {
      "cell_type": "code",
      "execution_count": null,
      "metadata": {
        "id": "FKvvqlpPSmO5",
        "outputId": "a4c43d99-26ba-402c-ffa4-802a6d90f715"
      },
      "outputs": [
        {
          "data": {
            "text/plain": [
              "<matplotlib.lines.Line2D at 0x7f23f42aedd0>"
            ]
          },
          "execution_count": 3,
          "metadata": {},
          "output_type": "execute_result"
        },
        {
          "data": {
            "image/png": "[encoded data removed]",
            "text/plain": [
              "<Figure size 432x288 with 1 Axes>"
            ]
          },
          "metadata": {
            "needs_background": "light"
          },
          "output_type": "display_data"
        }
      ],
      "source": [
        "\n",
        "z = np.linspace(-10,10,100)\n",
        "sigm = lambda x: 1/(1+np.exp(-x))\n",
        "plt.plot(z, sigm(z)); plt.grid(); plt.xlabel(\"z\"); plt.ylabel(\"sigm(z)\")\n",
        "plt.axhline(0.5, color=\"black\"); plt.axvline(0, color=\"black\")\n"
      ]
    },
    {
      "cell_type": "code",
      "execution_count": null,
      "metadata": {
        "id": "dEjD38VISmO6"
      },
      "outputs": [],
      "source": []
    },
    {
      "cell_type": "code",
      "execution_count": 7,
      "metadata": {
        "id": "TYxjVkHUSmO7"
      },
      "outputs": [],
      "source": [
        "import numpy as np\n",
        "\n",
        "def prediction(t, b, X):\n",
        "    sigm = lambda z: 1 / (1 + np.exp(-z))\n",
        "    yhat = sigm(X @ t + b)\n",
        "    return yhat"
      ]
    },
    {
      "cell_type": "markdown",
      "metadata": {
        "id": "sNbq3sGUSmO7"
      },
      "source": [
        "check manually your code. The following should yield a vector with 200 elements, whose sum should be 99.97 at its four first elements \n",
        "\n",
        "    [0.02328672 0.91257015 0.03781132 0.16139629 ... ]"
      ]
    },
    {
      "cell_type": "code",
      "execution_count": 8,
      "metadata": {
        "id": "Z1YbjTc5SmO7",
        "outputId": "d665b74e-3e62-4304-f6e0-1b3484ca26a3",
        "colab": {
          "base_uri": "https://localhost:8080/"
        }
      },
      "outputs": [
        {
          "output_type": "stream",
          "name": "stdout",
          "text": [
            "(200,)\n",
            "99.97386377320545\n",
            "[0.02328672 0.91257015 0.03781132 0.16139629 0.97638655 0.03607275\n",
            " 0.13994725 0.59707888 0.17736962 0.29814299 0.65755661 0.1771665\n",
            " 0.10336722 0.36797186 0.04604533 0.09808586 0.56288781 0.13838998\n",
            " 0.85687064 0.05004791 0.02243482 0.10694533 0.66303597 0.05995927\n",
            " 0.5648827  0.03165357 0.17804726 0.98365697 0.08950736 0.17469931\n",
            " 0.03471958 0.93813354 0.05558113 0.6827537  0.10439341 0.0357004\n",
            " 0.19535612 0.97352349 0.58294619 0.11848779 0.64419508 0.94637233\n",
            " 0.4612505  0.96468022 0.1091973  0.9605648  0.04208797 0.86259254\n",
            " 0.02494794 0.8807287  0.24871015 0.94949941 0.97747638 0.06270446\n",
            " 0.97809036 0.5477603  0.05661584 0.98141433 0.02484988 0.94894862\n",
            " 0.58416607 0.76381496 0.36141804 0.84771584 0.16951545 0.88137323\n",
            " 0.96772376 0.0273022  0.43314501 0.89612832 0.86652099 0.9318912\n",
            " 0.66531857 0.98465757 0.01876907 0.0682854  0.91618647 0.96553816\n",
            " 0.67409963 0.43668183 0.3977055  0.24321165 0.69574722 0.04491925\n",
            " 0.1119693  0.02306961 0.04528634 0.10014058 0.04712416 0.30797157\n",
            " 0.95817597 0.03392095 0.60514889 0.06472612 0.34814159 0.9639904\n",
            " 0.63448775 0.95037498 0.95805031 0.97508267 0.89041751 0.87476677\n",
            " 0.05665916 0.97904327 0.11864747 0.55311165 0.81724032 0.94256753\n",
            " 0.07224916 0.04882344 0.97316194 0.85889144 0.94822145 0.06892718\n",
            " 0.61466904 0.01599037 0.91495974 0.81595554 0.20128128 0.78771593\n",
            " 0.76263319 0.68163979 0.94591105 0.0231061  0.54592907 0.79990745\n",
            " 0.80074137 0.34843172 0.07084613 0.9772565  0.30895417 0.95269949\n",
            " 0.1671651  0.70559761 0.00785656 0.33772067 0.03987279 0.94621878\n",
            " 0.88046924 0.03591547 0.96063594 0.94795017 0.80540486 0.03490292\n",
            " 0.26098632 0.21860677 0.55835667 0.12158367 0.98436662 0.02829939\n",
            " 0.94893523 0.88955562 0.82298945 0.96543914 0.04244038 0.96221766\n",
            " 0.57343511 0.09026756 0.07671437 0.96098677 0.54319756 0.61619537\n",
            " 0.03204009 0.96727823 0.0658985  0.11303289 0.64048045 0.80388491\n",
            " 0.22333058 0.84354772 0.92846589 0.26403884 0.97407814 0.97219881\n",
            " 0.97367449 0.2189301  0.06723228 0.81025717 0.02930671 0.03592065\n",
            " 0.88085375 0.95777161 0.95975867 0.85554001 0.96734573 0.76952622\n",
            " 0.04370447 0.82137535 0.03089646 0.52977519 0.06320069 0.60691788\n",
            " 0.22374885 0.38813177 0.16200154 0.01663967 0.54415955 0.97510455\n",
            " 0.28021284 0.97090871]\n"
          ]
        }
      ],
      "source": [
        "t,b = np.r_[[-2,2]], 0.5\n",
        "yhat = prediction(t,b,X)\n",
        "print (yhat.shape)\n",
        "print (np.sum(yhat))\n",
        "print (yhat)"
      ]
    },
    {
      "cell_type": "markdown",
      "metadata": {
        "id": "0FlOvjkRSmO8"
      },
      "source": [
        "**submit your code**"
      ]
    },
    {
      "cell_type": "code",
      "execution_count": 9,
      "metadata": {
        "scrolled": true,
        "id": "mxtEiB67SmO8",
        "outputId": "bae3dbd7-e1e9-48ec-a67a-c74275745b30",
        "colab": {
          "base_uri": "https://localhost:8080/",
          "height": 163
        }
      },
      "outputs": [
        {
          "output_type": "display_data",
          "data": {
            "text/plain": [
              "<IPython.core.display.HTML object>"
            ],
            "text/html": [
              "\n",
              "                    <b>task_01 submitted.</b> <b><font color=\"blue\">your grade is 5</font></b> \n",
              "                    <p/><pre>----- grader message -------</pre><br/>testing with 100 random calls<br/><br/><b>correct</b><pre>----------------------------</pre>\n",
              "                    <p/><p/>\n",
              "                    <div style=\"font-size:10px\"><b>SUBMISSION CODE</b> Q1GNnEhIYloapfV1ThJ6zzwnFIyDk1dmLai28U0hxXWXxhd5rhvR5gH9/VtcI/7cTzq28I6w1PdDKa2J5SqzvYSKnKgfukFBpczbcs1ZNrS5/jaZpiOWZXdnCRGsAd9fKTaeyUFkrifw6l4Q3EsCmM35c0B3SGQ/6zrKndVjY8k=</div>\n",
              "                    "
            ]
          },
          "metadata": {}
        }
      ],
      "source": [
        "student.submit_task(globals(), task_id=\"task_01\");"
      ]
    },
    {
      "cell_type": "code",
      "execution_count": null,
      "metadata": {
        "id": "i-7Q-sIrSmO8"
      },
      "outputs": [],
      "source": []
    },
    {
      "cell_type": "code",
      "execution_count": null,
      "metadata": {
        "id": "5zXNQrOUSmO8"
      },
      "outputs": [],
      "source": []
    },
    {
      "cell_type": "code",
      "execution_count": null,
      "metadata": {
        "id": "R3u8xURzSmO9"
      },
      "outputs": [],
      "source": []
    },
    {
      "cell_type": "markdown",
      "metadata": {
        "id": "wK2Dpxx-SmO9"
      },
      "source": [
        "## Task 2: Create the loss function\n",
        "\n",
        "accepting the following paramters\n",
        "\n",
        "- $\\mathbf{\\theta} = [\\theta_0, \\theta_1] \\in \\mathbb{R}^n$, a `numpy` vector.\n",
        "- $b  \\in \\mathbb{R}$ , a `float`.\n",
        "- $\\mathbf{X} \\in \\mathbb{R}^{m\\times n}$, a `numpy` 2D array.\n",
        "- $\\mathbf{y} \\in \\mathbb{R}^m$, a `numpy` vector.\n",
        "\n",
        "\n",
        "$$\\text{loss}(\\theta, b, \\mathbf{X} , \\mathbf{y}) = \\frac{1}{m}\\sum_{i=0}^{m-1}(\\hat{y}^{(i)}-y^{(i)})^2$$\n",
        "\n",
        "**challenge**: use only one line of python (not counting the `sigm` and `prediction` functions)."
      ]
    },
    {
      "cell_type": "code",
      "execution_count": 10,
      "metadata": {
        "id": "VkdLIZ1ySmO9"
      },
      "outputs": [],
      "source": [
        "import numpy as np\n",
        "\n",
        "def loss(t, b, X, y):\n",
        "    sigm = lambda z: 1 / (1 + np.exp(-z))\n",
        "    yhat = sigm(X @ t + b)\n",
        "    result = np.mean((yhat - y) ** 2)\n",
        "    return result\n"
      ]
    },
    {
      "cell_type": "markdown",
      "metadata": {
        "id": "Xw04y3wkSmO9"
      },
      "source": [
        "check manually your code, you should get a loss of 0.664 approx."
      ]
    },
    {
      "cell_type": "code",
      "execution_count": 11,
      "metadata": {
        "id": "CZ1oom-jSmO9",
        "outputId": "4cf1104c-1327-413f-d6b7-8e2eb78fcdc6",
        "colab": {
          "base_uri": "https://localhost:8080/"
        }
      },
      "outputs": [
        {
          "output_type": "execute_result",
          "data": {
            "text/plain": [
              "0.6640737783637011"
            ]
          },
          "metadata": {},
          "execution_count": 11
        }
      ],
      "source": [
        "t,b = np.r_[[-2,2]], 0.5\n",
        "loss(t,b,X,y)"
      ]
    },
    {
      "cell_type": "markdown",
      "metadata": {
        "id": "zV0MTelkSmO-"
      },
      "source": [
        "**submit your code**"
      ]
    },
    {
      "cell_type": "code",
      "execution_count": 12,
      "metadata": {
        "scrolled": false,
        "id": "9M_iWkIJSmO-",
        "outputId": "89d9d76c-3a65-47f9-ef81-caf7edb4f492",
        "colab": {
          "base_uri": "https://localhost:8080/",
          "height": 163
        }
      },
      "outputs": [
        {
          "output_type": "display_data",
          "data": {
            "text/plain": [
              "<IPython.core.display.HTML object>"
            ],
            "text/html": [
              "\n",
              "                    <b>task_02 submitted.</b> <b><font color=\"blue\">your grade is 5</font></b> \n",
              "                    <p/><pre>----- grader message -------</pre><br/>testing with 100 random calls<br/><br/><b>correct</b><pre>----------------------------</pre>\n",
              "                    <p/><p/>\n",
              "                    <div style=\"font-size:10px\"><b>SUBMISSION CODE</b> ierbHHblbM+lGNqNuXQfpT1snHP8jT44e67Wua8V4aZWpjhPvKTygVmWlAKdiBmoq2uAO/Ss/ofSg2ytY6aRaCHjchqzn5f+J7gaSLtBhhLnMFuB4avuBkbDjLnWkncsc8qWSkT8ZTAPkKpynso4ReaT7koKdC19nMRE2n7pAP4=</div>\n",
              "                    "
            ]
          },
          "metadata": {}
        }
      ],
      "source": [
        "student.submit_task(globals(), task_id=\"task_02\");"
      ]
    },
    {
      "cell_type": "code",
      "execution_count": null,
      "metadata": {
        "id": "3yfqBMfbSmO-"
      },
      "outputs": [],
      "source": []
    },
    {
      "cell_type": "markdown",
      "metadata": {
        "id": "bSQcI9WKSmO-"
      },
      "source": [
        "## Task 3: Obtain the best $\\theta$ and $b$ with black box optimization\n",
        "\n",
        "Complete the following function so that it returns the best $\\theta$ and $b$ for a given data set.\n",
        "\n",
        "Observe that \n",
        "\n",
        "- `x0` in `scipy.optimize.minimize` must be a vector of three items, the first two corresponding to $\\theta_0$ and $\\theta_1$, and the last one to $b$. \n",
        "- the return value of the optimizer `r.x` will also contain three items, and you will have to separate the first two into `t` and the last one into `b`. \n",
        "- you will have to adapt your `loss` function created before so that it extracts $\\theta$ and $b$ from the variable `params`."
      ]
    },
    {
      "cell_type": "code",
      "execution_count": 20,
      "metadata": {
        "id": "BNvpwDTDSmO_"
      },
      "outputs": [],
      "source": [
        "def fit(X,y):\n",
        "    from scipy.optimize import minimize\n",
        "    \n",
        "  \n",
        "    def loss(params):\n",
        "        t = params[:-1]  # extract t from params\n",
        "        b = params[-1]   # extract b from params\n",
        "        sigm = lambda z: 1 / (1 + np.exp(-z))\n",
        "        yhat = sigm(X @ t + b)\n",
        "        return np.mean((yhat - y) ** 2)\n",
        "    \n",
        "    tinit = np.zeros(shape=X.shape[1] + 1)  # keep this initialization\n",
        "    r = minimize(loss, tinit)  # complete the call to minimize\n",
        "    t = r.x[:-1]  # extract t from r.x\n",
        "    b = r.x[-1]   # extract b from r.x\n",
        "    return t, b"
      ]
    },
    {
      "cell_type": "code",
      "execution_count": 14,
      "metadata": {
        "id": "J5o6smgpSmO_"
      },
      "outputs": [],
      "source": [
        "t, b = fit(X,y)"
      ]
    },
    {
      "cell_type": "markdown",
      "metadata": {
        "id": "_y1cBncvSmO_"
      },
      "source": [
        "check manually your code, you should get an accuracy of about 84%-87%, and a classification frontier similar to this one.\n",
        "\n",
        "**Observe** how we convert the sigmoid output which can be any number $\\in [0,1]$, into a discrete classification (0 or 1) by thresholding on 0.5"
      ]
    },
    {
      "cell_type": "code",
      "execution_count": 15,
      "metadata": {
        "id": "3-Z4gYiPSmO_",
        "outputId": "945ad087-78de-4f91-f7c8-dfb685cb531d",
        "colab": {
          "base_uri": "https://localhost:8080/",
          "height": 265
        }
      },
      "outputs": [
        {
          "output_type": "execute_result",
          "data": {
            "image/png": "[encoded data removed]",
            "text/plain": [
              "<IPython.core.display.Image object>"
            ]
          },
          "metadata": {},
          "execution_count": 15
        }
      ],
      "source": [
        "\n",
        "from IPython.display import Image\n",
        "Image(filename='local/imgs/logregmoons.png')\n"
      ]
    },
    {
      "cell_type": "code",
      "execution_count": 16,
      "metadata": {
        "id": "nWEyGBgmSmPA",
        "outputId": "9c454704-5657-4199-f1b0-bbb05794ed46",
        "colab": {
          "base_uri": "https://localhost:8080/"
        }
      },
      "outputs": [
        {
          "output_type": "execute_result",
          "data": {
            "text/plain": [
              "(array([ 1.060626  , -3.83856858]), 0.36707481271628356)"
            ]
          },
          "metadata": {},
          "execution_count": 16
        }
      ],
      "source": [
        "t, b"
      ]
    },
    {
      "cell_type": "code",
      "execution_count": 17,
      "metadata": {
        "id": "Pams1j38SmPA",
        "outputId": "c55fb232-8735-433a-fc04-da3979add688",
        "colab": {
          "base_uri": "https://localhost:8080/",
          "height": 448
        }
      },
      "outputs": [
        {
          "output_type": "execute_result",
          "data": {
            "text/plain": [
              "(0.517275, 0.482725)"
            ]
          },
          "metadata": {},
          "execution_count": 17
        },
        {
          "output_type": "display_data",
          "data": {
            "text/plain": [
              "<Figure size 640x480 with 1 Axes>"
            ],
            "image/png": "[encoded data removed]"
          },
          "metadata": {}
        }
      ],
      "source": [
        "mlutils.plot_2Ddata_with_boundary(lambda X: prediction(t,b,X)>.5, X, y)"
      ]
    },
    {
      "cell_type": "code",
      "execution_count": 18,
      "metadata": {
        "id": "RkHxXWFgSmPA",
        "outputId": "d4be91b6-3700-4d66-f702-accd96ab08b9",
        "colab": {
          "base_uri": "https://localhost:8080/"
        }
      },
      "outputs": [
        {
          "output_type": "stream",
          "name": "stdout",
          "text": [
            "accuracy 0.860\n"
          ]
        }
      ],
      "source": [
        "acc = np.mean( (prediction(t,b,X)>.5)==y)\n",
        "print (\"accuracy %.3f\"%acc)"
      ]
    },
    {
      "cell_type": "code",
      "execution_count": null,
      "metadata": {
        "id": "KyXUkM1wSmPA"
      },
      "outputs": [],
      "source": []
    },
    {
      "cell_type": "markdown",
      "metadata": {
        "id": "t642tsbzSmPA"
      },
      "source": [
        "**submit your code**"
      ]
    },
    {
      "cell_type": "code",
      "execution_count": 21,
      "metadata": {
        "scrolled": false,
        "id": "FZsImrAdSmPA",
        "outputId": "f2d0cd06-f48a-495b-fdd5-413007c46176",
        "colab": {
          "base_uri": "https://localhost:8080/",
          "height": 163
        }
      },
      "outputs": [
        {
          "output_type": "display_data",
          "data": {
            "text/plain": [
              "<IPython.core.display.HTML object>"
            ],
            "text/html": [
              "\n",
              "                    <b>task_03 submitted.</b> <b><font color=\"blue\">your grade is 5</font></b> \n",
              "                    <p/><pre>----- grader message -------</pre><br/>testing with 100 random calls<br/><br/><b>correct</b><pre>----------------------------</pre>\n",
              "                    <p/><p/>\n",
              "                    <div style=\"font-size:10px\"><b>SUBMISSION CODE</b> mrzWmXeMuV1lPwW8TWvLcntNC/fdWlG7gPr0tXZM6TLi4coR5+6XOW4Hdg6y+DqspvbU4BYb9fKQI00CzWwuYLfCO3rqKZhrorOWWpGvgtRl7/jXZcSD85gc0udxbKmncNJP/hlky0RYCJ0SrXTz3RtGqTXVftzjsSNeMfilu3U=</div>\n",
              "                    "
            ]
          },
          "metadata": {}
        }
      ],
      "source": [
        "student.submit_task(globals(), task_id=\"task_03\");"
      ]
    },
    {
      "cell_type": "code",
      "execution_count": null,
      "metadata": {
        "id": "oDjqQ7_bSmPB"
      },
      "outputs": [],
      "source": []
    },
    {
      "cell_type": "code",
      "execution_count": null,
      "metadata": {
        "id": "ACnw7h0VSmPB"
      },
      "outputs": [],
      "source": []
    }
  ],
  "metadata": {
    "kernelspec": {
      "display_name": "Python 3",
      "language": "python",
      "name": "python3"
    },
    "language_info": {
      "codemirror_mode": {
        "name": "ipython",
        "version": 3
      },
      "file_extension": ".py",
      "mimetype": "text/x-python",
      "name": "python",
      "nbconvert_exporter": "python",
      "pygments_lexer": "ipython3",
      "version": "3.7.3"
    },
    "colab": {
      "provenance": [],
      "include_colab_link": true
    },
    "widgets": {
      "application/vnd.jupyter.widget-state+json": {
        "e86971d253954263964cdf501c9bc852": {
          "model_module": "@jupyter-widgets/controls",
          "model_name": "HBoxModel",
          "model_module_version": "1.5.0",
          "state": {
            "_dom_classes": [],
            "_model_module": "@jupyter-widgets/controls",
            "_model_module_version": "1.5.0",
            "_model_name": "HBoxModel",
            "_view_count": null,
            "_view_module": "@jupyter-widgets/controls",
            "_view_module_version": "1.5.0",
            "_view_name": "HBoxView",
            "box_style": "",
            "children": [
              "IPY_MODEL_6d5da27648d3494f806c5defeaae52b5",
              "IPY_MODEL_ab59a7d2865e425cb05b84355d54137c",
              "IPY_MODEL_6b4052e9273b49769eb7e79313378b47",
              "IPY_MODEL_73401a72e4724f11b70c34aab7c15886"
            ],
            "layout": "IPY_MODEL_1d26c2490aa64397b7f89f0ed6421b2a"
          }
        },
        "6d5da27648d3494f806c5defeaae52b5": {
          "model_module": "@jupyter-widgets/controls",
          "model_name": "VBoxModel",
          "model_module_version": "1.5.0",
          "state": {
            "_dom_classes": [],
            "_model_module": "@jupyter-widgets/controls",
            "_model_module_version": "1.5.0",
            "_model_name": "VBoxModel",
            "_view_count": null,
            "_view_module": "@jupyter-widgets/controls",
            "_view_module_version": "1.5.0",
            "_view_name": "VBoxView",
            "box_style": "",
            "children": [
              "IPY_MODEL_58c915a564e842f1bdab95fd59029fc3",
              "IPY_MODEL_8988d9c704a6467abd37f3c6dea69e6b"
            ],
            "layout": "IPY_MODEL_e87fe0aaac3b4df2a0ec82cc6cc00b73"
          }
        },
        "ab59a7d2865e425cb05b84355d54137c": {
          "model_module": "@jupyter-widgets/controls",
          "model_name": "ButtonModel",
          "model_module_version": "1.5.0",
          "state": {
            "_dom_classes": [
              "login_button"
            ],
            "_model_module": "@jupyter-widgets/controls",
            "_model_module_version": "1.5.0",
            "_model_name": "ButtonModel",
            "_view_count": null,
            "_view_module": "@jupyter-widgets/controls",
            "_view_module_version": "1.5.0",
            "_view_name": "ButtonView",
            "button_style": "",
            "description": "Login with email",
            "disabled": false,
            "icon": "",
            "layout": "IPY_MODEL_c8a4f261aea440418f9b6f5a438864b8",
            "style": "IPY_MODEL_5513ed1e6c6b4ce59fff1c8846bb80d5",
            "tooltip": ""
          }
        },
        "6b4052e9273b49769eb7e79313378b47": {
          "model_module": "@jupyter-widgets/controls",
          "model_name": "HTMLModel",
          "model_module_version": "1.5.0",
          "state": {
            "_dom_classes": [],
            "_model_module": "@jupyter-widgets/controls",
            "_model_module_version": "1.5.0",
            "_model_name": "HTMLModel",
            "_view_count": null,
            "_view_module": "@jupyter-widgets/controls",
            "_view_module_version": "1.5.0",
            "_view_name": "HTMLView",
            "description": "",
            "description_tooltip": null,
            "layout": "IPY_MODEL_0e0b6a60245547ffac3c2881ae26e49f",
            "placeholder": "​",
            "style": "IPY_MODEL_1c5681e685764b55bdcf3cf5f985d8e0",
            "value": "<center><big>or</big></center>"
          }
        },
        "73401a72e4724f11b70c34aab7c15886": {
          "model_module": "@jupyter-widgets/controls",
          "model_name": "ButtonModel",
          "model_module_version": "1.5.0",
          "state": {
            "_dom_classes": [
              "google_button"
            ],
            "_model_module": "@jupyter-widgets/controls",
            "_model_module_version": "1.5.0",
            "_model_name": "ButtonModel",
            "_view_count": null,
            "_view_module": "@jupyter-widgets/controls",
            "_view_module_version": "1.5.0",
            "_view_name": "ButtonView",
            "button_style": "",
            "description": "Login with Google",
            "disabled": false,
            "icon": "",
            "layout": "IPY_MODEL_22b685aac8aa41ddb56c773a6c7f1ff7",
            "style": "IPY_MODEL_d6fcec26266948b3b40673e5398d0788",
            "tooltip": ""
          }
        },
        "1d26c2490aa64397b7f89f0ed6421b2a": {
          "model_module": "@jupyter-widgets/base",
          "model_name": "LayoutModel",
          "model_module_version": "1.2.0",
          "state": {
            "_model_module": "@jupyter-widgets/base",
            "_model_module_version": "1.2.0",
            "_model_name": "LayoutModel",
            "_view_count": null,
            "_view_module": "@jupyter-widgets/base",
            "_view_module_version": "1.2.0",
            "_view_name": "LayoutView",
            "align_content": null,
            "align_items": null,
            "align_self": null,
            "border": null,
            "bottom": null,
            "display": null,
            "flex": null,
            "flex_flow": null,
            "grid_area": null,
            "grid_auto_columns": null,
            "grid_auto_flow": null,
            "grid_auto_rows": null,
            "grid_column": null,
            "grid_gap": null,
            "grid_row": null,
            "grid_template_areas": null,
            "grid_template_columns": null,
            "grid_template_rows": null,
            "height": null,
            "justify_content": null,
            "justify_items": null,
            "left": null,
            "margin": null,
            "max_height": null,
            "max_width": null,
            "min_height": null,
            "min_width": null,
            "object_fit": null,
            "object_position": null,
            "order": null,
            "overflow": null,
            "overflow_x": null,
            "overflow_y": null,
            "padding": null,
            "right": null,
            "top": null,
            "visibility": null,
            "width": null
          }
        },
        "58c915a564e842f1bdab95fd59029fc3": {
          "model_module": "@jupyter-widgets/controls",
          "model_name": "TextModel",
          "model_module_version": "1.5.0",
          "state": {
            "_dom_classes": [],
            "_model_module": "@jupyter-widgets/controls",
            "_model_module_version": "1.5.0",
            "_model_name": "TextModel",
            "_view_count": null,
            "_view_module": "@jupyter-widgets/controls",
            "_view_module_version": "1.5.0",
            "_view_name": "TextView",
            "continuous_update": true,
            "description": "email",
            "description_tooltip": null,
            "disabled": false,
            "layout": "IPY_MODEL_dd4488d5862143ca9f6ed4b1b77a35c3",
            "placeholder": "​",
            "style": "IPY_MODEL_54b9f8e3625449a6a27e69c40641a42c",
            "value": ""
          }
        },
        "8988d9c704a6467abd37f3c6dea69e6b": {
          "model_module": "@jupyter-widgets/controls",
          "model_name": "PasswordModel",
          "model_module_version": "1.5.0",
          "state": {
            "_dom_classes": [],
            "_model_module": "@jupyter-widgets/controls",
            "_model_module_version": "1.5.0",
            "_model_name": "PasswordModel",
            "_view_count": null,
            "_view_module": "@jupyter-widgets/controls",
            "_view_module_version": "1.5.0",
            "_view_name": "PasswordView",
            "continuous_update": true,
            "description": "password",
            "description_tooltip": null,
            "disabled": false,
            "layout": "IPY_MODEL_afe5caf6c68246cf98f32074546a49eb",
            "placeholder": "​",
            "style": "IPY_MODEL_4402855c16a5484d84c41cbd3c01e36a",
            "value": ""
          }
        },
        "e87fe0aaac3b4df2a0ec82cc6cc00b73": {
          "model_module": "@jupyter-widgets/base",
          "model_name": "LayoutModel",
          "model_module_version": "1.2.0",
          "state": {
            "_model_module": "@jupyter-widgets/base",
            "_model_module_version": "1.2.0",
            "_model_name": "LayoutModel",
            "_view_count": null,
            "_view_module": "@jupyter-widgets/base",
            "_view_module_version": "1.2.0",
            "_view_name": "LayoutView",
            "align_content": null,
            "align_items": null,
            "align_self": null,
            "border": null,
            "bottom": null,
            "display": null,
            "flex": null,
            "flex_flow": null,
            "grid_area": null,
            "grid_auto_columns": null,
            "grid_auto_flow": null,
            "grid_auto_rows": null,
            "grid_column": null,
            "grid_gap": null,
            "grid_row": null,
            "grid_template_areas": null,
            "grid_template_columns": null,
            "grid_template_rows": null,
            "height": null,
            "justify_content": null,
            "justify_items": null,
            "left": null,
            "margin": null,
            "max_height": null,
            "max_width": null,
            "min_height": null,
            "min_width": null,
            "object_fit": null,
            "object_position": null,
            "order": null,
            "overflow": null,
            "overflow_x": null,
            "overflow_y": null,
            "padding": null,
            "right": null,
            "top": null,
            "visibility": null,
            "width": null
          }
        },
        "c8a4f261aea440418f9b6f5a438864b8": {
          "model_module": "@jupyter-widgets/base",
          "model_name": "LayoutModel",
          "model_module_version": "1.2.0",
          "state": {
            "_model_module": "@jupyter-widgets/base",
            "_model_module_version": "1.2.0",
            "_model_name": "LayoutModel",
            "_view_count": null,
            "_view_module": "@jupyter-widgets/base",
            "_view_module_version": "1.2.0",
            "_view_name": "LayoutView",
            "align_content": null,
            "align_items": null,
            "align_self": null,
            "border": null,
            "bottom": null,
            "display": null,
            "flex": null,
            "flex_flow": null,
            "grid_area": null,
            "grid_auto_columns": null,
            "grid_auto_flow": null,
            "grid_auto_rows": null,
            "grid_column": null,
            "grid_gap": null,
            "grid_row": null,
            "grid_template_areas": null,
            "grid_template_columns": null,
            "grid_template_rows": null,
            "height": "53px",
            "justify_content": null,
            "justify_items": null,
            "left": null,
            "margin": null,
            "max_height": null,
            "max_width": null,
            "min_height": null,
            "min_width": null,
            "object_fit": null,
            "object_position": null,
            "order": null,
            "overflow": null,
            "overflow_x": null,
            "overflow_y": null,
            "padding": null,
            "right": null,
            "top": null,
            "visibility": null,
            "width": "150px"
          }
        },
        "5513ed1e6c6b4ce59fff1c8846bb80d5": {
          "model_module": "@jupyter-widgets/controls",
          "model_name": "ButtonStyleModel",
          "model_module_version": "1.5.0",
          "state": {
            "_model_module": "@jupyter-widgets/controls",
            "_model_module_version": "1.5.0",
            "_model_name": "ButtonStyleModel",
            "_view_count": null,
            "_view_module": "@jupyter-widgets/base",
            "_view_module_version": "1.2.0",
            "_view_name": "StyleView",
            "button_color": null,
            "font_weight": ""
          }
        },
        "0e0b6a60245547ffac3c2881ae26e49f": {
          "model_module": "@jupyter-widgets/base",
          "model_name": "LayoutModel",
          "model_module_version": "1.2.0",
          "state": {
            "_model_module": "@jupyter-widgets/base",
            "_model_module_version": "1.2.0",
            "_model_name": "LayoutModel",
            "_view_count": null,
            "_view_module": "@jupyter-widgets/base",
            "_view_module_version": "1.2.0",
            "_view_name": "LayoutView",
            "align_content": null,
            "align_items": null,
            "align_self": null,
            "border": null,
            "bottom": null,
            "display": null,
            "flex": null,
            "flex_flow": null,
            "grid_area": null,
            "grid_auto_columns": null,
            "grid_auto_flow": null,
            "grid_auto_rows": null,
            "grid_column": null,
            "grid_gap": null,
            "grid_row": null,
            "grid_template_areas": null,
            "grid_template_columns": null,
            "grid_template_rows": null,
            "height": null,
            "justify_content": null,
            "justify_items": null,
            "left": null,
            "margin": null,
            "max_height": null,
            "max_width": null,
            "min_height": null,
            "min_width": null,
            "object_fit": null,
            "object_position": null,
            "order": null,
            "overflow": null,
            "overflow_x": null,
            "overflow_y": null,
            "padding": null,
            "right": null,
            "top": null,
            "visibility": null,
            "width": "100px"
          }
        },
        "1c5681e685764b55bdcf3cf5f985d8e0": {
          "model_module": "@jupyter-widgets/controls",
          "model_name": "DescriptionStyleModel",
          "model_module_version": "1.5.0",
          "state": {
            "_model_module": "@jupyter-widgets/controls",
            "_model_module_version": "1.5.0",
            "_model_name": "DescriptionStyleModel",
            "_view_count": null,
            "_view_module": "@jupyter-widgets/base",
            "_view_module_version": "1.2.0",
            "_view_name": "StyleView",
            "description_width": ""
          }
        },
        "22b685aac8aa41ddb56c773a6c7f1ff7": {
          "model_module": "@jupyter-widgets/base",
          "model_name": "LayoutModel",
          "model_module_version": "1.2.0",
          "state": {
            "_model_module": "@jupyter-widgets/base",
            "_model_module_version": "1.2.0",
            "_model_name": "LayoutModel",
            "_view_count": null,
            "_view_module": "@jupyter-widgets/base",
            "_view_module_version": "1.2.0",
            "_view_name": "LayoutView",
            "align_content": null,
            "align_items": null,
            "align_self": null,
            "border": null,
            "bottom": null,
            "display": null,
            "flex": null,
            "flex_flow": null,
            "grid_area": null,
            "grid_auto_columns": null,
            "grid_auto_flow": null,
            "grid_auto_rows": null,
            "grid_column": null,
            "grid_gap": null,
            "grid_row": null,
            "grid_template_areas": null,
            "grid_template_columns": null,
            "grid_template_rows": null,
            "height": "53px",
            "justify_content": null,
            "justify_items": null,
            "left": null,
            "margin": null,
            "max_height": null,
            "max_width": null,
            "min_height": null,
            "min_width": null,
            "object_fit": null,
            "object_position": null,
            "order": null,
            "overflow": null,
            "overflow_x": null,
            "overflow_y": null,
            "padding": null,
            "right": null,
            "top": null,
            "visibility": null,
            "width": "200px"
          }
        },
        "d6fcec26266948b3b40673e5398d0788": {
          "model_module": "@jupyter-widgets/controls",
          "model_name": "ButtonStyleModel",
          "model_module_version": "1.5.0",
          "state": {
            "_model_module": "@jupyter-widgets/controls",
            "_model_module_version": "1.5.0",
            "_model_name": "ButtonStyleModel",
            "_view_count": null,
            "_view_module": "@jupyter-widgets/base",
            "_view_module_version": "1.2.0",
            "_view_name": "StyleView",
            "button_color": null,
            "font_weight": ""
          }
        },
        "dd4488d5862143ca9f6ed4b1b77a35c3": {
          "model_module": "@jupyter-widgets/base",
          "model_name": "LayoutModel",
          "model_module_version": "1.2.0",
          "state": {
            "_model_module": "@jupyter-widgets/base",
            "_model_module_version": "1.2.0",
            "_model_name": "LayoutModel",
            "_view_count": null,
            "_view_module": "@jupyter-widgets/base",
            "_view_module_version": "1.2.0",
            "_view_name": "LayoutView",
            "align_content": null,
            "align_items": null,
            "align_self": null,
            "border": null,
            "bottom": null,
            "display": null,
            "flex": null,
            "flex_flow": null,
            "grid_area": null,
            "grid_auto_columns": null,
            "grid_auto_flow": null,
            "grid_auto_rows": null,
            "grid_column": null,
            "grid_gap": null,
            "grid_row": null,
            "grid_template_areas": null,
            "grid_template_columns": null,
            "grid_template_rows": null,
            "height": "25px",
            "justify_content": null,
            "justify_items": null,
            "left": null,
            "margin": null,
            "max_height": null,
            "max_width": null,
            "min_height": null,
            "min_width": null,
            "object_fit": null,
            "object_position": null,
            "order": null,
            "overflow": null,
            "overflow_x": null,
            "overflow_y": null,
            "padding": null,
            "right": null,
            "top": null,
            "visibility": null,
            "width": "300px"
          }
        },
        "54b9f8e3625449a6a27e69c40641a42c": {
          "model_module": "@jupyter-widgets/controls",
          "model_name": "DescriptionStyleModel",
          "model_module_version": "1.5.0",
          "state": {
            "_model_module": "@jupyter-widgets/controls",
            "_model_module_version": "1.5.0",
            "_model_name": "DescriptionStyleModel",
            "_view_count": null,
            "_view_module": "@jupyter-widgets/base",
            "_view_module_version": "1.2.0",
            "_view_name": "StyleView",
            "description_width": ""
          }
        },
        "afe5caf6c68246cf98f32074546a49eb": {
          "model_module": "@jupyter-widgets/base",
          "model_name": "LayoutModel",
          "model_module_version": "1.2.0",
          "state": {
            "_model_module": "@jupyter-widgets/base",
            "_model_module_version": "1.2.0",
            "_model_name": "LayoutModel",
            "_view_count": null,
            "_view_module": "@jupyter-widgets/base",
            "_view_module_version": "1.2.0",
            "_view_name": "LayoutView",
            "align_content": null,
            "align_items": null,
            "align_self": null,
            "border": null,
            "bottom": null,
            "display": null,
            "flex": null,
            "flex_flow": null,
            "grid_area": null,
            "grid_auto_columns": null,
            "grid_auto_flow": null,
            "grid_auto_rows": null,
            "grid_column": null,
            "grid_gap": null,
            "grid_row": null,
            "grid_template_areas": null,
            "grid_template_columns": null,
            "grid_template_rows": null,
            "height": "24px",
            "justify_content": null,
            "justify_items": null,
            "left": null,
            "margin": null,
            "max_height": null,
            "max_width": null,
            "min_height": null,
            "min_width": null,
            "object_fit": null,
            "object_position": null,
            "order": null,
            "overflow": null,
            "overflow_x": null,
            "overflow_y": null,
            "padding": null,
            "right": null,
            "top": null,
            "visibility": null,
            "width": "300px"
          }
        },
        "4402855c16a5484d84c41cbd3c01e36a": {
          "model_module": "@jupyter-widgets/controls",
          "model_name": "DescriptionStyleModel",
          "model_module_version": "1.5.0",
          "state": {
            "_model_module": "@jupyter-widgets/controls",
            "_model_module_version": "1.5.0",
            "_model_name": "DescriptionStyleModel",
            "_view_count": null,
            "_view_module": "@jupyter-widgets/base",
            "_view_module_version": "1.2.0",
            "_view_name": "StyleView",
            "description_width": ""
          }
        }
      }
    }
  },
  "nbformat": 4,
  "nbformat_minor": 0
}