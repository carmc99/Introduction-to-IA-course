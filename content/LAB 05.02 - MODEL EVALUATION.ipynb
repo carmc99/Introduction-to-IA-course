{
  "cells": [
    {
      "cell_type": "markdown",
      "metadata": {
        "id": "view-in-github",
        "colab_type": "text"
      },
      "source": [
        "<a href=\"https://colab.research.google.com/github/carmc99/Introduction-to-IA-course/blob/intro%2Fpython/content/LAB%2005.02%20-%20MODEL%20EVALUATION.ipynb\" target=\"_parent\"><img src=\"https://colab.research.google.com/assets/colab-badge.svg\" alt=\"Open In Colab\"/></a>"
      ]
    },
    {
      "cell_type": "markdown",
      "metadata": {
        "id": "5w2wQeoDI4fa"
      },
      "source": [
        "# LAB 05.02 - Model evaluation"
      ]
    },
    {
      "cell_type": "code",
      "execution_count": 1,
      "metadata": {
        "id": "4V_sEWgHI4fd",
        "outputId": "2fe13ea0-96a0-4bbf-f451-f68e9eff83fc",
        "colab": {
          "base_uri": "https://localhost:8080/",
          "height": 76
        }
      },
      "outputs": [
        {
          "output_type": "display_data",
          "data": {
            "text/plain": [
              "<IPython.core.display.HTML object>"
            ],
            "text/html": [
              "\n",
              "<meta name=\"google-signin-client_id\"\n",
              "      content=\"461673936472-kdjosv61up3ac1ajeuq6qqu72upilmls.apps.googleusercontent.com\"/>\n",
              "<script src=\"https://apis.google.com/js/client:platform.js?onload=google_button_start\"></script>\n",
              "    "
            ]
          },
          "metadata": {}
        },
        {
          "output_type": "stream",
          "name": "stdout",
          "text": [
            "replicating local resources\n"
          ]
        },
        {
          "output_type": "execute_result",
          "data": {
            "text/plain": [
              "<IPython.core.display.HTML object>"
            ],
            "text/html": [
              "<h3>See <a href='https://m5knaekxo6.execute-api.us-west-2.amazonaws.com/dev-v0001/rlxmooc/web/login' target='_blank'>my courses and progress</a></h2>"
            ]
          },
          "metadata": {},
          "execution_count": 1
        }
      ],
      "source": [
        "!wget --no-cache -O init.py -q https://raw.githubusercontent.com/rramosp/ai4eng.v1/main/content/init.py\n",
        "import init; init.init(force_download=False); init.get_weblink()\n"
      ]
    },
    {
      "cell_type": "code",
      "execution_count": 48,
      "metadata": {
        "id": "EtQ_dL6bI4ff",
        "outputId": "662a63d4-bd35-4dba-f247-88dec87ec891",
        "colab": {
          "base_uri": "https://localhost:8080/",
          "height": 98,
          "referenced_widgets": [
            "da4ff0be0b054e829576bff109c79027",
            "0beb639945404901a943c27c230f7b48",
            "dc9b05df90134c2895e1bb2a9d4f50a0",
            "f4a40d8e248542ebbf5a018e57d84cf3",
            "a9dcc19a01894092aec5b62b684c3d0a",
            "fb89aa08f31a40d28b3234409a8e534f",
            "acfff354523342b1b914128cd757a53b",
            "d3ff1caf642a456aabb3c19592101729",
            "290d535e12684c74827536aae14f6e45",
            "0becd653a41242729e134bfa8e1b576c",
            "49722f4759f44e9798e329745f288836",
            "a7867ac17fff40fe89dc00a7ef007cf8",
            "6dff0bfa814a419f8067d8c7f4c81b9e",
            "09e98d7bf17c4edb9eb75c565e615878",
            "51a454c2d50e4e88b4c04cbbad5afe03",
            "a6f997c0b3a147db9da1107202f9ce04",
            "b70199f8b861462a9636b30c0abee2b8",
            "501ebad2214d4fe0ac99e7d60f78e6ee",
            "507628b40f8f4f2691e451cdaa0a216f"
          ]
        }
      },
      "outputs": [
        {
          "output_type": "stream",
          "name": "stdout",
          "text": [
            "logging in as carlos.medinac@udea.edu.co... please wait\n",
            "using course session ai4eng.v1.udea.r2::2023.1\n",
            "success!! you are logged in\n"
          ]
        }
      ],
      "source": [
        "from local.lib.rlxmoocapi import submit, session\n",
        "session.LoginSequence(endpoint=init.endpoint, course_id=init.course_id, lab_id=\"L05.02\", varname=\"student\");"
      ]
    },
    {
      "cell_type": "markdown",
      "metadata": {
        "id": "F6wAiS0iI4ff"
      },
      "source": [
        "## Task 1: Partition randomly `numpy` arrays\n",
        "\n",
        "observe we can select specific rows and/or columns on a numpy array"
      ]
    },
    {
      "cell_type": "code",
      "execution_count": 3,
      "metadata": {
        "id": "IzbXnwklI4ff",
        "outputId": "e60ae3e5-b06b-4235-fde5-1d898e7e5e00",
        "colab": {
          "base_uri": "https://localhost:8080/"
        }
      },
      "outputs": [
        {
          "output_type": "execute_result",
          "data": {
            "text/plain": [
              "array([[ 0,  1,  2,  3,  4],\n",
              "       [ 1, 47, 96, 97, 94],\n",
              "       [ 2,  5, 84, 75, 33],\n",
              "       [ 3, 13, 31, 58, 31],\n",
              "       [ 4, 13, 10, 12, 87],\n",
              "       [ 5, 20, 81, 74, 69],\n",
              "       [ 6, 47, 70, 60, 46],\n",
              "       [ 7, 23, 91, 19, 88],\n",
              "       [ 8, 80, 17, 66, 89],\n",
              "       [ 9, 72, 65, 76, 52],\n",
              "       [10, 45, 21, 67, 32],\n",
              "       [11, 76, 68, 68, 51],\n",
              "       [12, 86, 39, 68, 21],\n",
              "       [13, 81, 85, 19, 86],\n",
              "       [14, 77, 91, 43, 37],\n",
              "       [15, 46, 20, 73,  3],\n",
              "       [16, 82, 76, 56, 64],\n",
              "       [17, 67, 21, 26, 71],\n",
              "       [18, 51, 41, 63,  1],\n",
              "       [19, 60, 22, 28, 52]])"
            ]
          },
          "metadata": {},
          "execution_count": 3
        }
      ],
      "source": [
        "import numpy as np\n",
        "\n",
        "x = np.random.randint(100, size=(20,5))\n",
        "x[:,0] = range(len(x))\n",
        "x[0,:] = range(x.shape[1])\n",
        "x"
      ]
    },
    {
      "cell_type": "code",
      "execution_count": 4,
      "metadata": {
        "id": "VP5qBHeaI4fg",
        "outputId": "5f8d8490-2372-40a5-ac01-0a5c83424bb4",
        "colab": {
          "base_uri": "https://localhost:8080/"
        }
      },
      "outputs": [
        {
          "output_type": "execute_result",
          "data": {
            "text/plain": [
              "array([[ 2,  5, 84, 75, 33],\n",
              "       [ 4, 13, 10, 12, 87],\n",
              "       [ 5, 20, 81, 74, 69]])"
            ]
          },
          "metadata": {},
          "execution_count": 4
        }
      ],
      "source": [
        "ridxs = np.r_[2,4,5]\n",
        "x[ridxs]"
      ]
    },
    {
      "cell_type": "code",
      "execution_count": 5,
      "metadata": {
        "id": "VPaktq5RI4fg",
        "outputId": "22a4174b-ba87-481b-c87e-954e3989aa21",
        "colab": {
          "base_uri": "https://localhost:8080/"
        }
      },
      "outputs": [
        {
          "output_type": "execute_result",
          "data": {
            "text/plain": [
              "array([[ 1,  3],\n",
              "       [47, 97],\n",
              "       [ 5, 75],\n",
              "       [13, 58],\n",
              "       [13, 12],\n",
              "       [20, 74],\n",
              "       [47, 60],\n",
              "       [23, 19],\n",
              "       [80, 66],\n",
              "       [72, 76],\n",
              "       [45, 67],\n",
              "       [76, 68],\n",
              "       [86, 68],\n",
              "       [81, 19],\n",
              "       [77, 43],\n",
              "       [46, 73],\n",
              "       [82, 56],\n",
              "       [67, 26],\n",
              "       [51, 63],\n",
              "       [60, 28]])"
            ]
          },
          "metadata": {},
          "execution_count": 5
        }
      ],
      "source": [
        "cidxs = np.r_[1,3]\n",
        "x[:,cidxs]"
      ]
    },
    {
      "cell_type": "code",
      "execution_count": 6,
      "metadata": {
        "id": "NyZbqSnfI4fh",
        "outputId": "4b29785a-85f9-4af5-a124-5c20a370080b",
        "colab": {
          "base_uri": "https://localhost:8080/"
        }
      },
      "outputs": [
        {
          "output_type": "execute_result",
          "data": {
            "text/plain": [
              "array([[ 5, 75],\n",
              "       [13, 12],\n",
              "       [20, 74]])"
            ]
          },
          "metadata": {},
          "execution_count": 6
        }
      ],
      "source": [
        "x[ridxs][:, cidxs]"
      ]
    },
    {
      "cell_type": "markdown",
      "metadata": {
        "id": "mgbww8lKI4fh"
      },
      "source": [
        "and the dimensions of the array are accessible through `len` and `shape`"
      ]
    },
    {
      "cell_type": "code",
      "execution_count": 7,
      "metadata": {
        "id": "bXkGeYw9I4fh",
        "outputId": "d1932824-ec1b-4752-d1e3-75063bd7ed20",
        "colab": {
          "base_uri": "https://localhost:8080/"
        }
      },
      "outputs": [
        {
          "output_type": "execute_result",
          "data": {
            "text/plain": [
              "(20, (20, 5))"
            ]
          },
          "metadata": {},
          "execution_count": 7
        }
      ],
      "source": [
        "len(x), x.shape"
      ]
    },
    {
      "cell_type": "markdown",
      "metadata": {
        "id": "svjinIyeI4fi"
      },
      "source": [
        "observe also how we can partition it"
      ]
    },
    {
      "cell_type": "code",
      "execution_count": 8,
      "metadata": {
        "id": "Zdi0ZCcVI4fi",
        "outputId": "b695ff11-5897-43c1-893a-09f68797826f",
        "colab": {
          "base_uri": "https://localhost:8080/"
        }
      },
      "outputs": [
        {
          "output_type": "execute_result",
          "data": {
            "text/plain": [
              "array([[ 0,  1,  2,  3,  4],\n",
              "       [ 1, 47, 96, 97, 94],\n",
              "       [ 2,  5, 84, 75, 33]])"
            ]
          },
          "metadata": {},
          "execution_count": 8
        }
      ],
      "source": [
        "x[:3]"
      ]
    },
    {
      "cell_type": "code",
      "execution_count": 9,
      "metadata": {
        "id": "QfcUQ8BuI4fi",
        "outputId": "035ace0a-ff71-44ad-ff9b-1dd4ecaf673c",
        "colab": {
          "base_uri": "https://localhost:8080/"
        }
      },
      "outputs": [
        {
          "output_type": "execute_result",
          "data": {
            "text/plain": [
              "array([[ 3, 13, 31, 58, 31],\n",
              "       [ 4, 13, 10, 12, 87],\n",
              "       [ 5, 20, 81, 74, 69],\n",
              "       [ 6, 47, 70, 60, 46],\n",
              "       [ 7, 23, 91, 19, 88],\n",
              "       [ 8, 80, 17, 66, 89],\n",
              "       [ 9, 72, 65, 76, 52],\n",
              "       [10, 45, 21, 67, 32],\n",
              "       [11, 76, 68, 68, 51],\n",
              "       [12, 86, 39, 68, 21],\n",
              "       [13, 81, 85, 19, 86],\n",
              "       [14, 77, 91, 43, 37],\n",
              "       [15, 46, 20, 73,  3],\n",
              "       [16, 82, 76, 56, 64],\n",
              "       [17, 67, 21, 26, 71],\n",
              "       [18, 51, 41, 63,  1],\n",
              "       [19, 60, 22, 28, 52]])"
            ]
          },
          "metadata": {},
          "execution_count": 9
        }
      ],
      "source": [
        "x[3:]"
      ]
    },
    {
      "cell_type": "markdown",
      "metadata": {
        "id": "G_RAM_aGI4fj"
      },
      "source": [
        "we can do the same thing with vectors"
      ]
    },
    {
      "cell_type": "code",
      "execution_count": 10,
      "metadata": {
        "id": "agbdu_B7I4fj",
        "outputId": "7c588366-afe7-4462-cd4b-d8b2fe01e9ca",
        "colab": {
          "base_uri": "https://localhost:8080/"
        }
      },
      "outputs": [
        {
          "output_type": "execute_result",
          "data": {
            "text/plain": [
              "array([100, 101, 102, 103, 104, 105, 106, 107, 108, 109, 110, 111, 112,\n",
              "       113, 114, 115, 116, 117, 118, 119])"
            ]
          },
          "metadata": {},
          "execution_count": 10
        }
      ],
      "source": [
        "v = np.arange(100,120)\n",
        "v"
      ]
    },
    {
      "cell_type": "code",
      "execution_count": 11,
      "metadata": {
        "id": "yabM-pCVI4fj",
        "outputId": "148ed0f1-5b98-436a-f98c-96c413a59085",
        "colab": {
          "base_uri": "https://localhost:8080/"
        }
      },
      "outputs": [
        {
          "output_type": "execute_result",
          "data": {
            "text/plain": [
              "(array([100, 101, 102, 103, 104]),\n",
              " array([105, 106, 107, 108, 109, 110, 111, 112, 113, 114, 115, 116, 117,\n",
              "        118, 119]))"
            ]
          },
          "metadata": {},
          "execution_count": 11
        }
      ],
      "source": [
        "v[:5], v[5:]"
      ]
    },
    {
      "cell_type": "markdown",
      "metadata": {
        "id": "mWGqt1obI4fj"
      },
      "source": [
        "finally, observe how we can create a random permutation of a specific vector"
      ]
    },
    {
      "cell_type": "code",
      "execution_count": 12,
      "metadata": {
        "id": "9eb8bt_nI4fk",
        "outputId": "b960f085-7a7a-43c4-fbd1-effebea95a3d",
        "colab": {
          "base_uri": "https://localhost:8080/"
        }
      },
      "outputs": [
        {
          "output_type": "execute_result",
          "data": {
            "text/plain": [
              "array([114, 110, 107, 109, 104, 113, 101, 103, 117, 108, 116, 115, 102,\n",
              "       112, 100, 119, 106, 111, 118, 105])"
            ]
          },
          "metadata": {},
          "execution_count": 12
        }
      ],
      "source": [
        "np.random.permutation(v)"
      ]
    },
    {
      "cell_type": "markdown",
      "metadata": {
        "id": "cLbpuxLII4fl"
      },
      "source": [
        "or the first natural numbers"
      ]
    },
    {
      "cell_type": "code",
      "execution_count": 13,
      "metadata": {
        "id": "t1VIwnAjI4fm",
        "outputId": "8e3d6fc9-16e3-4315-8539-1097546f7f21",
        "colab": {
          "base_uri": "https://localhost:8080/"
        }
      },
      "outputs": [
        {
          "output_type": "execute_result",
          "data": {
            "text/plain": [
              "array([13,  0,  6,  5, 16, 15,  9,  3, 12, 14,  4, 11,  7,  2, 17, 10,  8,\n",
              "       19, 18,  1])"
            ]
          },
          "metadata": {},
          "execution_count": 13
        }
      ],
      "source": [
        "p = np.random.permutation(20)\n",
        "p"
      ]
    },
    {
      "cell_type": "markdown",
      "metadata": {
        "id": "ATcViYTGI4fm"
      },
      "source": [
        "how do you interpret this?"
      ]
    },
    {
      "cell_type": "code",
      "execution_count": 14,
      "metadata": {
        "id": "kprby9vmI4fm",
        "outputId": "60d01f79-9446-4968-f75e-bd30b97c1d21",
        "colab": {
          "base_uri": "https://localhost:8080/"
        }
      },
      "outputs": [
        {
          "output_type": "execute_result",
          "data": {
            "text/plain": [
              "array([115, 109, 103, 112, 114, 104, 111, 107, 102, 117, 110, 108, 119,\n",
              "       118, 101])"
            ]
          },
          "metadata": {},
          "execution_count": 14
        }
      ],
      "source": [
        "v[p[5:]]"
      ]
    },
    {
      "cell_type": "code",
      "execution_count": 15,
      "metadata": {
        "id": "8Wz9aqciI4fm",
        "outputId": "4dda8722-174b-40e4-edc3-9ede8e6e425c",
        "colab": {
          "base_uri": "https://localhost:8080/"
        }
      },
      "outputs": [
        {
          "output_type": "execute_result",
          "data": {
            "text/plain": [
              "array([[13, 81, 85, 19, 86],\n",
              "       [ 0,  1,  2,  3,  4],\n",
              "       [ 6, 47, 70, 60, 46],\n",
              "       [ 5, 20, 81, 74, 69],\n",
              "       [16, 82, 76, 56, 64]])"
            ]
          },
          "metadata": {},
          "execution_count": 15
        }
      ],
      "source": [
        "x[p[:5]]"
      ]
    },
    {
      "cell_type": "code",
      "execution_count": null,
      "metadata": {
        "id": "9Vc3YvYFI4fn"
      },
      "outputs": [],
      "source": []
    },
    {
      "cell_type": "code",
      "execution_count": null,
      "metadata": {
        "id": "6K5JEILlI4fn"
      },
      "outputs": [],
      "source": []
    },
    {
      "cell_type": "markdown",
      "metadata": {
        "id": "cPTS5dOgI4fn"
      },
      "source": [
        "### assignment\n",
        "\n",
        "in this task you will have to complete the function  `split_data` below so that:\n",
        "\n",
        "- it accepts two arguments `X` and `y`, either of which can be any numpy array (1D, 2D, etc.) of the **same** size $n$ (observe the  `assert` statement), and a `pct` \n",
        "- creates a random permutation of the natural number from $0$ to $n-1$\n",
        "- partitions the permutations so that the first partition contains the first `n1_elements` $=$ `int(n * pct)` numbers, and the second partition the rest\n",
        "- interpret the permutation partitions components as indexes to `X` and `y` so that they are partitioned into `X1`, `X2` and `y1`, `y2` respectively\n",
        "\n",
        "note that **indexes to array** must be of type `int`. do the following to convert a float to int"
      ]
    },
    {
      "cell_type": "code",
      "execution_count": 16,
      "metadata": {
        "id": "mq3icmO_I4fn",
        "outputId": "fa3c6cc4-2fec-4614-8ff0-05934e45f313",
        "colab": {
          "base_uri": "https://localhost:8080/"
        }
      },
      "outputs": [
        {
          "output_type": "stream",
          "name": "stdout",
          "text": [
            "3.0\n",
            "3\n"
          ]
        }
      ],
      "source": [
        "a,b = 10,.3\n",
        "c = a*b\n",
        "print (c)\n",
        "c = int(c)\n",
        "print(c)"
      ]
    },
    {
      "cell_type": "code",
      "execution_count": 17,
      "metadata": {
        "id": "xvttB525I4fn"
      },
      "outputs": [],
      "source": [
        "import numpy as np\n",
        "\n",
        "def split_data(X, y, pct):\n",
        "    \n",
        "    assert len(X)==len(y), \"X and y must have the same length\"\n",
        "    assert pct>0 and pct<1, \"pct must be in the (0,1) interval\"\n",
        "    \n",
        "    n = len(X)\n",
        "    permutation = np.random.permutation(n)\n",
        "    n1_elements = int(n * pct)\n",
        "    permutation_partition_1 = permutation[:n1_elements]\n",
        "    permutation_partition_2 = permutation[n1_elements:]\n",
        "    X1 = X[permutation_partition_1]\n",
        "    X2 = X[permutation_partition_2]\n",
        "    y1 = y[permutation_partition_1]\n",
        "    y2 = y[permutation_partition_2]\n",
        "    \n",
        "    return X1, X2, y1, y2\n"
      ]
    },
    {
      "cell_type": "markdown",
      "metadata": {
        "id": "SaHPGBBwI4fo"
      },
      "source": [
        "check your solution manually with the following code"
      ]
    },
    {
      "cell_type": "code",
      "execution_count": 18,
      "metadata": {
        "id": "8WWhloEzI4fo",
        "outputId": "05d621f4-b599-40e1-f0ca-ee22158b404c",
        "colab": {
          "base_uri": "https://localhost:8080/"
        }
      },
      "outputs": [
        {
          "output_type": "stream",
          "name": "stdout",
          "text": [
            "[[ 0  1  2  3  4  5  6  7]\n",
            " [ 1 65 48  1 48 80 81 79]\n",
            " [ 2  1 85 15 35 89 63 50]\n",
            " [ 3 98  2  9 54 74 27 42]\n",
            " [ 4 43 27 91 15 41 82 54]\n",
            " [ 5 70 47 27 39 23 35 48]\n",
            " [ 6 17 10 25 68  2 21 98]\n",
            " [ 7 42 92 66 78 50 82 12]\n",
            " [ 8 82 31 81 33 31 20  9]\n",
            " [ 9 39 61 56 49 20 84 42]\n",
            " [10 25 39 24 85 12 77 91]\n",
            " [11 13 89 90  4 93 93 21]\n",
            " [12 32 41 98 91  8 20 31]\n",
            " [13 65 96  7 55 15 53 81]\n",
            " [14 87 28 19 91 81 11 89]\n",
            " [15 84 96 28 77 92 92 58]\n",
            " [16 86 31  3 79 15 39 90]\n",
            " [17 66 87 75  8 75 65 77]\n",
            " [18 61 20  2 58  4 72 63]\n",
            " [19 17 42 20 51 50 24 39]]\n",
            "[100 101 102 103 104 105 106 107 108 109 110 111 112 113 114 115 116 117\n",
            " 118 119]\n"
          ]
        }
      ],
      "source": [
        "XX = np.random.randint(100, size=(20,8))\n",
        "yy = np.arange(100,100+len(XX))\n",
        "XX[:,0] = range(len(XX))\n",
        "XX[0,:] = range(XX.shape[1])\n",
        "print (XX)\n",
        "print (yy)"
      ]
    },
    {
      "cell_type": "code",
      "execution_count": 19,
      "metadata": {
        "id": "0xTxaWhPI4fo"
      },
      "outputs": [],
      "source": [
        "Xtr, Xts, ytr, yts = split_data(XX, yy, pct=.7)"
      ]
    },
    {
      "cell_type": "code",
      "execution_count": 20,
      "metadata": {
        "id": "cU8Yse-NI4fo",
        "outputId": "7b6a7162-e051-43e0-e5c1-d4bd8d9d84d4",
        "colab": {
          "base_uri": "https://localhost:8080/"
        }
      },
      "outputs": [
        {
          "output_type": "execute_result",
          "data": {
            "text/plain": [
              "(6908, 6908, 2190, 2190)"
            ]
          },
          "metadata": {},
          "execution_count": 20
        }
      ],
      "source": [
        "# check partition ok\n",
        "np.sum(XX), np.sum(Xtr) + np.sum(Xts), np.sum(yy), np.sum(ytr)+np.sum(yts)"
      ]
    },
    {
      "cell_type": "code",
      "execution_count": 21,
      "metadata": {
        "id": "Yp-dHvu4I4fo",
        "outputId": "a84ad69d-afd3-4952-c997-caf8869a83fa",
        "colab": {
          "base_uri": "https://localhost:8080/"
        }
      },
      "outputs": [
        {
          "output_type": "stream",
          "name": "stdout",
          "text": [
            "[[14 87 28 19 91 81 11 89]\n",
            " [15 84 96 28 77 92 92 58]\n",
            " [10 25 39 24 85 12 77 91]\n",
            " [18 61 20  2 58  4 72 63]\n",
            " [ 5 70 47 27 39 23 35 48]\n",
            " [ 1 65 48  1 48 80 81 79]\n",
            " [ 3 98  2  9 54 74 27 42]\n",
            " [ 7 42 92 66 78 50 82 12]\n",
            " [11 13 89 90  4 93 93 21]\n",
            " [ 9 39 61 56 49 20 84 42]\n",
            " [ 6 17 10 25 68  2 21 98]\n",
            " [12 32 41 98 91  8 20 31]\n",
            " [ 2  1 85 15 35 89 63 50]\n",
            " [19 17 42 20 51 50 24 39]] \n",
            "--\n",
            "[[ 8 82 31 81 33 31 20  9]\n",
            " [17 66 87 75  8 75 65 77]\n",
            " [16 86 31  3 79 15 39 90]\n",
            " [13 65 96  7 55 15 53 81]\n",
            " [ 0  1  2  3  4  5  6  7]\n",
            " [ 4 43 27 91 15 41 82 54]] \n",
            "--\n",
            "[114 115 110 118 105 101 103 107 111 109 106 112 102 119] \n",
            "--\n",
            "[108 117 116 113 100 104] \n",
            "--\n"
          ]
        }
      ],
      "source": [
        "print (Xtr, \"\\n--\")\n",
        "print (Xts, \"\\n--\")\n",
        "print (ytr, \"\\n--\")\n",
        "print (yts, \"\\n--\")"
      ]
    },
    {
      "cell_type": "code",
      "execution_count": 22,
      "metadata": {
        "id": "-RiklJKqI4fp",
        "outputId": "7a502ac4-6c4e-4a71-8756-553ebe0e3f69",
        "colab": {
          "base_uri": "https://localhost:8080/"
        }
      },
      "outputs": [
        {
          "output_type": "execute_result",
          "data": {
            "text/plain": [
              "array([[ 8, 82, 31, 81, 33, 31, 20,  9],\n",
              "       [17, 66, 87, 75,  8, 75, 65, 77],\n",
              "       [16, 86, 31,  3, 79, 15, 39, 90],\n",
              "       [13, 65, 96,  7, 55, 15, 53, 81],\n",
              "       [ 0,  1,  2,  3,  4,  5,  6,  7],\n",
              "       [ 4, 43, 27, 91, 15, 41, 82, 54]])"
            ]
          },
          "metadata": {},
          "execution_count": 22
        }
      ],
      "source": [
        "Xts"
      ]
    },
    {
      "cell_type": "code",
      "execution_count": null,
      "metadata": {
        "id": "2KbUZ8oZI4fp"
      },
      "outputs": [],
      "source": []
    },
    {
      "cell_type": "markdown",
      "metadata": {
        "id": "1c3fi8KPI4fp"
      },
      "source": [
        "**submit your code**"
      ]
    },
    {
      "cell_type": "code",
      "execution_count": 23,
      "metadata": {
        "scrolled": true,
        "id": "XtjLpaojI4fp",
        "outputId": "bf759b4d-c7c2-49df-ee8d-b50fc77a3e14",
        "colab": {
          "base_uri": "https://localhost:8080/",
          "height": 128
        }
      },
      "outputs": [
        {
          "output_type": "display_data",
          "data": {
            "text/plain": [
              "<IPython.core.display.HTML object>"
            ],
            "text/html": [
              "\n",
              "                    <b>task_01 submitted.</b> <b><font color=\"blue\">your grade is 5</font></b> \n",
              "                    <p/><pre>----- grader message -------</pre>testing with 100 random calls<br/><b>correct</b><pre>----------------------------</pre>\n",
              "                    <p/><p/>\n",
              "                    <div style=\"font-size:10px\"><b>SUBMISSION CODE</b> 8CFGGRosR9OHgWBNs7U4Ap17fDaBlZ4sM83Sjho+KajHWrr5SGoRpWcNG1Hi66O9ch+eR2R5f/tXRNBuT7F58GQ3TJfPvW+qHHuKSbBJXbyPjUO8g7GoYF5QI7k+/WbyVnlUI1aXfhqIDfVRwJ1rSwOBlernOZfRrxbVRGK3TrM=</div>\n",
              "                    "
            ]
          },
          "metadata": {}
        }
      ],
      "source": [
        "student.submit_task(globals(), task_id=\"task_01\");\n"
      ]
    },
    {
      "cell_type": "code",
      "execution_count": null,
      "metadata": {
        "id": "DYQQHcC1I4fp"
      },
      "outputs": [],
      "source": []
    },
    {
      "cell_type": "markdown",
      "metadata": {
        "id": "b0BJf-0pI4fp"
      },
      "source": [
        "## Task 2: Fit a model and make predictions"
      ]
    },
    {
      "cell_type": "markdown",
      "metadata": {
        "id": "ncwP-qFJI4fp"
      },
      "source": [
        "observe how we create new data from synthetic datasets available in `sklearn`"
      ]
    },
    {
      "cell_type": "code",
      "execution_count": 24,
      "metadata": {
        "id": "pD8aVSuII4fq"
      },
      "outputs": [],
      "source": [
        "from sklearn.datasets import make_moons\n",
        "import matplotlib.pyplot as plt\n",
        "from local.lib import mlutils\n",
        "%matplotlib inline"
      ]
    },
    {
      "cell_type": "code",
      "execution_count": 25,
      "metadata": {
        "id": "urngAvMrI4fq",
        "outputId": "d878ed75-f3a5-41c4-819c-7c5bb308468b",
        "colab": {
          "base_uri": "https://localhost:8080/"
        }
      },
      "outputs": [
        {
          "output_type": "execute_result",
          "data": {
            "text/plain": [
              "((200, 2), (200,))"
            ]
          },
          "metadata": {},
          "execution_count": 25
        }
      ],
      "source": [
        "X, y = make_moons(200, noise=0.2)\n",
        "X.shape, y.shape"
      ]
    },
    {
      "cell_type": "code",
      "execution_count": 26,
      "metadata": {
        "id": "h4PMs3ebI4fq",
        "outputId": "3a6eb110-8787-442b-e575-cb1f5e3115cb",
        "colab": {
          "base_uri": "https://localhost:8080/",
          "height": 430
        }
      },
      "outputs": [
        {
          "output_type": "display_data",
          "data": {
            "text/plain": [
              "<Figure size 640x480 with 1 Axes>"
            ],
            "image/png": "[encoded data removed]"
          },
          "metadata": {}
        }
      ],
      "source": [
        "mlutils.plot_2Ddata(X,y); plt.grid();"
      ]
    },
    {
      "cell_type": "markdown",
      "metadata": {
        "id": "tYixlNQJI4fq"
      },
      "source": [
        "observe also how we create an algorithm instance and fit a model"
      ]
    },
    {
      "cell_type": "code",
      "execution_count": 27,
      "metadata": {
        "id": "MJf0f8HpI4fq",
        "outputId": "c50801ef-3ee9-4642-c373-43916e7a10c6",
        "colab": {
          "base_uri": "https://localhost:8080/",
          "height": 448
        }
      },
      "outputs": [
        {
          "output_type": "execute_result",
          "data": {
            "text/plain": [
              "(0.48105, 0.51895)"
            ]
          },
          "metadata": {},
          "execution_count": 27
        },
        {
          "output_type": "display_data",
          "data": {
            "text/plain": [
              "<Figure size 640x480 with 1 Axes>"
            ],
            "image/png": "[encoded data removed]"
          },
          "metadata": {}
        }
      ],
      "source": [
        "from sklearn.svm import SVC\n",
        "estimator = SVC(gamma=1)\n",
        "estimator.fit(X,y)\n",
        "mlutils.plot_2Ddata_with_boundary(estimator.predict, X, y)"
      ]
    },
    {
      "cell_type": "markdown",
      "metadata": {
        "id": "06gX6MmEI4fr"
      },
      "source": [
        "and how we make predictions"
      ]
    },
    {
      "cell_type": "code",
      "execution_count": 28,
      "metadata": {
        "id": "Xkc9Dln3I4fr",
        "outputId": "66572d58-cd28-49b6-adec-a9a5b94f83aa",
        "colab": {
          "base_uri": "https://localhost:8080/"
        }
      },
      "outputs": [
        {
          "output_type": "stream",
          "name": "stdout",
          "text": [
            "(200,)\n"
          ]
        },
        {
          "output_type": "execute_result",
          "data": {
            "text/plain": [
              "array([0, 1, 0, 0, 1, 0, 1, 0, 1, 0, 0, 0, 1, 1, 0, 1, 1, 0, 1, 1, 1, 1,\n",
              "       0, 0, 1, 0, 0, 0, 1, 1, 0, 0, 1, 1, 0, 0, 1, 0, 1, 0, 0, 1, 0, 0,\n",
              "       1, 1, 0, 0, 0, 0, 1, 1, 1, 0, 0, 1, 1, 1, 1, 1, 0, 1, 0, 0, 0, 0,\n",
              "       1, 0, 0, 1, 0, 0, 0, 0, 0, 1, 1, 1, 1, 1, 0, 1, 1, 1, 1, 1, 1, 0,\n",
              "       0, 1, 0, 0, 0, 0, 1, 0, 1, 0, 0, 0, 0, 0, 0, 0, 1, 0, 1, 1, 0, 0,\n",
              "       1, 1, 1, 0, 0, 0, 1, 0, 0, 1, 0, 1, 1, 1, 1, 0, 0, 1, 0, 0, 0, 1,\n",
              "       1, 0, 0, 1, 1, 1, 0, 0, 0, 1, 1, 1, 1, 1, 0, 1, 0, 0, 1, 0, 0, 0,\n",
              "       0, 1, 1, 1, 0, 0, 1, 1, 1, 1, 1, 0, 1, 0, 1, 0, 0, 1, 0, 0, 0, 0,\n",
              "       1, 0, 0, 1, 0, 1, 1, 1, 0, 0, 1, 1, 1, 1, 0, 0, 0, 1, 1, 1, 0, 0,\n",
              "       1, 1])"
            ]
          },
          "metadata": {},
          "execution_count": 28
        }
      ],
      "source": [
        "preds = estimator.predict(X)\n",
        "print (preds.shape)\n",
        "preds"
      ]
    },
    {
      "cell_type": "markdown",
      "metadata": {
        "id": "fs2nOJ4nI4fr"
      },
      "source": [
        "in this task you have to complete the following function so that:\n",
        "\n",
        "- it makes two non-random partitions of `X` and `y`. One containing the first half of the data and one containing the second part. If the number of elements of `X` is odd, then the second half will contain one more element than the first half.\n",
        "- it fits the model with the first part of the data\n",
        "- it makes predictions on the second half of the data\n",
        "- returns the estimator fitted, and the predictions on the second half of the data."
      ]
    },
    {
      "cell_type": "code",
      "execution_count": 29,
      "metadata": {
        "id": "5JKh43i6I4fr"
      },
      "outputs": [],
      "source": [
        "def fit_and_predict(estimator, X, y):\n",
        "    assert len(X)==len(y), \"X and y must have the same length\"\n",
        "    \n",
        "    n = len(X)\n",
        "    n_half = n // 2\n",
        "\n",
        "    # Split the data into two non-random partitions\n",
        "    X1, X2 = X[:n_half], X[n_half:]\n",
        "    y1, y2 = y[:n_half], y[n_half:]\n",
        "    \n",
        "    # Fit the model with the first part of the data\n",
        "    estimator.fit(X1, y1)\n",
        "\n",
        "    # Make predictions on the second half of the data\n",
        "    predictions = estimator.predict(X2)\n",
        "    \n",
        "    return estimator, predictions\n"
      ]
    },
    {
      "cell_type": "markdown",
      "metadata": {
        "id": "XZukyHQ8I4fs"
      },
      "source": [
        "check your code. your predictions should be similar to\n",
        "\n",
        "    preds\n",
        "    >> array([0, 0, 0, 0, 1, 0, 1, 1, 1, 0])"
      ]
    },
    {
      "cell_type": "code",
      "execution_count": null,
      "metadata": {
        "id": "-rWu39a0I4fs"
      },
      "outputs": [],
      "source": [
        "X = np.array([[ 0.74799424, -0.5867667 ],\n",
        "       [-0.64457753,  1.25127894],\n",
        "       [ 0.53682593,  0.10931563],\n",
        "       [-0.88825294, -0.06987509],\n",
        "       [ 0.99612638, -0.52295157],\n",
        "       [ 1.20586692,  0.01930477],\n",
        "       [-0.19368482,  0.65121567],\n",
        "       [ 0.1973759 ,  0.82250723],\n",
        "       [ 0.94859234, -0.5457241 ],\n",
        "       [ 1.87967948, -0.22740261],\n",
        "       [ 0.58766146,  0.3982837 ],\n",
        "       [ 0.27731571,  1.14369568],\n",
        "       [-0.67421956,  0.12785382],\n",
        "       [ 0.56957459,  1.05330376],\n",
        "       [ 1.52435938, -0.29864338],\n",
        "       [-0.15973608,  0.21790711],\n",
        "       [ 1.59037406, -0.56875485],\n",
        "       [ 0.43257507, -0.48900315],\n",
        "       [ 1.09440413, -0.73789029],\n",
        "       [-0.32940869,  0.74671384]])\n",
        "y = np.array([1, 0, 1, 0, 1, 0, 0, 0, 1, 1, 0, 0, 0, 0, 1, 1, 1, 1, 1, 0])\n",
        "X.shape, y.shape"
      ]
    },
    {
      "cell_type": "code",
      "execution_count": 30,
      "metadata": {
        "id": "qMJaAO-EI4fs",
        "outputId": "0f9464c0-4399-4f8c-9000-67c5d8ff2ac9",
        "colab": {
          "base_uri": "https://localhost:8080/"
        }
      },
      "outputs": [
        {
          "output_type": "execute_result",
          "data": {
            "text/plain": [
              "array([1, 0, 1, 0, 1, 0, 1, 1, 0, 0, 1, 1, 1, 0, 0, 0, 1, 1, 0, 0, 0, 1,\n",
              "       1, 1, 1, 1, 0, 1, 0, 0, 1, 1, 1, 0, 0, 1, 1, 1, 0, 0, 0, 1, 1, 1,\n",
              "       1, 1, 0, 1, 0, 0, 1, 0, 0, 1, 0, 1, 1, 1, 0, 0, 1, 1, 1, 1, 1, 0,\n",
              "       1, 0, 1, 0, 0, 1, 0, 0, 0, 0, 1, 0, 0, 0, 0, 0, 1, 1, 0, 0, 1, 1,\n",
              "       1, 1, 1, 0, 0, 0, 1, 1, 0, 0, 0, 1])"
            ]
          },
          "metadata": {},
          "execution_count": 30
        }
      ],
      "source": [
        "from sklearn.linear_model import LogisticRegression\n",
        "estimator = LogisticRegression()\n",
        "estimator, preds = fit_and_predict(estimator, X, y)\n",
        "preds"
      ]
    },
    {
      "cell_type": "code",
      "execution_count": null,
      "metadata": {
        "id": "hcIDhOlqI4ft"
      },
      "outputs": [],
      "source": [
        "\n"
      ]
    },
    {
      "cell_type": "markdown",
      "metadata": {
        "id": "0cEf5oTKI4ft"
      },
      "source": [
        "**submit your code**"
      ]
    },
    {
      "cell_type": "code",
      "execution_count": 31,
      "metadata": {
        "id": "c6Y2p-d1I4ft",
        "outputId": "c034f315-c0aa-41ec-8b42-eff055747abf",
        "colab": {
          "base_uri": "https://localhost:8080/",
          "height": 128
        }
      },
      "outputs": [
        {
          "output_type": "display_data",
          "data": {
            "text/plain": [
              "<IPython.core.display.HTML object>"
            ],
            "text/html": [
              "\n",
              "                    <b>task_02 submitted.</b> <b><font color=\"blue\">your grade is 5</font></b> \n",
              "                    <p/><pre>----- grader message -------</pre>testing with 100 random calls<br/><b>correct</b><pre>----------------------------</pre>\n",
              "                    <p/><p/>\n",
              "                    <div style=\"font-size:10px\"><b>SUBMISSION CODE</b> 5/8jBKx90njp446dLR0mWy9yfQlPBGKguyuHsOQOjF2liZ80EtqC98GcN43dTR6p196XMfMg8sesXBsoVl9pf3INhobFbObS1GxpKIfdeJW/mfRHpo/wumlAyWUk3CI+uLt5EPr05D5W1QPaJLaPPbMp6varRPW9zGu3rKkHN70=</div>\n",
              "                    "
            ]
          },
          "metadata": {}
        }
      ],
      "source": [
        "student.submit_task(globals(), task_id=\"task_02\");\n"
      ]
    },
    {
      "cell_type": "code",
      "execution_count": null,
      "metadata": {
        "id": "hD71KjHRI4ft"
      },
      "outputs": [],
      "source": []
    },
    {
      "cell_type": "markdown",
      "metadata": {
        "id": "qFczS5cgI4ft"
      },
      "source": [
        "## Task 3: Select data with indices\n",
        "\n",
        "Observe how we can create a vector or matrix of `True/False` (boolean) by applying a condition to any matrix or vector"
      ]
    },
    {
      "cell_type": "code",
      "execution_count": 32,
      "metadata": {
        "id": "4h2UEFJII4ft",
        "outputId": "d725f56e-5efd-46aa-f29e-8f49575d6940",
        "colab": {
          "base_uri": "https://localhost:8080/"
        }
      },
      "outputs": [
        {
          "output_type": "stream",
          "name": "stdout",
          "text": [
            "[6 9 4 7 6 4 5 2 1 6 7 3 3 9 1]\n"
          ]
        }
      ],
      "source": [
        "import numpy as np\n",
        "y = np.random.randint(10, size=15)\n",
        "print (y)"
      ]
    },
    {
      "cell_type": "code",
      "execution_count": 33,
      "metadata": {
        "id": "gR1AuqHwI4fu",
        "outputId": "0fddc0f5-8046-4d3a-affd-27ee0dddfab8",
        "colab": {
          "base_uri": "https://localhost:8080/"
        }
      },
      "outputs": [
        {
          "output_type": "stream",
          "name": "stdout",
          "text": [
            "[False False  True False False  True False  True  True False False  True\n",
            "  True False  True]\n"
          ]
        }
      ],
      "source": [
        "y_less_than_5 = y<5\n",
        "print (y_less_than_5)"
      ]
    },
    {
      "cell_type": "markdown",
      "metadata": {
        "id": "7Lvoo4UuI4fu"
      },
      "source": [
        "and how we can select elements of a vector using a boolean vector of the same length"
      ]
    },
    {
      "cell_type": "code",
      "execution_count": 34,
      "metadata": {
        "id": "jst-36ibI4fu",
        "outputId": "333a78f4-310b-482b-91ae-dbb68f9aefdc",
        "colab": {
          "base_uri": "https://localhost:8080/"
        }
      },
      "outputs": [
        {
          "output_type": "execute_result",
          "data": {
            "text/plain": [
              "array([4, 4, 2, 1, 3, 3, 1])"
            ]
          },
          "metadata": {},
          "execution_count": 34
        }
      ],
      "source": [
        "y[y_less_than_5]"
      ]
    },
    {
      "cell_type": "code",
      "execution_count": 35,
      "metadata": {
        "id": "c1slEI2MI4fu",
        "outputId": "2aeb474d-a32b-4bbb-fbcf-544cd7ed86e9",
        "colab": {
          "base_uri": "https://localhost:8080/"
        }
      },
      "outputs": [
        {
          "output_type": "execute_result",
          "data": {
            "text/plain": [
              "array([4, 4, 2, 1, 3, 3, 1])"
            ]
          },
          "metadata": {},
          "execution_count": 35
        }
      ],
      "source": [
        "y[y<5]"
      ]
    },
    {
      "cell_type": "markdown",
      "metadata": {
        "id": "SuMpZqqTI4fu"
      },
      "source": [
        "python doesn't really care how you construct the vector of booleans to index any other vector or array"
      ]
    },
    {
      "cell_type": "code",
      "execution_count": 36,
      "metadata": {
        "id": "w9340XJDI4fu",
        "outputId": "9e1b84d3-5965-4250-f197-4dd85c8a6745",
        "colab": {
          "base_uri": "https://localhost:8080/"
        }
      },
      "outputs": [
        {
          "output_type": "execute_result",
          "data": {
            "text/plain": [
              "array([ 3,  4, 14, 14,  2,  9,  5, 17, 16, 12, 11,  2, 14, 15, 10])"
            ]
          },
          "metadata": {},
          "execution_count": 36
        }
      ],
      "source": [
        "v = np.random.randint(20, size=15)\n",
        "v"
      ]
    },
    {
      "cell_type": "code",
      "execution_count": 37,
      "metadata": {
        "id": "-3QNdd7mI4fu",
        "outputId": "a60b99c5-3cc2-4ab1-c1a7-e70c1a1805ad",
        "colab": {
          "base_uri": "https://localhost:8080/"
        }
      },
      "outputs": [
        {
          "output_type": "execute_result",
          "data": {
            "text/plain": [
              "array([14,  9, 17, 16,  2, 14, 10])"
            ]
          },
          "metadata": {},
          "execution_count": 37
        }
      ],
      "source": [
        "v[y<5]"
      ]
    },
    {
      "cell_type": "markdown",
      "metadata": {
        "id": "81gssSU9I4fv"
      },
      "source": [
        "in this task you will complete the function `select_per_class` such that:\n",
        "\n",
        "- receives an array of data `X` and a vector of labels `y`, of the same length\n",
        "- the labels `y` are binary, they can only have values `0` or `1`\n",
        "- makes two partitions of `X`, one corresponding to the places where y is 0, and another where y is 1\n",
        "- returns the two partitions\n",
        "\n",
        "For instance, for the following X and y\n",
        "\n",
        "    X = np.array([[8, 8, 5, 2, 0, 0],\n",
        "                  [4, 4, 8, 1, 3, 7],\n",
        "                  [4, 5, 3, 6, 9, 6],\n",
        "                  [0, 3, 5, 3, 5, 3],\n",
        "                  [0, 7, 2, 7, 1, 7],\n",
        "                  [5, 7, 7, 1, 8, 5],\n",
        "                  [2, 5, 7, 3, 8, 0],\n",
        "                  [7, 2, 5, 9, 8, 7],\n",
        "                  [1, 6, 6, 1, 6, 0],\n",
        "                  [0, 7, 6, 5, 3, 4]])\n",
        "\n",
        "    y = np.array([0, 0, 0, 0, 1, 1, 0, 0, 1, 1])\n",
        "\n",
        "your function must return the following two matrices:\n",
        "\n",
        "    [[8 8 5 2 0 0]\n",
        "     [4 4 8 1 3 7]\n",
        "     [4 5 3 6 9 6]\n",
        "     [0 3 5 3 5 3]\n",
        "     [2 5 7 3 8 0]\n",
        "     [7 2 5 9 8 7]]\n",
        "     \n",
        "    [[0 7 2 7 1 7]\n",
        "     [5 7 7 1 8 5]\n",
        "     [1 6 6 1 6 0]\n",
        "     [0 7 6 5 3 4]]\n"
      ]
    },
    {
      "cell_type": "code",
      "execution_count": 38,
      "metadata": {
        "id": "6WIg9OTeI4fv"
      },
      "outputs": [],
      "source": [
        "def select_per_class(X, y):\n",
        "    assert len(X) == len(y), \"X and y must have the same length\"\n",
        "    \n",
        "    # Make two partitions of X based on the values of y\n",
        "    X1 = X[y == 0]\n",
        "    X2 = X[y == 1]\n",
        "    \n",
        "    return X1, X2\n"
      ]
    },
    {
      "cell_type": "markdown",
      "metadata": {
        "id": "kbdweoMII4fv"
      },
      "source": [
        "check manually your code"
      ]
    },
    {
      "cell_type": "code",
      "execution_count": 39,
      "metadata": {
        "id": "brsfRaFFI4fv"
      },
      "outputs": [],
      "source": [
        "X = np.array([[8, 8, 5, 2, 0, 0],\n",
        "              [4, 4, 8, 1, 3, 7],\n",
        "              [4, 5, 3, 6, 9, 6],\n",
        "              [0, 3, 5, 3, 5, 3],\n",
        "              [0, 7, 2, 7, 1, 7],\n",
        "              [5, 7, 7, 1, 8, 5],\n",
        "              [2, 5, 7, 3, 8, 0],\n",
        "              [7, 2, 5, 9, 8, 7],\n",
        "              [1, 6, 6, 1, 6, 0],\n",
        "              [0, 7, 6, 5, 3, 4]])\n",
        "\n",
        "y = np.array([0, 0, 0, 0, 1, 1, 0, 0, 1, 1])"
      ]
    },
    {
      "cell_type": "code",
      "execution_count": 40,
      "metadata": {
        "id": "OeUnGo9aI4fw",
        "outputId": "d17355b5-802a-4ed0-a161-299f36c44eb7",
        "colab": {
          "base_uri": "https://localhost:8080/"
        }
      },
      "outputs": [
        {
          "output_type": "stream",
          "name": "stdout",
          "text": [
            "[[8 8 5 2 0 0]\n",
            " [4 4 8 1 3 7]\n",
            " [4 5 3 6 9 6]\n",
            " [0 3 5 3 5 3]\n",
            " [2 5 7 3 8 0]\n",
            " [7 2 5 9 8 7]]\n",
            "[[0 7 2 7 1 7]\n",
            " [5 7 7 1 8 5]\n",
            " [1 6 6 1 6 0]\n",
            " [0 7 6 5 3 4]]\n"
          ]
        }
      ],
      "source": [
        "a,b = select_per_class(X, y)\n",
        "print (a)\n",
        "print (b)"
      ]
    },
    {
      "cell_type": "code",
      "execution_count": null,
      "metadata": {
        "id": "3W4hSFaBI4fw"
      },
      "outputs": [],
      "source": []
    },
    {
      "cell_type": "markdown",
      "metadata": {
        "id": "EpsrHxLuI4fw"
      },
      "source": [
        "**submit your code**"
      ]
    },
    {
      "cell_type": "code",
      "execution_count": 41,
      "metadata": {
        "scrolled": true,
        "id": "UJFR_LM_I4fw",
        "outputId": "428d8e64-b252-42e0-bfab-1fe484e0a120",
        "colab": {
          "base_uri": "https://localhost:8080/",
          "height": 128
        }
      },
      "outputs": [
        {
          "output_type": "display_data",
          "data": {
            "text/plain": [
              "<IPython.core.display.HTML object>"
            ],
            "text/html": [
              "\n",
              "                    <b>task_03 submitted.</b> <b><font color=\"blue\">your grade is 5</font></b> \n",
              "                    <p/><pre>----- grader message -------</pre>testing with 100 random calls<br/><b>correct</b><pre>----------------------------</pre>\n",
              "                    <p/><p/>\n",
              "                    <div style=\"font-size:10px\"><b>SUBMISSION CODE</b> HbWKS+602D2IM9zvXNNjiYjeYpkn61FuSReLfRC1HiEO6qiL3WQGk6NVubtlgjS9WVkaELfQxHoUQq/2649NZ4ko1ehetNsKy2OEMXBoYLcCgh9I2JkrjWQM7hv9KBxyoXvaXt016KOfHaqamxSCx9NZTM6XCMhkpr75IaSDhuo=</div>\n",
              "                    "
            ]
          },
          "metadata": {}
        }
      ],
      "source": [
        "student.submit_task(globals(), task_id=\"task_03\");\n"
      ]
    },
    {
      "cell_type": "code",
      "execution_count": null,
      "metadata": {
        "id": "bgo7tlQ5I4fw"
      },
      "outputs": [],
      "source": []
    },
    {
      "cell_type": "markdown",
      "metadata": {
        "id": "IlfGNz28I4fw"
      },
      "source": [
        "## Task 4: Measure accuracy\n",
        "\n",
        "complete the following function such that:\n",
        "\n",
        "- it receives to binary vectors (composed of 0's and 1's) of the same length\n",
        "- returns the percentage of elements that are the same in both vectors\n",
        "\n",
        "recall that\n",
        "\n",
        "- if `a` and `b` are vectors of the same length a==b   returns a vector of booleans in which positions in True signal that elements in those position are the same\n",
        "- if `k` is a vector of booleans, `sum(k)` returns the number of `True` elements.\n",
        "\n",
        "\n",
        "for the following two vectors you should get 0.375\n",
        "\n",
        "    a = np.array([1,0,0,0,1,1,0,0])\n",
        "    b = np.array([1,1,1,1,0,1,0,1])\n",
        "    accuracy(a, b)\n",
        "    >>> 0.375\n"
      ]
    },
    {
      "cell_type": "code",
      "execution_count": 42,
      "metadata": {
        "id": "HI4j7umfI4fx"
      },
      "outputs": [],
      "source": [
        "def accuracy(y_true, y_pred):\n",
        "    assert len(y_true) == len(y_pred), \"y_true and y_pred must have the same length\"\n",
        "    \n",
        "    # Calculate the percentage of elements that are the same in both vectors\n",
        "    result = sum(y_true == y_pred) / len(y_true)\n",
        "    \n",
        "    return result\n"
      ]
    },
    {
      "cell_type": "code",
      "execution_count": 43,
      "metadata": {
        "id": "xd7wCi3SI4fx",
        "outputId": "7e6deaef-dcff-44e6-cc65-48b2aca53c60",
        "colab": {
          "base_uri": "https://localhost:8080/"
        }
      },
      "outputs": [
        {
          "output_type": "execute_result",
          "data": {
            "text/plain": [
              "0.375"
            ]
          },
          "metadata": {},
          "execution_count": 43
        }
      ],
      "source": [
        "a = np.array([1,0,0,0,1,1,0,0])\n",
        "b = np.array([1,1,1,1,0,1,0,1])\n",
        "accuracy(a,b)"
      ]
    },
    {
      "cell_type": "code",
      "execution_count": null,
      "metadata": {
        "id": "oftq8N_UI4fx"
      },
      "outputs": [],
      "source": []
    },
    {
      "cell_type": "code",
      "execution_count": null,
      "metadata": {
        "id": "XyP5kE47I4fx"
      },
      "outputs": [],
      "source": []
    },
    {
      "cell_type": "markdown",
      "metadata": {
        "id": "Aihz5_A0I4fx"
      },
      "source": [
        "**submit your code**"
      ]
    },
    {
      "cell_type": "code",
      "execution_count": 44,
      "metadata": {
        "scrolled": false,
        "id": "AhA4G7U_I4fx",
        "outputId": "7187b710-fded-4ad5-b2c2-c00ee4ea621c",
        "colab": {
          "base_uri": "https://localhost:8080/",
          "height": 128
        }
      },
      "outputs": [
        {
          "output_type": "display_data",
          "data": {
            "text/plain": [
              "<IPython.core.display.HTML object>"
            ],
            "text/html": [
              "\n",
              "                    <b>task_04 submitted.</b> <b><font color=\"blue\">your grade is 5</font></b> \n",
              "                    <p/><pre>----- grader message -------</pre>testing with 100 random calls<br/><b>correct</b><pre>----------------------------</pre>\n",
              "                    <p/><p/>\n",
              "                    <div style=\"font-size:10px\"><b>SUBMISSION CODE</b> pcxyaRfl5z8VVEAESP6yZeyqlTXG8nA6b1cv03qpXPEJPqKOVCNH9QlsctmfItqbGODZQCI3hv8jaZh8+DYhqLhHtw4mcG3pr9zodfzeV7bZ7wqiQA1AG62oTlWqgkZUqjYSpYWKfSL+DvwgLzIOre45BF2IHqS1OrPnrREaKy4=</div>\n",
              "                    "
            ]
          },
          "metadata": {}
        }
      ],
      "source": [
        "student.submit_task(globals(), task_id=\"task_04\");\n"
      ]
    },
    {
      "cell_type": "code",
      "execution_count": null,
      "metadata": {
        "id": "5dtf6zt7I4fx"
      },
      "outputs": [],
      "source": []
    },
    {
      "cell_type": "markdown",
      "metadata": {
        "id": "hiM810yZI4fx"
      },
      "source": [
        "## Task 5: Random split, fit and predict\n",
        "\n",
        "complete the following function so that:\n",
        "\n",
        "- fits the estimator with a random sample of size `train_pct` of the data `X` and binary labels `y`. You can use the `split_data` function developed previously\n",
        "- makes predictions on the test part of the data\n",
        "- measures accuracy of those predictions. you may use the function created previously\n",
        "- returns the estimator fitted, the test part of `X` and `y`, and the accuracy measured\n",
        "\n",
        "\n",
        "the execution below should return something with the following structure (the actual numbers will change)\n",
        "\n",
        "\n",
        "    (LogisticRegression(C=1.0, class_weight=None, dual=False, fit_intercept=True,\n",
        "                        intercept_scaling=1, l1_ratio=None, max_iter=100,\n",
        "                        multi_class='warn', n_jobs=None, penalty='l2',\n",
        "                        random_state=None, solver='lbfgs', tol=0.0001, verbose=0,\n",
        "                        warm_start=False), array([[-0.76329684,  0.2572069 ],\n",
        "            [ 1.02356829,  0.37629873],\n",
        "            [ 0.32099415,  0.82244488],\n",
        "            [ 1.08858315, -0.61299904],\n",
        "            [ 0.58470767,  0.58510559],\n",
        "            [ 1.60827644, -0.15477173],\n",
        "            [ 1.53121784,  0.78121504],\n",
        "            [-0.42734156,  0.87585237],\n",
        "            [-0.36368682,  0.72152586],\n",
        "            [ 1.05312619,  0.19835526]]), array([0, 0, 1, 1, 0, 1, 1, 0, 0, 0]), 0.6)"
      ]
    },
    {
      "cell_type": "code",
      "execution_count": 45,
      "metadata": {
        "id": "FJfp1bdAI4fy"
      },
      "outputs": [],
      "source": [
        "def split_fit_predict(estimator, X, y, train_pct):\n",
        "    \n",
        "    def split_data(X, y, pct):\n",
        "        assert len(X)==len(y), \"X and y must have the same length\"\n",
        "        assert pct>0 and pct<1, \"pct must be in the (0,1) interval\"\n",
        "\n",
        "        n = len(X)\n",
        "        permutation = np.random.permutation(n)\n",
        "        n1_elements = int(n * pct)\n",
        "        permutation_partition_1 = permutation[:n1_elements]\n",
        "        permutation_partition_2 = permutation[n1_elements:]\n",
        "        X1 = X[permutation_partition_1]\n",
        "        X2 = X[permutation_partition_2]\n",
        "        y1 = y[permutation_partition_1]\n",
        "        y2 = y[permutation_partition_2]\n",
        "\n",
        "        return X1, X2, y1, y2\n",
        "\n",
        "    def accuracy(y_true, y_pred):\n",
        "        assert len(y_true) == len(y_pred), \"y_true and y_pred must have the same length\"\n",
        "        result = sum(y_true == y_pred) / len(y_true)\n",
        "        return result\n",
        "\n",
        "    # Split the data using the split_data function\n",
        "    Xtr, Xts, ytr, yts = split_data(X, y, train_pct)\n",
        "\n",
        "    # Fit the estimator with the training data\n",
        "    estimator.fit(Xtr, ytr)\n",
        "\n",
        "    # Make predictions on the test part of the data\n",
        "    preds_ts = estimator.predict(Xts)\n",
        "\n",
        "    return estimator, Xts, yts, accuracy(yts, preds_ts)\n"
      ]
    },
    {
      "cell_type": "code",
      "execution_count": 46,
      "metadata": {
        "id": "WQV_v-o0I4fy",
        "outputId": "7ed7a63e-0707-48da-d5f8-648a4d1a2cc8",
        "colab": {
          "base_uri": "https://localhost:8080/"
        }
      },
      "outputs": [
        {
          "output_type": "execute_result",
          "data": {
            "text/plain": [
              "(LogisticRegression(),\n",
              " array([[-0.17484128,  0.80960438],\n",
              "        [ 1.14298443, -0.37395437],\n",
              "        [ 0.49935607,  0.88839468],\n",
              "        [-0.08144778,  0.3166375 ],\n",
              "        [ 1.92238893,  0.83360109],\n",
              "        [ 1.92962824,  0.53608353],\n",
              "        [-0.60709742,  0.33509089],\n",
              "        [-0.83755526, -0.18041711],\n",
              "        [ 0.1724023 ,  0.71936709],\n",
              "        [ 0.38488069, -0.23735733]]),\n",
              " array([0, 1, 0, 1, 1, 1, 0, 0, 0, 1]),\n",
              " 0.9)"
            ]
          },
          "metadata": {},
          "execution_count": 46
        }
      ],
      "source": [
        "from sklearn.linear_model import LogisticRegression\n",
        "\n",
        "X, y = make_moons(100, noise=0.2)\n",
        "estimator = LogisticRegression(solver=\"lbfgs\")\n",
        "split_fit_predict(estimator, X, y, train_pct=0.9)\n"
      ]
    },
    {
      "cell_type": "code",
      "execution_count": null,
      "metadata": {
        "id": "lKQbZmXEI4fy"
      },
      "outputs": [],
      "source": []
    },
    {
      "cell_type": "code",
      "execution_count": null,
      "metadata": {
        "id": "JDxv30KYI4fy"
      },
      "outputs": [],
      "source": []
    },
    {
      "cell_type": "markdown",
      "metadata": {
        "id": "F5z18gN3I4fy"
      },
      "source": [
        "**submit your code**"
      ]
    },
    {
      "cell_type": "code",
      "execution_count": 49,
      "metadata": {
        "scrolled": false,
        "id": "xTlouIMNI4fy",
        "outputId": "795f5590-d5c7-4486-91b6-46812b628e7c",
        "colab": {
          "base_uri": "https://localhost:8080/",
          "height": 128
        }
      },
      "outputs": [
        {
          "output_type": "display_data",
          "data": {
            "text/plain": [
              "<IPython.core.display.HTML object>"
            ],
            "text/html": [
              "\n",
              "                    <b>task_05 submitted.</b> <b><font color=\"blue\">your grade is 5</font></b> \n",
              "                    <p/><pre>----- grader message -------</pre>testing with 100 random calls<br/><b>correct</b><pre>----------------------------</pre>\n",
              "                    <p/><p/>\n",
              "                    <div style=\"font-size:10px\"><b>SUBMISSION CODE</b> g6FoL/EPE39jv9jgk39PHRIkWjvCu5G+Z1S+Xqjv/QNVZIh8Z4jTQSG+SVd9NF4g4/fbzPp6/RxWe8ktwsWMFPPikYv6aao2zsMIuj7dhrgXMWDva0aKUCucm9IivDnRo3qogyG86W678jPXKISh9V40a3hCOj93LLsInQCqgbU=</div>\n",
              "                    "
            ]
          },
          "metadata": {}
        }
      ],
      "source": [
        "student.submit_task(globals(), task_id=\"task_05\");\n"
      ]
    },
    {
      "cell_type": "code",
      "execution_count": null,
      "metadata": {
        "id": "ioPunmuqI4fz"
      },
      "outputs": [],
      "source": []
    }
  ],
  "metadata": {
    "kernelspec": {
      "display_name": "Python 3",
      "language": "python",
      "name": "python3"
    },
    "language_info": {
      "codemirror_mode": {
        "name": "ipython",
        "version": 3
      },
      "file_extension": ".py",
      "mimetype": "text/x-python",
      "name": "python",
      "nbconvert_exporter": "python",
      "pygments_lexer": "ipython3",
      "version": "3.7.3"
    },
    "colab": {
      "provenance": [],
      "include_colab_link": true
    },
    "widgets": {
      "application/vnd.jupyter.widget-state+json": {
        "da4ff0be0b054e829576bff109c79027": {
          "model_module": "@jupyter-widgets/controls",
          "model_name": "HBoxModel",
          "model_module_version": "1.5.0",
          "state": {
            "_dom_classes": [],
            "_model_module": "@jupyter-widgets/controls",
            "_model_module_version": "1.5.0",
            "_model_name": "HBoxModel",
            "_view_count": null,
            "_view_module": "@jupyter-widgets/controls",
            "_view_module_version": "1.5.0",
            "_view_name": "HBoxView",
            "box_style": "",
            "children": [
              "IPY_MODEL_0beb639945404901a943c27c230f7b48",
              "IPY_MODEL_dc9b05df90134c2895e1bb2a9d4f50a0",
              "IPY_MODEL_f4a40d8e248542ebbf5a018e57d84cf3",
              "IPY_MODEL_a9dcc19a01894092aec5b62b684c3d0a"
            ],
            "layout": "IPY_MODEL_fb89aa08f31a40d28b3234409a8e534f"
          }
        },
        "0beb639945404901a943c27c230f7b48": {
          "model_module": "@jupyter-widgets/controls",
          "model_name": "VBoxModel",
          "model_module_version": "1.5.0",
          "state": {
            "_dom_classes": [],
            "_model_module": "@jupyter-widgets/controls",
            "_model_module_version": "1.5.0",
            "_model_name": "VBoxModel",
            "_view_count": null,
            "_view_module": "@jupyter-widgets/controls",
            "_view_module_version": "1.5.0",
            "_view_name": "VBoxView",
            "box_style": "",
            "children": [
              "IPY_MODEL_acfff354523342b1b914128cd757a53b",
              "IPY_MODEL_d3ff1caf642a456aabb3c19592101729"
            ],
            "layout": "IPY_MODEL_290d535e12684c74827536aae14f6e45"
          }
        },
        "dc9b05df90134c2895e1bb2a9d4f50a0": {
          "model_module": "@jupyter-widgets/controls",
          "model_name": "ButtonModel",
          "model_module_version": "1.5.0",
          "state": {
            "_dom_classes": [
              "login_button"
            ],
            "_model_module": "@jupyter-widgets/controls",
            "_model_module_version": "1.5.0",
            "_model_name": "ButtonModel",
            "_view_count": null,
            "_view_module": "@jupyter-widgets/controls",
            "_view_module_version": "1.5.0",
            "_view_name": "ButtonView",
            "button_style": "",
            "description": "Login with email",
            "disabled": false,
            "icon": "",
            "layout": "IPY_MODEL_0becd653a41242729e134bfa8e1b576c",
            "style": "IPY_MODEL_49722f4759f44e9798e329745f288836",
            "tooltip": ""
          }
        },
        "f4a40d8e248542ebbf5a018e57d84cf3": {
          "model_module": "@jupyter-widgets/controls",
          "model_name": "HTMLModel",
          "model_module_version": "1.5.0",
          "state": {
            "_dom_classes": [],
            "_model_module": "@jupyter-widgets/controls",
            "_model_module_version": "1.5.0",
            "_model_name": "HTMLModel",
            "_view_count": null,
            "_view_module": "@jupyter-widgets/controls",
            "_view_module_version": "1.5.0",
            "_view_name": "HTMLView",
            "description": "",
            "description_tooltip": null,
            "layout": "IPY_MODEL_a7867ac17fff40fe89dc00a7ef007cf8",
            "placeholder": "​",
            "style": "IPY_MODEL_6dff0bfa814a419f8067d8c7f4c81b9e",
            "value": "<center><big>or</big></center>"
          }
        },
        "a9dcc19a01894092aec5b62b684c3d0a": {
          "model_module": "@jupyter-widgets/controls",
          "model_name": "ButtonModel",
          "model_module_version": "1.5.0",
          "state": {
            "_dom_classes": [
              "google_button"
            ],
            "_model_module": "@jupyter-widgets/controls",
            "_model_module_version": "1.5.0",
            "_model_name": "ButtonModel",
            "_view_count": null,
            "_view_module": "@jupyter-widgets/controls",
            "_view_module_version": "1.5.0",
            "_view_name": "ButtonView",
            "button_style": "",
            "description": "Login with Google",
            "disabled": false,
            "icon": "",
            "layout": "IPY_MODEL_09e98d7bf17c4edb9eb75c565e615878",
            "style": "IPY_MODEL_51a454c2d50e4e88b4c04cbbad5afe03",
            "tooltip": ""
          }
        },
        "fb89aa08f31a40d28b3234409a8e534f": {
          "model_module": "@jupyter-widgets/base",
          "model_name": "LayoutModel",
          "model_module_version": "1.2.0",
          "state": {
            "_model_module": "@jupyter-widgets/base",
            "_model_module_version": "1.2.0",
            "_model_name": "LayoutModel",
            "_view_count": null,
            "_view_module": "@jupyter-widgets/base",
            "_view_module_version": "1.2.0",
            "_view_name": "LayoutView",
            "align_content": null,
            "align_items": null,
            "align_self": null,
            "border": null,
            "bottom": null,
            "display": null,
            "flex": null,
            "flex_flow": null,
            "grid_area": null,
            "grid_auto_columns": null,
            "grid_auto_flow": null,
            "grid_auto_rows": null,
            "grid_column": null,
            "grid_gap": null,
            "grid_row": null,
            "grid_template_areas": null,
            "grid_template_columns": null,
            "grid_template_rows": null,
            "height": null,
            "justify_content": null,
            "justify_items": null,
            "left": null,
            "margin": null,
            "max_height": null,
            "max_width": null,
            "min_height": null,
            "min_width": null,
            "object_fit": null,
            "object_position": null,
            "order": null,
            "overflow": null,
            "overflow_x": null,
            "overflow_y": null,
            "padding": null,
            "right": null,
            "top": null,
            "visibility": null,
            "width": null
          }
        },
        "acfff354523342b1b914128cd757a53b": {
          "model_module": "@jupyter-widgets/controls",
          "model_name": "TextModel",
          "model_module_version": "1.5.0",
          "state": {
            "_dom_classes": [],
            "_model_module": "@jupyter-widgets/controls",
            "_model_module_version": "1.5.0",
            "_model_name": "TextModel",
            "_view_count": null,
            "_view_module": "@jupyter-widgets/controls",
            "_view_module_version": "1.5.0",
            "_view_name": "TextView",
            "continuous_update": true,
            "description": "email",
            "description_tooltip": null,
            "disabled": false,
            "layout": "IPY_MODEL_a6f997c0b3a147db9da1107202f9ce04",
            "placeholder": "​",
            "style": "IPY_MODEL_b70199f8b861462a9636b30c0abee2b8",
            "value": ""
          }
        },
        "d3ff1caf642a456aabb3c19592101729": {
          "model_module": "@jupyter-widgets/controls",
          "model_name": "PasswordModel",
          "model_module_version": "1.5.0",
          "state": {
            "_dom_classes": [],
            "_model_module": "@jupyter-widgets/controls",
            "_model_module_version": "1.5.0",
            "_model_name": "PasswordModel",
            "_view_count": null,
            "_view_module": "@jupyter-widgets/controls",
            "_view_module_version": "1.5.0",
            "_view_name": "PasswordView",
            "continuous_update": true,
            "description": "password",
            "description_tooltip": null,
            "disabled": false,
            "layout": "IPY_MODEL_501ebad2214d4fe0ac99e7d60f78e6ee",
            "placeholder": "​",
            "style": "IPY_MODEL_507628b40f8f4f2691e451cdaa0a216f",
            "value": ""
          }
        },
        "290d535e12684c74827536aae14f6e45": {
          "model_module": "@jupyter-widgets/base",
          "model_name": "LayoutModel",
          "model_module_version": "1.2.0",
          "state": {
            "_model_module": "@jupyter-widgets/base",
            "_model_module_version": "1.2.0",
            "_model_name": "LayoutModel",
            "_view_count": null,
            "_view_module": "@jupyter-widgets/base",
            "_view_module_version": "1.2.0",
            "_view_name": "LayoutView",
            "align_content": null,
            "align_items": null,
            "align_self": null,
            "border": null,
            "bottom": null,
            "display": null,
            "flex": null,
            "flex_flow": null,
            "grid_area": null,
            "grid_auto_columns": null,
            "grid_auto_flow": null,
            "grid_auto_rows": null,
            "grid_column": null,
            "grid_gap": null,
            "grid_row": null,
            "grid_template_areas": null,
            "grid_template_columns": null,
            "grid_template_rows": null,
            "height": null,
            "justify_content": null,
            "justify_items": null,
            "left": null,
            "margin": null,
            "max_height": null,
            "max_width": null,
            "min_height": null,
            "min_width": null,
            "object_fit": null,
            "object_position": null,
            "order": null,
            "overflow": null,
            "overflow_x": null,
            "overflow_y": null,
            "padding": null,
            "right": null,
            "top": null,
            "visibility": null,
            "width": null
          }
        },
        "0becd653a41242729e134bfa8e1b576c": {
          "model_module": "@jupyter-widgets/base",
          "model_name": "LayoutModel",
          "model_module_version": "1.2.0",
          "state": {
            "_model_module": "@jupyter-widgets/base",
            "_model_module_version": "1.2.0",
            "_model_name": "LayoutModel",
            "_view_count": null,
            "_view_module": "@jupyter-widgets/base",
            "_view_module_version": "1.2.0",
            "_view_name": "LayoutView",
            "align_content": null,
            "align_items": null,
            "align_self": null,
            "border": null,
            "bottom": null,
            "display": null,
            "flex": null,
            "flex_flow": null,
            "grid_area": null,
            "grid_auto_columns": null,
            "grid_auto_flow": null,
            "grid_auto_rows": null,
            "grid_column": null,
            "grid_gap": null,
            "grid_row": null,
            "grid_template_areas": null,
            "grid_template_columns": null,
            "grid_template_rows": null,
            "height": "53px",
            "justify_content": null,
            "justify_items": null,
            "left": null,
            "margin": null,
            "max_height": null,
            "max_width": null,
            "min_height": null,
            "min_width": null,
            "object_fit": null,
            "object_position": null,
            "order": null,
            "overflow": null,
            "overflow_x": null,
            "overflow_y": null,
            "padding": null,
            "right": null,
            "top": null,
            "visibility": null,
            "width": "150px"
          }
        },
        "49722f4759f44e9798e329745f288836": {
          "model_module": "@jupyter-widgets/controls",
          "model_name": "ButtonStyleModel",
          "model_module_version": "1.5.0",
          "state": {
            "_model_module": "@jupyter-widgets/controls",
            "_model_module_version": "1.5.0",
            "_model_name": "ButtonStyleModel",
            "_view_count": null,
            "_view_module": "@jupyter-widgets/base",
            "_view_module_version": "1.2.0",
            "_view_name": "StyleView",
            "button_color": null,
            "font_weight": ""
          }
        },
        "a7867ac17fff40fe89dc00a7ef007cf8": {
          "model_module": "@jupyter-widgets/base",
          "model_name": "LayoutModel",
          "model_module_version": "1.2.0",
          "state": {
            "_model_module": "@jupyter-widgets/base",
            "_model_module_version": "1.2.0",
            "_model_name": "LayoutModel",
            "_view_count": null,
            "_view_module": "@jupyter-widgets/base",
            "_view_module_version": "1.2.0",
            "_view_name": "LayoutView",
            "align_content": null,
            "align_items": null,
            "align_self": null,
            "border": null,
            "bottom": null,
            "display": null,
            "flex": null,
            "flex_flow": null,
            "grid_area": null,
            "grid_auto_columns": null,
            "grid_auto_flow": null,
            "grid_auto_rows": null,
            "grid_column": null,
            "grid_gap": null,
            "grid_row": null,
            "grid_template_areas": null,
            "grid_template_columns": null,
            "grid_template_rows": null,
            "height": null,
            "justify_content": null,
            "justify_items": null,
            "left": null,
            "margin": null,
            "max_height": null,
            "max_width": null,
            "min_height": null,
            "min_width": null,
            "object_fit": null,
            "object_position": null,
            "order": null,
            "overflow": null,
            "overflow_x": null,
            "overflow_y": null,
            "padding": null,
            "right": null,
            "top": null,
            "visibility": null,
            "width": "100px"
          }
        },
        "6dff0bfa814a419f8067d8c7f4c81b9e": {
          "model_module": "@jupyter-widgets/controls",
          "model_name": "DescriptionStyleModel",
          "model_module_version": "1.5.0",
          "state": {
            "_model_module": "@jupyter-widgets/controls",
            "_model_module_version": "1.5.0",
            "_model_name": "DescriptionStyleModel",
            "_view_count": null,
            "_view_module": "@jupyter-widgets/base",
            "_view_module_version": "1.2.0",
            "_view_name": "StyleView",
            "description_width": ""
          }
        },
        "09e98d7bf17c4edb9eb75c565e615878": {
          "model_module": "@jupyter-widgets/base",
          "model_name": "LayoutModel",
          "model_module_version": "1.2.0",
          "state": {
            "_model_module": "@jupyter-widgets/base",
            "_model_module_version": "1.2.0",
            "_model_name": "LayoutModel",
            "_view_count": null,
            "_view_module": "@jupyter-widgets/base",
            "_view_module_version": "1.2.0",
            "_view_name": "LayoutView",
            "align_content": null,
            "align_items": null,
            "align_self": null,
            "border": null,
            "bottom": null,
            "display": null,
            "flex": null,
            "flex_flow": null,
            "grid_area": null,
            "grid_auto_columns": null,
            "grid_auto_flow": null,
            "grid_auto_rows": null,
            "grid_column": null,
            "grid_gap": null,
            "grid_row": null,
            "grid_template_areas": null,
            "grid_template_columns": null,
            "grid_template_rows": null,
            "height": "53px",
            "justify_content": null,
            "justify_items": null,
            "left": null,
            "margin": null,
            "max_height": null,
            "max_width": null,
            "min_height": null,
            "min_width": null,
            "object_fit": null,
            "object_position": null,
            "order": null,
            "overflow": null,
            "overflow_x": null,
            "overflow_y": null,
            "padding": null,
            "right": null,
            "top": null,
            "visibility": null,
            "width": "200px"
          }
        },
        "51a454c2d50e4e88b4c04cbbad5afe03": {
          "model_module": "@jupyter-widgets/controls",
          "model_name": "ButtonStyleModel",
          "model_module_version": "1.5.0",
          "state": {
            "_model_module": "@jupyter-widgets/controls",
            "_model_module_version": "1.5.0",
            "_model_name": "ButtonStyleModel",
            "_view_count": null,
            "_view_module": "@jupyter-widgets/base",
            "_view_module_version": "1.2.0",
            "_view_name": "StyleView",
            "button_color": null,
            "font_weight": ""
          }
        },
        "a6f997c0b3a147db9da1107202f9ce04": {
          "model_module": "@jupyter-widgets/base",
          "model_name": "LayoutModel",
          "model_module_version": "1.2.0",
          "state": {
            "_model_module": "@jupyter-widgets/base",
            "_model_module_version": "1.2.0",
            "_model_name": "LayoutModel",
            "_view_count": null,
            "_view_module": "@jupyter-widgets/base",
            "_view_module_version": "1.2.0",
            "_view_name": "LayoutView",
            "align_content": null,
            "align_items": null,
            "align_self": null,
            "border": null,
            "bottom": null,
            "display": null,
            "flex": null,
            "flex_flow": null,
            "grid_area": null,
            "grid_auto_columns": null,
            "grid_auto_flow": null,
            "grid_auto_rows": null,
            "grid_column": null,
            "grid_gap": null,
            "grid_row": null,
            "grid_template_areas": null,
            "grid_template_columns": null,
            "grid_template_rows": null,
            "height": "25px",
            "justify_content": null,
            "justify_items": null,
            "left": null,
            "margin": null,
            "max_height": null,
            "max_width": null,
            "min_height": null,
            "min_width": null,
            "object_fit": null,
            "object_position": null,
            "order": null,
            "overflow": null,
            "overflow_x": null,
            "overflow_y": null,
            "padding": null,
            "right": null,
            "top": null,
            "visibility": null,
            "width": "300px"
          }
        },
        "b70199f8b861462a9636b30c0abee2b8": {
          "model_module": "@jupyter-widgets/controls",
          "model_name": "DescriptionStyleModel",
          "model_module_version": "1.5.0",
          "state": {
            "_model_module": "@jupyter-widgets/controls",
            "_model_module_version": "1.5.0",
            "_model_name": "DescriptionStyleModel",
            "_view_count": null,
            "_view_module": "@jupyter-widgets/base",
            "_view_module_version": "1.2.0",
            "_view_name": "StyleView",
            "description_width": ""
          }
        },
        "501ebad2214d4fe0ac99e7d60f78e6ee": {
          "model_module": "@jupyter-widgets/base",
          "model_name": "LayoutModel",
          "model_module_version": "1.2.0",
          "state": {
            "_model_module": "@jupyter-widgets/base",
            "_model_module_version": "1.2.0",
            "_model_name": "LayoutModel",
            "_view_count": null,
            "_view_module": "@jupyter-widgets/base",
            "_view_module_version": "1.2.0",
            "_view_name": "LayoutView",
            "align_content": null,
            "align_items": null,
            "align_self": null,
            "border": null,
            "bottom": null,
            "display": null,
            "flex": null,
            "flex_flow": null,
            "grid_area": null,
            "grid_auto_columns": null,
            "grid_auto_flow": null,
            "grid_auto_rows": null,
            "grid_column": null,
            "grid_gap": null,
            "grid_row": null,
            "grid_template_areas": null,
            "grid_template_columns": null,
            "grid_template_rows": null,
            "height": "24px",
            "justify_content": null,
            "justify_items": null,
            "left": null,
            "margin": null,
            "max_height": null,
            "max_width": null,
            "min_height": null,
            "min_width": null,
            "object_fit": null,
            "object_position": null,
            "order": null,
            "overflow": null,
            "overflow_x": null,
            "overflow_y": null,
            "padding": null,
            "right": null,
            "top": null,
            "visibility": null,
            "width": "300px"
          }
        },
        "507628b40f8f4f2691e451cdaa0a216f": {
          "model_module": "@jupyter-widgets/controls",
          "model_name": "DescriptionStyleModel",
          "model_module_version": "1.5.0",
          "state": {
            "_model_module": "@jupyter-widgets/controls",
            "_model_module_version": "1.5.0",
            "_model_name": "DescriptionStyleModel",
            "_view_count": null,
            "_view_module": "@jupyter-widgets/base",
            "_view_module_version": "1.2.0",
            "_view_name": "StyleView",
            "description_width": ""
          }
        }
      }
    }
  },
  "nbformat": 4,
  "nbformat_minor": 0
}