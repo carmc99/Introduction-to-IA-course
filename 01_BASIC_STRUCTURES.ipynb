{
  "nbformat": 4,
  "nbformat_minor": 0,
  "metadata": {
    "colab": {
      "provenance": [],
      "include_colab_link": true
    },
    "kernelspec": {
      "name": "python3",
      "display_name": "Python 3"
    },
    "language_info": {
      "name": "python"
    }
  },
  "cells": [
    {
      "cell_type": "markdown",
      "metadata": {
        "id": "view-in-github",
        "colab_type": "text"
      },
      "source": [
        "<a href=\"https://colab.research.google.com/github/carmc99/Introduction-to-IA-course/blob/intro%2Fpython/01_BASIC_STRUCTURES.ipynb\" target=\"_parent\"><img src=\"https://colab.research.google.com/assets/colab-badge.svg\" alt=\"Open In Colab\"/></a>"
      ]
    },
    {
      "cell_type": "markdown",
      "source": [
        "### Lab 1\n"
      ],
      "metadata": {
        "id": "xXg8OtCF2B8u"
      }
    },
    {
      "cell_type": "code",
      "source": [
        "import numpy as np\n",
        "\n",
        "v1 = np.array([1,2,3,4])\n",
        "\n",
        "# the log of each element of the vector\n",
        "print ( \"the log   =\", np.log(v1)  )\n",
        "\n",
        "# the mean of all elements of the vector\n",
        "print ( \"the mean  =\",  np.mean(v1)  )\n",
        "\n",
        "# multiply all elements of a vector with a scalar\n",
        "print (\"times two =\", 2*v1)\n"
      ],
      "metadata": {
        "colab": {
          "base_uri": "https://localhost:8080/"
        },
        "id": "Roc6wvxG2JfD",
        "outputId": "992dc46b-b576-4ceb-96f6-38c7a6d595e6"
      },
      "execution_count": null,
      "outputs": [
        {
          "output_type": "stream",
          "name": "stdout",
          "text": [
            "the log   = [0.         0.69314718 1.09861229 1.38629436]\n",
            "the mean  = 2.5\n",
            "times two = [2 4 6 8]\n"
          ]
        },
        {
          "output_type": "execute_result",
          "data": {
            "text/plain": [
              "(numpy.ndarray, float)"
            ]
          },
          "metadata": {},
          "execution_count": 58
        }
      ]
    },
    {
      "cell_type": "markdown",
      "source": [
        "## Task 01. Accuracy\n",
        "\n",
        "Compute the percentage of correct predictions **accuracy** (see [here](https://en.wikipedia.org/wiki/Sensitivity_and_specificity#Definitions)) for the following model output (`predicted`) and ground truth (`actual`).\n",
        "\n",
        "Execute the following cell to generate the data from which you must compute the metric. You may compute the metric implementing python code, or manually, or copy/pasting the actual and predicted data in Excel, etc.\n",
        "\n",
        "**CHALLENGE**: use Python with [`sklearn.metrics.accuracy_score`](https://scikit-learn.org/stable/modules/generated/sklearn.metrics.accuracy_score.html#sklearn.metrics.accuracy_score)\n",
        "\n",
        "\n",
        "Observe that every time you execute the following cell, **a different set of values** is generated. You will have to compute the metric **for the values that you see**. If you run the cell again you will have to compute your metric value again."
      ],
      "metadata": {
        "id": "aI_PL-f44lcp"
      }
    },
    {
      "cell_type": "code",
      "source": [
        "from sklearn.metrics import accuracy_score\n",
        "\n",
        "def accuracy(actual, predicted):\n",
        "  return accuracy_score(actual, predicted)\n",
        "  "
      ],
      "metadata": {
        "id": "JEvFm8J247oW"
      },
      "execution_count": null,
      "outputs": []
    },
    {
      "cell_type": "code",
      "source": [
        "import numpy as np\n",
        "t1_actual    = np.random.randint(2, size=20)\n",
        "t1_predicted = np.abs(t1_actual*(np.random.random(size=20)>(np.random.random()*.9+.05)).astype(int))\n",
        "print (\"actual   \", \", \".join([str(i) for i in t1_actual]))\n",
        "print (\"predicted\", \", \".join([str(i) for i in t1_predicted]))\n",
        "\n",
        "print(accuracy(t1_actual, t1_predicted))"
      ],
      "metadata": {
        "colab": {
          "base_uri": "https://localhost:8080/"
        },
        "id": "42phAAxG4tj_",
        "outputId": "882441f9-40e3-4fc5-f792-54d34df5a988"
      },
      "execution_count": null,
      "outputs": [
        {
          "output_type": "stream",
          "name": "stdout",
          "text": [
            "actual    0, 1, 0, 0, 0, 1, 0, 1, 0, 1, 1, 0, 0, 1, 1, 1, 0, 0, 1, 1\n",
            "predicted 0, 1, 0, 0, 0, 1, 0, 1, 0, 1, 1, 0, 0, 1, 0, 0, 0, 0, 1, 0\n",
            "0.85\n"
          ]
        }
      ]
    },
    {
      "cell_type": "markdown",
      "source": [
        "## Task 2: Sensitivity\n",
        "\n",
        "Compute the sensitivity metric [aka the _True Positive Rate_ or _Recall_ see [Sensitivity on Wikipedia](https://en.wikipedia.org/wiki/Sensitivity_and_specificity)] for the following model output (`predicted`) and ground truth (`actual`)\n",
        "\n",
        "Execute the following cell to generate the data from which you must compute the metric. You may compute the metric implementing python code, or manually, or copy/pasting the actual and predicted data in Excel, etc.\n",
        "\n",
        "**Challenge**: Use Python [`sklearn.metrics.recall_score`](https://scikit-learn.org/stable/modules/generated/sklearn.metrics.recall_score.html)\n",
        "\n",
        "\n",
        "Observe that every time you execute the following cell, **a different set of values** is generated. You will have to compute the metric **for the values that you see**. If you run the cell again you will have to compute your metric value again."
      ],
      "metadata": {
        "id": "e08KOPqJ7QsL"
      }
    },
    {
      "cell_type": "code",
      "source": [
        "from sklearn.metrics import recall_score\n",
        "\n",
        "def sensitivity(actual, predicted):\n",
        "  return recall_score(actual, predicted)"
      ],
      "metadata": {
        "id": "deIVZu4g7qMP"
      },
      "execution_count": null,
      "outputs": []
    },
    {
      "cell_type": "code",
      "source": [
        "import numpy as np\n",
        "t2_predicted = np.random.randint(2, size=20)\n",
        "t2_actual = np.random.randint(2, size=20)\n",
        "t2_predicted[np.argwhere(t2_actual==1)[0][0]]=0\n",
        "print (\"actual   \", \", \".join([str(i) for i in t2_actual]))\n",
        "print (\"predicted\", \", \".join([str(i) for i in t2_predicted]))\n",
        "\n",
        "print(sensitivity(t2_actual, t2_predicted))"
      ],
      "metadata": {
        "id": "mJiQkPsr7nk4",
        "outputId": "18a8ee16-d637-448c-e1b0-d9b2ca00bf24",
        "colab": {
          "base_uri": "https://localhost:8080/"
        }
      },
      "execution_count": null,
      "outputs": [
        {
          "output_type": "stream",
          "name": "stdout",
          "text": [
            "actual    0, 0, 1, 1, 1, 1, 0, 1, 1, 1, 1, 1, 1, 0, 0, 1, 1, 1, 0, 1\n",
            "predicted 1, 0, 0, 0, 1, 1, 1, 0, 1, 0, 0, 1, 1, 0, 0, 0, 0, 1, 1, 1\n"
          ]
        }
      ]
    },
    {
      "cell_type": "markdown",
      "source": [
        "## Task 3: Evaluation in New York City Taxi Trip Duration Kaggle Competition\n",
        "\n",
        "Understand the data and the evaluation metric (**Root Mean Squared Logarithmic Error**, RMSLE) of the following Kaggle competition\n",
        "\n",
        "- [https://www.kaggle.com/c/nyc-taxi-trip-duration/](https://www.kaggle.com/c/nyc-taxi-trip-duration/)\n",
        "\n",
        "Observe that this competition is a **regression task** as we are measuring the difference in prediction with respect to the actual.\n",
        "\n",
        "For instance, the following model predictions and ground truth:\n",
        "\n",
        "    actual    [66 37 22]\n",
        "    predicted [79 51 67]\n",
        "    \n",
        "produce a **RMSLE** of 0.66 aprox.\n",
        "\n",
        "Execute the following cell to generate the data from which you must compute the metric. You may compute the metric implementing python code, or manually, or copy/pasting the actual and predicted data in Excel, etc.\n",
        "\n",
        "**Challenge**: For python use numpy function `np.log` or `np.log1p`\n",
        "\n",
        "Observe that every time you execute the following cell, **a different set of values** is generated. You will have to compute the metric **for the values that you see**. If you run the cell again you will have to compute your metric value again."
      ],
      "metadata": {
        "id": "IoGmfEvyRCHt"
      }
    },
    {
      "cell_type": "code",
      "source": [
        "\n",
        "def rmsle(actual, predicted):\n",
        "    log_diff = np.log1p(predicted) - np.log1p(actual)\n",
        "    print(log_diff)\n",
        "    return np.sqrt(np.mean(log_diff ** 2))  # np.mean average"
      ],
      "metadata": {
        "id": "TJB-dCUcRUyS"
      },
      "execution_count": null,
      "outputs": []
    },
    {
      "cell_type": "code",
      "source": [
        "import numpy as np\n",
        "t2_predicted = np.random.randint(2, size=20)\n",
        "t2_actual = np.random.randint(2, size=20)\n",
        "t2_predicted[np.argwhere(t2_actual==1)[0][0]]=0\n",
        "print (\"actual   \", \", \".join([str(i) for i in t2_actual]))\n",
        "print (\"predicted\", \", \".join([str(i) for i in t2_predicted]))\n",
        "\n",
        "rmsle(t2_actual, t2_predicted)"
      ],
      "metadata": {
        "colab": {
          "base_uri": "https://localhost:8080/"
        },
        "id": "uFKEfcB5RP4k",
        "outputId": "de0def11-9afd-4145-ce62-2dfd103e8c62"
      },
      "execution_count": null,
      "outputs": [
        {
          "output_type": "stream",
          "name": "stdout",
          "text": [
            "actual    0, 1, 0, 0, 1, 1, 1, 0, 0, 1, 0, 0, 1, 0, 1, 0, 1, 1, 1, 0\n",
            "predicted 1, 0, 1, 0, 1, 1, 1, 1, 0, 0, 1, 0, 0, 1, 0, 0, 1, 0, 1, 0\n",
            "[ 0.69314718 -0.69314718  0.69314718  0.          0.          0.\n",
            "  0.          0.69314718  0.         -0.69314718  0.69314718  0.\n",
            " -0.69314718  0.69314718 -0.69314718  0.          0.         -0.69314718\n",
            "  0.          0.        ]\n"
          ]
        },
        {
          "output_type": "execute_result",
          "data": {
            "text/plain": [
              "0.49012907173427356"
            ]
          },
          "metadata": {},
          "execution_count": 124
        }
      ]
    },
    {
      "cell_type": "markdown",
      "source": [
        "## Task 4: Evaluation in Shelter Animal Outcomes Kaggle Competition\n",
        "\n",
        "Understand the data and the evaluation metric (**Multiclass Logaritmic Loss**, _logloss_) of the following Kaggle competition\n",
        "\n",
        "- [https://www.kaggle.com/c/shelter-animal-outcomes/](https://www.kaggle.com/c/shelter-animal-outcomes/)\n",
        "\n",
        "Observe that this competition is a **classification task with 5 classes** and, for each item, the model produces a probability for each class. Classes are numbered from 0 to 4.\n",
        "\n",
        "For instance, the following represents the model output for **three items**\n",
        "\n",
        "    [[0.17 0.27 0.03 0.31 0.21]\n",
        "     [0.09 0.44 0.02 0.15 0.3 ]\n",
        "     [0.26 0.18 0.25 0.2  0.11]]\n",
        "     \n",
        "Where the classes with gretest probability assigned by the model are \n",
        "\n",
        "- class 3 for the first item (with 0.31 probability) \n",
        "- class 1 for the second item (with 0.44 probability)\n",
        "- class 0 for the third item (with 0.26 probability)\n",
        "\n",
        "The class labels are expressed as a similar matrix, but with 0/1\n",
        "For instance, the ground truth for the corresponding three items above, could be:\n",
        "\n",
        "    [[0 0 0 1 0]\n",
        "     [0 0 1 0 0]\n",
        "     [1 0 0 0 0]]\n",
        "\n",
        "and will produce a **logloss** of approx 2.14\n",
        "\n",
        "Execute the following cell to generate the data from which you must compute the metric. You may compute the metric implementing python code, or manually, or copy/pasting the actual and predicted data in Excel, etc."
      ],
      "metadata": {
        "id": "m0SkLHKFbwuI"
      }
    },
    {
      "cell_type": "code",
      "source": [
        "import numpy as np\n",
        "\n",
        "def logloss(actual, predicted):\n",
        "  logP = np.log(predicted)\n",
        "  y = actual * logP\n",
        "  avg = -(1/len(actual)) * y.sum()\n",
        "  return avg"
      ],
      "metadata": {
        "id": "pdQI10AAcxro"
      },
      "execution_count": null,
      "outputs": []
    },
    {
      "cell_type": "code",
      "source": [
        "import numpy as np\n",
        "\n",
        "t4_predicted = np.random.random(size=(7,5)).T+0.5\n",
        "t4_predicted = np.round((t4_predicted/np.sum(t4_predicted,axis=0)),2).T\n",
        "\n",
        "t4_actual = np.eye(5)[np.random.randint(5,size=len(t4_predicted))].astype(int)\n",
        "\n",
        "print (\"actual\")\n",
        "print (t4_actual)\n",
        "print (\"\\npredicted\")\n",
        "print (t4_predicted)\n",
        "\n",
        "logloss([[0, 0, 0, 1, 0],\n",
        " [0, 0, 1, 0, 0],\n",
        " [1, 0, 0, 0, 0]], [[0.17, 0.27, 0.03, 0.31, 0.21],\n",
        " [0.09, 0.44, 0.02, 0.15, 0.3 ],\n",
        " [0.26, 0.18, 0.25, 0.2, 0.11]])"
      ],
      "metadata": {
        "colab": {
          "base_uri": "https://localhost:8080/"
        },
        "id": "xoIOxQ5tb2KY",
        "outputId": "f0826a49-ac24-4319-b063-a213d149d508"
      },
      "execution_count": null,
      "outputs": [
        {
          "output_type": "stream",
          "name": "stdout",
          "text": [
            "actual\n",
            "[[1 0 0 0 0]\n",
            " [0 0 1 0 0]\n",
            " [1 0 0 0 0]\n",
            " [0 0 0 1 0]\n",
            " [0 0 0 1 0]\n",
            " [0 0 0 1 0]\n",
            " [0 0 0 1 0]]\n",
            "\n",
            "predicted\n",
            "[[0.16 0.18 0.17 0.26 0.23]\n",
            " [0.19 0.2  0.13 0.17 0.3 ]\n",
            " [0.18 0.15 0.3  0.19 0.18]\n",
            " [0.27 0.18 0.2  0.1  0.25]\n",
            " [0.12 0.29 0.26 0.17 0.17]\n",
            " [0.22 0.17 0.15 0.21 0.25]\n",
            " [0.28 0.14 0.25 0.21 0.11]]\n"
          ]
        },
        {
          "output_type": "execute_result",
          "data": {
            "text/plain": [
              "2.1434265449659"
            ]
          },
          "metadata": {},
          "execution_count": 134
        }
      ]
    },
    {
      "cell_type": "markdown",
      "source": [
        "### Lab 2.1"
      ],
      "metadata": {
        "id": "muFIi0pG2Gjk"
      }
    },
    {
      "cell_type": "markdown",
      "source": [
        "## Task 1: Palindrome\n",
        "\n",
        "Determine whether an integer number $n$ is a palindrome, this is, if it is the same number when read left to right and when read right to left. Return `True` if so, otherwise return `False`.\n",
        "\n",
        "**Execution example**\n",
        "\n",
        "```python\n",
        ">>> palindromo(n=3456543)\n",
        "True\n",
        "\n",
        ">>> palindromo(n=543)\n",
        "False\n",
        "```\n",
        "\n",
        "**hint**: transform it into string, reverse it and check equality\n",
        "\n",
        "**challenge**: use one single line of code"
      ],
      "metadata": {
        "id": "zzSijMFtO-2j"
      }
    },
    {
      "cell_type": "code",
      "source": [
        "def palindromo(n): # assume n is an integer\n",
        "    n = str(n) # convert number to str\n",
        "    if(n[::-1] == n): # slice the string\n",
        "      return True\n",
        "    return False"
      ],
      "metadata": {
        "id": "FpgQP19sPf1m"
      },
      "execution_count": null,
      "outputs": []
    },
    {
      "cell_type": "code",
      "source": [
        "print (palindromo(12321))\n",
        "print (palindromo(12322))"
      ],
      "metadata": {
        "colab": {
          "base_uri": "https://localhost:8080/"
        },
        "id": "30UveMCGHfnS",
        "outputId": "71286613-14f4-4947-a653-1f099bbb40ce"
      },
      "execution_count": null,
      "outputs": [
        {
          "output_type": "stream",
          "name": "stdout",
          "text": [
            "True\n",
            "False\n"
          ]
        }
      ]
    },
    {
      "cell_type": "markdown",
      "source": [
        "## Task 2: Money Change\n",
        "\n",
        "En este ejercicio, su programa recibirá un monto entre 1 y 99 centavos de Dolar, Escriba un metodo que retorne en una lista, cuantas monedas son necesarias para devolverle a alguien dicho valor, si únicamente se cuenta con monedas de 1, 10 y 25 centavos. La lista debe entregarse de la siguiente manera:\n",
        "\n",
        "In this task your function will receive an amount between 1 and 99 cents and will have to return a list with three numbers [$n_1$, $n_{10}$, $n_{25}$], specifying how many coins of 1, 10 and 25 cents are required to obtain the given amonut. We only have coints of 1, 10 and 25 cents. There are no other kinds of coins.\n",
        "\n",
        "If the amount given is less than 1 or more than 99 you must return `None`.\n",
        "\n",
        "**Execution example**\n",
        "\n",
        "```python\n",
        ">>> change_money(n=55)\n",
        "[5,0,2]\n",
        "\n",
        ">>> change_money(n=200)\n",
        "None\n",
        "\n",
        ">>> change_money(n=47)\n",
        "[2,2,1]\n",
        "```\n",
        "\n",
        "**hint**: use `\\\\` for integer division\n"
      ],
      "metadata": {
        "id": "y3gF7C57PC_C"
      }
    },
    {
      "cell_type": "code",
      "source": [
        "def change_money(n):\n",
        "    r=[0,0,0] #recall: r[0]== n_1, r[1]== n_10 y r[2]== n_25 \n",
        "    if n>99 or n<1: return None\n",
        "    while n > 0:\n",
        "      if(n // 25 > 0):\n",
        "        n -= 25\n",
        "        r[2] += 1\n",
        "      elif(n // 10 > 0):\n",
        "        n-=10\n",
        "        r[1] += 1\n",
        "      else:\n",
        "        n-=1\n",
        "        r[0] += 1\n",
        "        \n",
        "    return r"
      ],
      "metadata": {
        "id": "D1Id5AZzSD5q"
      },
      "execution_count": null,
      "outputs": []
    },
    {
      "cell_type": "code",
      "source": [
        "print(change_money(n=55))\n",
        "print(change_money(n=200))\n",
        "print(change_money(n=47))\n"
      ],
      "metadata": {
        "colab": {
          "base_uri": "https://localhost:8080/"
        },
        "id": "PA2OtEqZSG9I",
        "outputId": "bbefed37-4446-4d4b-de4f-f7356c9520f3"
      },
      "execution_count": null,
      "outputs": [
        {
          "output_type": "stream",
          "name": "stdout",
          "text": [
            "[5, 0, 2]\n",
            "None\n",
            "[2, 2, 1]\n"
          ]
        }
      ]
    },
    {
      "cell_type": "markdown",
      "source": [
        "## Task 3: Fibonacci\n",
        "\n",
        "Complete the function below so that given an integer $n$ it computes the $n^{th}$ term of the Fibonacci series:\n",
        "\n",
        "$$ f_n = f_{n-1}+f_{n-2}$$ \n",
        "\n",
        "Where $$f_0=0 \\:\\:\\text{ y }\\:\\:f_1=1 $$ so that: $$f_2=1+0=1$$ $$f_3=1+1=2$$ $$f_4=2+1=3$$ and so on\n",
        "\n",
        "### Execution example \n",
        "```python\n",
        "\n",
        ">>> fibonacci(10)\n",
        "55\n",
        "\n",
        ">>> fibonacci(36)\n",
        "14930352\n",
        "```"
      ],
      "metadata": {
        "id": "ZU0Tfn6fWF3h"
      }
    },
    {
      "cell_type": "code",
      "source": [
        "def fibonacci(n):\n",
        "    f0=0\n",
        "    f1=1\n",
        "    suma=0\n",
        "    i = 0\n",
        "    while i < n:\n",
        "      suma = f0 + f1\n",
        "      f1 = f0\n",
        "      f0 = suma\n",
        "      i += 1\n",
        "    return suma"
      ],
      "metadata": {
        "id": "MxOIaHzQWM2-"
      },
      "execution_count": null,
      "outputs": []
    },
    {
      "cell_type": "code",
      "source": [
        "fibonacci(10), fibonacci(36)"
      ],
      "metadata": {
        "colab": {
          "base_uri": "https://localhost:8080/"
        },
        "id": "Q1PCFnT3WPeF",
        "outputId": "55498564-447a-4c01-8213-df771174c4f1"
      },
      "execution_count": null,
      "outputs": [
        {
          "output_type": "execute_result",
          "data": {
            "text/plain": [
              "(55, 14930352)"
            ]
          },
          "metadata": {},
          "execution_count": 58
        }
      ]
    },
    {
      "cell_type": "markdown",
      "source": [
        "## Task 4: Perfect number\n",
        "\n",
        "complete the following function so that it accepts an integer $n$ and returns `True` if $n$ is a perfect number and `False` otherwise.\n",
        "\n",
        "A perfect number is a positive integer that is equal to the sum of its positive divisors, excluding the number itself. For instance $6=3+2+1$ \n",
        "\n",
        "See https://en.wikipedia.org/wiki/Perfect_number\n",
        "\n",
        "**Execution example**\n",
        "```python\n",
        ">>> perfecto(6)\n",
        "True\n",
        "\n",
        ">>> perfecto(51)\n",
        "False\n",
        "\n",
        ">>> perfecto(496)\n",
        "True\n",
        "```\n",
        "**hint**: make a loop of all numbers up to $n$ and use the modulus operator `%` to identify which are the divisors, then sum them up."
      ],
      "metadata": {
        "id": "twHeQfyXc1E_"
      }
    },
    {
      "cell_type": "code",
      "source": [
        "def perfecto(n):\n",
        "    i = 1\n",
        "    sum = 0\n",
        "    while i < n:\n",
        "      if(n%i == 0):\n",
        "        sum += i\n",
        "      i += 1\n",
        "\n",
        "    if(n == sum):\n",
        "      return True\n",
        "    return False"
      ],
      "metadata": {
        "id": "igtVlyA_c3nu"
      },
      "execution_count": null,
      "outputs": []
    },
    {
      "cell_type": "code",
      "source": [
        "perfecto(6), perfecto(51), perfecto(496)"
      ],
      "metadata": {
        "id": "C-AfHFWgdDCF",
        "outputId": "bf4ed030-4f41-42dd-fd35-2cc75626f7ab",
        "colab": {
          "base_uri": "https://localhost:8080/"
        }
      },
      "execution_count": null,
      "outputs": [
        {
          "output_type": "execute_result",
          "data": {
            "text/plain": [
              "(True, False, True)"
            ]
          },
          "metadata": {},
          "execution_count": 66
        }
      ]
    },
    {
      "cell_type": "markdown",
      "source": [
        "### Lab 2.2 Numpy"
      ],
      "metadata": {
        "id": "3jpynUUf0p3y"
      }
    },
    {
      "cell_type": "markdown",
      "source": [
        "## Task 1: Cauchy Matrix\n",
        "\n",
        "\n",
        "Given two vectors (1D `numpy` arrays), $x$ and $y$, build the Cauchy Matrix:\n",
        "\n",
        "\n",
        "$$C_{ij}=\\:\\: \\frac{1}{x_i-y_j}$$\n",
        "\n",
        "See https://en.wikipedia.org/wiki/Cauchy_matrix, the elements of the matrix are the results of substracting the correpsonding positions in the $x$ and $y$ vectors where the rows correspond to $x$ and the columns to $y$.\n",
        "\n",
        "**NOTE**: if there is any division by zero, you must raise a `ValueError` exception.\n",
        "\n",
        "**HINT**: create a matrix with zeros with the desired output shape, use broadcasting of $x$ as row vector, and then broadcasting of $y$ as column vector with `reshape(-1,1)`\n",
        "\n",
        "**CHALLENGE**: build a function with maximum four lines of code, including checking for zeros and raising the exception.\n",
        "\n",
        "**Execution example**\n",
        "\n",
        "```python\n",
        ">> x = np.array([45, 31, 67, 75, 54])\n",
        ">> y = np.array([17,  7, 15, 15, 18])\n",
        ">> cauchy(c,y)\n",
        "array([[0.03571429, 0.02631579, 0.03333333, 0.03333333, 0.03703704],\n",
        "       [0.07142857, 0.04166667, 0.0625    , 0.0625    , 0.07692308],\n",
        "       [0.02      , 0.01666667, 0.01923077, 0.01923077, 0.02040816],\n",
        "       [0.01724138, 0.01470588, 0.01666667, 0.01666667, 0.01754386],\n",
        "       [0.02702703, 0.0212766 , 0.02564103, 0.02564103, 0.02777778]])\n",
        "```"
      ],
      "metadata": {
        "id": "Rh_rKMqi07Zw"
      }
    },
    {
      "cell_type": "code",
      "source": [
        "def cauchy(x, y):\n",
        "    result = []\n",
        "    row = []\n",
        "    for i in range(len(x)):\n",
        "      for j in range(len(y)):\n",
        "        elementX = x[i]\n",
        "        elementY = y[j]\n",
        "        diff = 1 / (elementX - elementY)\n",
        "        if(diff == 0):\n",
        "          raise ValueError()\n",
        "        row.append(diff)\n",
        "      result.append(row)\n",
        "      row = []\n",
        "\n",
        "    return result"
      ],
      "metadata": {
        "id": "PZJjqNHh0-3g"
      },
      "execution_count": null,
      "outputs": []
    },
    {
      "cell_type": "code",
      "source": [
        "import numpy as np\n",
        "\n",
        "x = np.array([45, 31, 67, 75, 54])\n",
        "y = np.array([17,  7, 15, 15, 18])\n",
        "cauchy(x,y)"
      ],
      "metadata": {
        "id": "b8ZMobsP1BkP",
        "outputId": "2b6904cc-3218-4a4a-ef33-9e6f022409fa",
        "colab": {
          "base_uri": "https://localhost:8080/"
        }
      },
      "execution_count": null,
      "outputs": [
        {
          "output_type": "execute_result",
          "data": {
            "text/plain": [
              "[[0.03571428571428571,\n",
              "  0.02631578947368421,\n",
              "  0.03333333333333333,\n",
              "  0.03333333333333333,\n",
              "  0.037037037037037035],\n",
              " [0.07142857142857142,\n",
              "  0.041666666666666664,\n",
              "  0.0625,\n",
              "  0.0625,\n",
              "  0.07692307692307693],\n",
              " [0.02,\n",
              "  0.016666666666666666,\n",
              "  0.019230769230769232,\n",
              "  0.019230769230769232,\n",
              "  0.02040816326530612],\n",
              " [0.017241379310344827,\n",
              "  0.014705882352941176,\n",
              "  0.016666666666666666,\n",
              "  0.016666666666666666,\n",
              "  0.017543859649122806],\n",
              " [0.02702702702702703,\n",
              "  0.02127659574468085,\n",
              "  0.02564102564102564,\n",
              "  0.02564102564102564,\n",
              "  0.027777777777777776]]"
            ]
          },
          "metadata": {},
          "execution_count": 13
        }
      ]
    },
    {
      "cell_type": "markdown",
      "source": [
        "## Task 2: Position of closest scalar\n",
        "\n",
        "Given a 1D vector $x$, find the position of the closest element to $v$\n",
        "\n",
        "\n",
        "**Execution example**:\n",
        "\n",
        "```python\n",
        ">> x=np.arange(25,55,3)\n",
        ">> minimo(x,34)\n",
        "3\n",
        "```\n",
        "\n",
        "**HINT**: use [`np.argmin`](https://docs.scipy.org/doc/numpy/reference/generated/numpy.argmin.html)\n",
        "\n",
        "**CHALLENGE**: solve it with one line of code"
      ],
      "metadata": {
        "id": "8finYaINAECB"
      }
    },
    {
      "cell_type": "code",
      "source": [
        "def minimo(x,v):\n",
        "    minArray = np.abs(x-v) # halla el valor absoluto de cada item del array, con el resultado de la diferencia del item y el valor de v\n",
        "    minIdx = np.argmin(minArray) # retorna el indice del valor minimo en el array\n",
        "    return minIdx"
      ],
      "metadata": {
        "id": "LKt2TJGLAIzw"
      },
      "execution_count": null,
      "outputs": []
    },
    {
      "cell_type": "code",
      "source": [
        "x = np.arange(25,55,3)\n",
        "v = 34\n",
        "minimo(x,v)"
      ],
      "metadata": {
        "id": "8Llm3tXvAJj3"
      },
      "execution_count": null,
      "outputs": []
    },
    {
      "cell_type": "markdown",
      "source": [
        "## Task 3: Substracting row mean\n",
        "\n",
        "Given a matrix, your function must return a new one with the same dimensions in which each component is substracted the mean of its own row.\n",
        "\n",
        "\n",
        "**Execution example**\n",
        "```python\n",
        ">> X = np.array([[1, 2, 3], [4, 5, 6],[7,8,9]])\n",
        ">> media(X)\n",
        "array([[-1.,  0.,  1.],\n",
        "       [-1.,  0.,  1.],\n",
        "       [-1.,  0.,  1.]])\n",
        "```\n",
        "\n",
        "**HINT**: use broadcasting\n",
        "\n",
        "**CHALLENGE**: solve it with one line of code"
      ],
      "metadata": {
        "id": "2MDf4yfMjU98"
      }
    },
    {
      "cell_type": "code",
      "source": [
        "import numpy as np\n",
        "\n",
        "def media(X):\n",
        "    r = []\n",
        "    for i in range(len(X)):\n",
        "      media = (X - np.mean(X[i]))\n",
        "      r.append(media[i].tolist())\n",
        "    return r"
      ],
      "metadata": {
        "id": "J5enyYgvjZ8j"
      },
      "execution_count": null,
      "outputs": []
    },
    {
      "cell_type": "code",
      "source": [
        "X = np.array([[1, 2, 3], [4, 5, 6],[7,8,9]])\n",
        "media(X)"
      ],
      "metadata": {
        "colab": {
          "base_uri": "https://localhost:8080/"
        },
        "id": "p4VHn5tvjfwa",
        "outputId": "3f06b823-57d6-4341-aab5-0f32c3c50a85"
      },
      "execution_count": null,
      "outputs": [
        {
          "output_type": "stream",
          "name": "stdout",
          "text": [
            "[-1.  0.  1.]\n",
            "[-1.  0.  1.]\n",
            "[-1.  0.  1.]\n"
          ]
        },
        {
          "output_type": "execute_result",
          "data": {
            "text/plain": [
              "[[-1.0, 0.0, 1.0], [-1.0, 0.0, 1.0], [-1.0, 0.0, 1.0]]"
            ]
          },
          "metadata": {},
          "execution_count": 87
        }
      ]
    },
    {
      "cell_type": "markdown",
      "source": [
        "## Task 4: Double the diagonal\n",
        "\n",
        "Complete the following function such that it returns the same matrix received in $X$ but with its diagonal multiplied by 2. Assume $X$ is a square matrix (with the same number of rows and columns).\n",
        "\n",
        "**Execution example**\n",
        "\n",
        "```python\n",
        ">> X = np.array([[79, 45, 67,  8, 37],\n",
        ">>               [47, 40,  5, 79, 86],\n",
        ">>               [72, 25, 44, 45, 22],\n",
        ">>               [12, 85,  8, 53, 28],\n",
        ">>               [ 4, 37, 36, 40, 16]])\n",
        ">> \n",
        ">> doublediag(X)\n",
        "\n",
        "array([[158.,  45.,  67.,   8.,  37.],\n",
        "       [ 47.,  80.,   5.,  79.,  86.],\n",
        "       [ 72.,  25.,  88.,  45.,  22.],\n",
        "       [ 12.,  85.,   8., 106.,  28.],\n",
        "       [  4.,  37.,  36.,  40.,  32.]])\n",
        "```\n",
        "\n",
        "**HINT**: use [`np.eye`](https://docs.scipy.org/doc/numpy/reference/generated/numpy.eye.html)\n",
        "\n",
        "**CHALLENGE**: solve with one line of code"
      ],
      "metadata": {
        "id": "uvExiQtLji7S"
      }
    },
    {
      "cell_type": "code",
      "source": [
        "import numpy as np\n",
        "\n",
        "def doublediag(X):\n",
        "    r = np.eye(len(X[0]), len(X)) * 2 # Genera una matrix con diagonal de unos\n",
        "    r[r == 0] = 1 # Convierte los ceros en 1\n",
        "    r = X * r\n",
        "    return r"
      ],
      "metadata": {
        "id": "ExDbdKQIjlax"
      },
      "execution_count": null,
      "outputs": []
    },
    {
      "cell_type": "code",
      "source": [
        "X = np.array([[79, 45, 67,  8, 37],\n",
        "              [47, 40,  5, 79, 86],\n",
        "              [72, 25, 44, 45, 22],\n",
        "              [12, 85,  8, 53, 28],\n",
        "              [ 4, 37, 36, 40, 16]])\n",
        "doublediag(X)"
      ],
      "metadata": {
        "colab": {
          "base_uri": "https://localhost:8080/"
        },
        "id": "_ZclLsR7jnF5",
        "outputId": "142fa02d-899c-41ae-d97a-11716c06c904"
      },
      "execution_count": null,
      "outputs": [
        {
          "output_type": "execute_result",
          "data": {
            "text/plain": [
              "array([[158.,  45.,  67.,   8.,  37.],\n",
              "       [ 47.,  80.,   5.,  79.,  86.],\n",
              "       [ 72.,  25.,  88.,  45.,  22.],\n",
              "       [ 12.,  85.,   8., 106.,  28.],\n",
              "       [  4.,  37.,  36.,  40.,  32.]])"
            ]
          },
          "metadata": {},
          "execution_count": 128
        }
      ]
    },
    {
      "cell_type": "markdown",
      "source": [
        "# LAB 02.03 - Pandas"
      ],
      "metadata": {
        "id": "BMIFlTt1tOzu"
      }
    },
    {
      "cell_type": "code",
      "source": [
        "import numpy as np\n",
        "import pandas as pd"
      ],
      "metadata": {
        "id": "Ec-t2-2bx5Ze"
      },
      "execution_count": 6,
      "outputs": []
    },
    {
      "cell_type": "markdown",
      "source": [
        "## Task 1: Extract data\n",
        "\n",
        "we have a dataframe of items with a price and, **sometimes**, with an extra column (`margin`).\n",
        "\n",
        "You will have to complete a function that will **filter** the dataframe selecting the rows:\n",
        "\n",
        "- whose price is > 100\n",
        "- **OR** whose margin is >10, if the column `margin` is present\n",
        "\n",
        "your function must return **A LIST** with the item ids of the selected rows\n",
        "\n",
        "For instance, with the following dataframe\n",
        "\n",
        "             price  category\n",
        "    itemid                  \n",
        "    56556   108.15       2.0\n",
        "    73065    83.54       2.0\n",
        "    36619   114.42       0.0\n",
        "    73414    82.94       0.0\n",
        "    13410   115.13       2.0\n",
        "    66153    91.50       1.0\n",
        "    77380    85.82       0.0\n",
        "    73249    95.95       0.0\n",
        "    11654   100.22       2.0\n",
        "    11972    77.16       1.0\n",
        "\n",
        "your must return the following list:\n",
        "\n",
        "     [56556, 36619, 13410, 11654]\n",
        "     \n",
        "But if you get the following dataframe\n",
        "\n",
        "             price  category  margin\n",
        "    itemid                          \n",
        "    39059    98.11       0.0   11.04\n",
        "    19526    98.11       1.0   11.25\n",
        "    78176    94.34       1.0   10.51\n",
        "    50948   102.37       1.0   10.77\n",
        "    12111    98.07       1.0    8.50\n",
        "    56191    98.53       1.0   11.65\n",
        "    38887    91.49       2.0   11.24\n",
        "    77915   117.30       0.0    8.64\n",
        "    55010    96.13       0.0    8.95\n",
        "    45925    98.59       1.0   10.45\n",
        "    \n",
        "you must return the following list\n",
        "\n",
        "    [39059, 19526, 78176, 50948, 56191, 38887, 77915, 45925]"
      ],
      "metadata": {
        "id": "TQjO0S3ZtSPV"
      }
    },
    {
      "cell_type": "code",
      "source": [
        "def create_df(missing=False, n=10):\n",
        "    itemid   = np.random.randint(100000, size=n)+1000\n",
        "    category = np.random.randint(3, size=n)\n",
        "    price    = np.round(np.random.normal(loc=100, scale=10, size=n),2)\n",
        "    margin   = np.round(np.random.normal(loc=10, scale=1, size=n),2)\n",
        "    \n",
        "    if missing:\n",
        "        nmissing = np.random.randint(len(price)//2)+2                                     \n",
        "        price[np.random.permutation(len(price))[:nmissing]] = np.nan\n",
        "    \n",
        "    d = pd.DataFrame(np.r_[[price, category, margin]].T, index=itemid, columns=[\"price\", \"category\", \"margin\"])\n",
        "    d.index.name=\"itemid\"\n",
        "    if np.random.random()>.5:\n",
        "        d = d[d.columns[:2]]\n",
        "        \n",
        "    return d"
      ],
      "metadata": {
        "id": "8dH2-OTztZFU"
      },
      "execution_count": 3,
      "outputs": []
    },
    {
      "cell_type": "code",
      "source": [
        "def select_items(df):\n",
        "    # make sure to make a copy in case you modify the original df\n",
        "    df = df.copy()\n",
        "    result = []\n",
        "    condition1 = (df.price > 100)\n",
        "    if \"margin\" in df.columns:\n",
        "      condition2 = (df.margin > 10)\n",
        "      r1 = (df[condition1 | condition2]).copy()\n",
        "      return r1.index.tolist()\n",
        "    else:\n",
        "      r2 = (df[condition1]).copy()\n",
        "      return r2.index.tolist()\n",
        "    result = []\n",
        "    return result"
      ],
      "metadata": {
        "id": "qMBRswtLtiXk"
      },
      "execution_count": null,
      "outputs": []
    },
    {
      "cell_type": "code",
      "source": [
        "d = create_df()\n",
        "d"
      ],
      "metadata": {
        "colab": {
          "base_uri": "https://localhost:8080/",
          "height": 394
        },
        "id": "Cp3qoDcBtnjD",
        "outputId": "bf228c25-598b-41fa-b0b4-81504b88f545"
      },
      "execution_count": null,
      "outputs": [
        {
          "output_type": "execute_result",
          "data": {
            "text/plain": [
              "         price  category  margin\n",
              "itemid                          \n",
              "18609   102.14       0.0    9.47\n",
              "93054    89.65       2.0    7.97\n",
              "71838    90.97       2.0    9.98\n",
              "30404    88.52       0.0   10.10\n",
              "93568    73.04       0.0   10.03\n",
              "72032    98.21       2.0    9.16\n",
              "93248   112.61       2.0    9.72\n",
              "1325     95.14       0.0    9.36\n",
              "61060   107.68       0.0    9.33\n",
              "44045   115.32       2.0    9.96"
            ],
            "text/html": [
              "\n",
              "  <div id=\"df-940fe028-8278-4ee2-b6e6-cfdd7f4ebb8f\">\n",
              "    <div class=\"colab-df-container\">\n",
              "      <div>\n",
              "<style scoped>\n",
              "    .dataframe tbody tr th:only-of-type {\n",
              "        vertical-align: middle;\n",
              "    }\n",
              "\n",
              "    .dataframe tbody tr th {\n",
              "        vertical-align: top;\n",
              "    }\n",
              "\n",
              "    .dataframe thead th {\n",
              "        text-align: right;\n",
              "    }\n",
              "</style>\n",
              "<table border=\"1\" class=\"dataframe\">\n",
              "  <thead>\n",
              "    <tr style=\"text-align: right;\">\n",
              "      <th></th>\n",
              "      <th>price</th>\n",
              "      <th>category</th>\n",
              "      <th>margin</th>\n",
              "    </tr>\n",
              "    <tr>\n",
              "      <th>itemid</th>\n",
              "      <th></th>\n",
              "      <th></th>\n",
              "      <th></th>\n",
              "    </tr>\n",
              "  </thead>\n",
              "  <tbody>\n",
              "    <tr>\n",
              "      <th>18609</th>\n",
              "      <td>102.14</td>\n",
              "      <td>0.0</td>\n",
              "      <td>9.47</td>\n",
              "    </tr>\n",
              "    <tr>\n",
              "      <th>93054</th>\n",
              "      <td>89.65</td>\n",
              "      <td>2.0</td>\n",
              "      <td>7.97</td>\n",
              "    </tr>\n",
              "    <tr>\n",
              "      <th>71838</th>\n",
              "      <td>90.97</td>\n",
              "      <td>2.0</td>\n",
              "      <td>9.98</td>\n",
              "    </tr>\n",
              "    <tr>\n",
              "      <th>30404</th>\n",
              "      <td>88.52</td>\n",
              "      <td>0.0</td>\n",
              "      <td>10.10</td>\n",
              "    </tr>\n",
              "    <tr>\n",
              "      <th>93568</th>\n",
              "      <td>73.04</td>\n",
              "      <td>0.0</td>\n",
              "      <td>10.03</td>\n",
              "    </tr>\n",
              "    <tr>\n",
              "      <th>72032</th>\n",
              "      <td>98.21</td>\n",
              "      <td>2.0</td>\n",
              "      <td>9.16</td>\n",
              "    </tr>\n",
              "    <tr>\n",
              "      <th>93248</th>\n",
              "      <td>112.61</td>\n",
              "      <td>2.0</td>\n",
              "      <td>9.72</td>\n",
              "    </tr>\n",
              "    <tr>\n",
              "      <th>1325</th>\n",
              "      <td>95.14</td>\n",
              "      <td>0.0</td>\n",
              "      <td>9.36</td>\n",
              "    </tr>\n",
              "    <tr>\n",
              "      <th>61060</th>\n",
              "      <td>107.68</td>\n",
              "      <td>0.0</td>\n",
              "      <td>9.33</td>\n",
              "    </tr>\n",
              "    <tr>\n",
              "      <th>44045</th>\n",
              "      <td>115.32</td>\n",
              "      <td>2.0</td>\n",
              "      <td>9.96</td>\n",
              "    </tr>\n",
              "  </tbody>\n",
              "</table>\n",
              "</div>\n",
              "      <button class=\"colab-df-convert\" onclick=\"convertToInteractive('df-940fe028-8278-4ee2-b6e6-cfdd7f4ebb8f')\"\n",
              "              title=\"Convert this dataframe to an interactive table.\"\n",
              "              style=\"display:none;\">\n",
              "        \n",
              "  <svg xmlns=\"http://www.w3.org/2000/svg\" height=\"24px\"viewBox=\"0 0 24 24\"\n",
              "       width=\"24px\">\n",
              "    <path d=\"M0 0h24v24H0V0z\" fill=\"none\"/>\n",
              "    <path d=\"M18.56 5.44l.94 2.06.94-2.06 2.06-.94-2.06-.94-.94-2.06-.94 2.06-2.06.94zm-11 1L8.5 8.5l.94-2.06 2.06-.94-2.06-.94L8.5 2.5l-.94 2.06-2.06.94zm10 10l.94 2.06.94-2.06 2.06-.94-2.06-.94-.94-2.06-.94 2.06-2.06.94z\"/><path d=\"M17.41 7.96l-1.37-1.37c-.4-.4-.92-.59-1.43-.59-.52 0-1.04.2-1.43.59L10.3 9.45l-7.72 7.72c-.78.78-.78 2.05 0 2.83L4 21.41c.39.39.9.59 1.41.59.51 0 1.02-.2 1.41-.59l7.78-7.78 2.81-2.81c.8-.78.8-2.07 0-2.86zM5.41 20L4 18.59l7.72-7.72 1.47 1.35L5.41 20z\"/>\n",
              "  </svg>\n",
              "      </button>\n",
              "      \n",
              "  <style>\n",
              "    .colab-df-container {\n",
              "      display:flex;\n",
              "      flex-wrap:wrap;\n",
              "      gap: 12px;\n",
              "    }\n",
              "\n",
              "    .colab-df-convert {\n",
              "      background-color: #E8F0FE;\n",
              "      border: none;\n",
              "      border-radius: 50%;\n",
              "      cursor: pointer;\n",
              "      display: none;\n",
              "      fill: #1967D2;\n",
              "      height: 32px;\n",
              "      padding: 0 0 0 0;\n",
              "      width: 32px;\n",
              "    }\n",
              "\n",
              "    .colab-df-convert:hover {\n",
              "      background-color: #E2EBFA;\n",
              "      box-shadow: 0px 1px 2px rgba(60, 64, 67, 0.3), 0px 1px 3px 1px rgba(60, 64, 67, 0.15);\n",
              "      fill: #174EA6;\n",
              "    }\n",
              "\n",
              "    [theme=dark] .colab-df-convert {\n",
              "      background-color: #3B4455;\n",
              "      fill: #D2E3FC;\n",
              "    }\n",
              "\n",
              "    [theme=dark] .colab-df-convert:hover {\n",
              "      background-color: #434B5C;\n",
              "      box-shadow: 0px 1px 3px 1px rgba(0, 0, 0, 0.15);\n",
              "      filter: drop-shadow(0px 1px 2px rgba(0, 0, 0, 0.3));\n",
              "      fill: #FFFFFF;\n",
              "    }\n",
              "  </style>\n",
              "\n",
              "      <script>\n",
              "        const buttonEl =\n",
              "          document.querySelector('#df-940fe028-8278-4ee2-b6e6-cfdd7f4ebb8f button.colab-df-convert');\n",
              "        buttonEl.style.display =\n",
              "          google.colab.kernel.accessAllowed ? 'block' : 'none';\n",
              "\n",
              "        async function convertToInteractive(key) {\n",
              "          const element = document.querySelector('#df-940fe028-8278-4ee2-b6e6-cfdd7f4ebb8f');\n",
              "          const dataTable =\n",
              "            await google.colab.kernel.invokeFunction('convertToInteractive',\n",
              "                                                     [key], {});\n",
              "          if (!dataTable) return;\n",
              "\n",
              "          const docLinkHtml = 'Like what you see? Visit the ' +\n",
              "            '<a target=\"_blank\" href=https://colab.research.google.com/notebooks/data_table.ipynb>data table notebook</a>'\n",
              "            + ' to learn more about interactive tables.';\n",
              "          element.innerHTML = '';\n",
              "          dataTable['output_type'] = 'display_data';\n",
              "          await google.colab.output.renderOutput(dataTable, element);\n",
              "          const docLink = document.createElement('div');\n",
              "          docLink.innerHTML = docLinkHtml;\n",
              "          element.appendChild(docLink);\n",
              "        }\n",
              "      </script>\n",
              "    </div>\n",
              "  </div>\n",
              "  "
            ]
          },
          "metadata": {},
          "execution_count": 166
        }
      ]
    },
    {
      "cell_type": "code",
      "source": [
        "select_items(d)"
      ],
      "metadata": {
        "colab": {
          "base_uri": "https://localhost:8080/"
        },
        "id": "d7Mid-prtpwy",
        "outputId": "146e457f-2473-4dee-f0b5-62b20f0770c8"
      },
      "execution_count": null,
      "outputs": [
        {
          "output_type": "execute_result",
          "data": {
            "text/plain": [
              "[18609, 30404, 93568, 93248, 61060, 44045]"
            ]
          },
          "metadata": {},
          "execution_count": 192
        }
      ]
    },
    {
      "cell_type": "markdown",
      "source": [
        "## Task 2: Group statistics\n",
        "\n",
        "Complete the following function so that it returns a dataframe with the average, max and min **prices** per category. \n",
        "\n",
        "For instance, for the following dataframe\n",
        "\n",
        "             price  category  margin\n",
        "    itemid                          \n",
        "    17946    93.85       1.0   10.64\n",
        "    61190    91.72       1.0    9.76\n",
        "    39639   100.16       1.0   10.67\n",
        "    17791   110.44       2.0    9.65\n",
        "    7333    101.05       1.0    9.69\n",
        "    77362   122.33       0.0   11.14\n",
        "    92646   108.13       2.0   10.58\n",
        "    27797    85.52       2.0   10.88\n",
        "    31746    97.56       0.0    9.75\n",
        "    12355   101.04       2.0    9.51\n",
        "    \n",
        "you should return the following dataframe\n",
        "\n",
        "                 media  maximo  minimo\n",
        "    categoria                         \n",
        "    0         109.9450  122.33  97.56\n",
        "    1          96.6950  101.05  91.72\n",
        "    2         101.2825  110.44  85.52\n",
        "    \n",
        "observe that your result\n",
        "- must not be a **multilevel** columnset.\n",
        "- the column names and the index name must be **exactly** as in the example.\n",
        "- the **index** must be of type **int**."
      ],
      "metadata": {
        "id": "uuDvQONvt-Ro"
      }
    },
    {
      "cell_type": "code",
      "source": [
        "import numpy as np\n",
        "\n",
        "def get_stats(df):\n",
        "    # make sure to make a copy in case you modify the original df\n",
        "    df = df.copy()\n",
        "\n",
        "    df['min_price'] = df.groupby('category')['price'].transform('min')\n",
        "    df['max_price'] = df.groupby('category')['price'].transform('max')\n",
        "    df['avg_price'] = df.groupby('category')['price'].transform('mean')\n",
        "\n",
        "    df['category'] = df['category'].astype(int)\n",
        "    agg_df = df.rename(columns={'category': 'categoria'})\n",
        "    agg_df = agg_df.groupby('categoria').agg({'price': ['mean', 'max', 'min']})\n",
        "\n",
        "\n",
        "    # Renombramos las columnas\n",
        "\n",
        "    agg_df.columns = ['media', 'maximo', 'minimo']\n",
        "\n",
        "    return agg_df"
      ],
      "metadata": {
        "id": "pzVPC-HmuC-f"
      },
      "execution_count": null,
      "outputs": []
    },
    {
      "cell_type": "code",
      "source": [
        "d = create_df()\n",
        "d"
      ],
      "metadata": {
        "id": "iBWvoelSuF6W",
        "colab": {
          "base_uri": "https://localhost:8080/",
          "height": 394
        },
        "outputId": "084716a9-84b4-4e7d-cc39-3f8936a6aa1e"
      },
      "execution_count": null,
      "outputs": [
        {
          "output_type": "execute_result",
          "data": {
            "text/plain": [
              "         price  category\n",
              "itemid                  \n",
              "58120   105.31       0.0\n",
              "96318   103.92       2.0\n",
              "3200     96.34       2.0\n",
              "90704   103.43       1.0\n",
              "89198    65.33       2.0\n",
              "80607    97.72       1.0\n",
              "59372   117.22       2.0\n",
              "79400   106.80       0.0\n",
              "18228   108.15       1.0\n",
              "43041   110.37       2.0"
            ],
            "text/html": [
              "\n",
              "  <div id=\"df-1e36d3cd-45ad-4bad-aeee-481cfdb75eb4\">\n",
              "    <div class=\"colab-df-container\">\n",
              "      <div>\n",
              "<style scoped>\n",
              "    .dataframe tbody tr th:only-of-type {\n",
              "        vertical-align: middle;\n",
              "    }\n",
              "\n",
              "    .dataframe tbody tr th {\n",
              "        vertical-align: top;\n",
              "    }\n",
              "\n",
              "    .dataframe thead th {\n",
              "        text-align: right;\n",
              "    }\n",
              "</style>\n",
              "<table border=\"1\" class=\"dataframe\">\n",
              "  <thead>\n",
              "    <tr style=\"text-align: right;\">\n",
              "      <th></th>\n",
              "      <th>price</th>\n",
              "      <th>category</th>\n",
              "    </tr>\n",
              "    <tr>\n",
              "      <th>itemid</th>\n",
              "      <th></th>\n",
              "      <th></th>\n",
              "    </tr>\n",
              "  </thead>\n",
              "  <tbody>\n",
              "    <tr>\n",
              "      <th>58120</th>\n",
              "      <td>105.31</td>\n",
              "      <td>0.0</td>\n",
              "    </tr>\n",
              "    <tr>\n",
              "      <th>96318</th>\n",
              "      <td>103.92</td>\n",
              "      <td>2.0</td>\n",
              "    </tr>\n",
              "    <tr>\n",
              "      <th>3200</th>\n",
              "      <td>96.34</td>\n",
              "      <td>2.0</td>\n",
              "    </tr>\n",
              "    <tr>\n",
              "      <th>90704</th>\n",
              "      <td>103.43</td>\n",
              "      <td>1.0</td>\n",
              "    </tr>\n",
              "    <tr>\n",
              "      <th>89198</th>\n",
              "      <td>65.33</td>\n",
              "      <td>2.0</td>\n",
              "    </tr>\n",
              "    <tr>\n",
              "      <th>80607</th>\n",
              "      <td>97.72</td>\n",
              "      <td>1.0</td>\n",
              "    </tr>\n",
              "    <tr>\n",
              "      <th>59372</th>\n",
              "      <td>117.22</td>\n",
              "      <td>2.0</td>\n",
              "    </tr>\n",
              "    <tr>\n",
              "      <th>79400</th>\n",
              "      <td>106.80</td>\n",
              "      <td>0.0</td>\n",
              "    </tr>\n",
              "    <tr>\n",
              "      <th>18228</th>\n",
              "      <td>108.15</td>\n",
              "      <td>1.0</td>\n",
              "    </tr>\n",
              "    <tr>\n",
              "      <th>43041</th>\n",
              "      <td>110.37</td>\n",
              "      <td>2.0</td>\n",
              "    </tr>\n",
              "  </tbody>\n",
              "</table>\n",
              "</div>\n",
              "      <button class=\"colab-df-convert\" onclick=\"convertToInteractive('df-1e36d3cd-45ad-4bad-aeee-481cfdb75eb4')\"\n",
              "              title=\"Convert this dataframe to an interactive table.\"\n",
              "              style=\"display:none;\">\n",
              "        \n",
              "  <svg xmlns=\"http://www.w3.org/2000/svg\" height=\"24px\"viewBox=\"0 0 24 24\"\n",
              "       width=\"24px\">\n",
              "    <path d=\"M0 0h24v24H0V0z\" fill=\"none\"/>\n",
              "    <path d=\"M18.56 5.44l.94 2.06.94-2.06 2.06-.94-2.06-.94-.94-2.06-.94 2.06-2.06.94zm-11 1L8.5 8.5l.94-2.06 2.06-.94-2.06-.94L8.5 2.5l-.94 2.06-2.06.94zm10 10l.94 2.06.94-2.06 2.06-.94-2.06-.94-.94-2.06-.94 2.06-2.06.94z\"/><path d=\"M17.41 7.96l-1.37-1.37c-.4-.4-.92-.59-1.43-.59-.52 0-1.04.2-1.43.59L10.3 9.45l-7.72 7.72c-.78.78-.78 2.05 0 2.83L4 21.41c.39.39.9.59 1.41.59.51 0 1.02-.2 1.41-.59l7.78-7.78 2.81-2.81c.8-.78.8-2.07 0-2.86zM5.41 20L4 18.59l7.72-7.72 1.47 1.35L5.41 20z\"/>\n",
              "  </svg>\n",
              "      </button>\n",
              "      \n",
              "  <style>\n",
              "    .colab-df-container {\n",
              "      display:flex;\n",
              "      flex-wrap:wrap;\n",
              "      gap: 12px;\n",
              "    }\n",
              "\n",
              "    .colab-df-convert {\n",
              "      background-color: #E8F0FE;\n",
              "      border: none;\n",
              "      border-radius: 50%;\n",
              "      cursor: pointer;\n",
              "      display: none;\n",
              "      fill: #1967D2;\n",
              "      height: 32px;\n",
              "      padding: 0 0 0 0;\n",
              "      width: 32px;\n",
              "    }\n",
              "\n",
              "    .colab-df-convert:hover {\n",
              "      background-color: #E2EBFA;\n",
              "      box-shadow: 0px 1px 2px rgba(60, 64, 67, 0.3), 0px 1px 3px 1px rgba(60, 64, 67, 0.15);\n",
              "      fill: #174EA6;\n",
              "    }\n",
              "\n",
              "    [theme=dark] .colab-df-convert {\n",
              "      background-color: #3B4455;\n",
              "      fill: #D2E3FC;\n",
              "    }\n",
              "\n",
              "    [theme=dark] .colab-df-convert:hover {\n",
              "      background-color: #434B5C;\n",
              "      box-shadow: 0px 1px 3px 1px rgba(0, 0, 0, 0.15);\n",
              "      filter: drop-shadow(0px 1px 2px rgba(0, 0, 0, 0.3));\n",
              "      fill: #FFFFFF;\n",
              "    }\n",
              "  </style>\n",
              "\n",
              "      <script>\n",
              "        const buttonEl =\n",
              "          document.querySelector('#df-1e36d3cd-45ad-4bad-aeee-481cfdb75eb4 button.colab-df-convert');\n",
              "        buttonEl.style.display =\n",
              "          google.colab.kernel.accessAllowed ? 'block' : 'none';\n",
              "\n",
              "        async function convertToInteractive(key) {\n",
              "          const element = document.querySelector('#df-1e36d3cd-45ad-4bad-aeee-481cfdb75eb4');\n",
              "          const dataTable =\n",
              "            await google.colab.kernel.invokeFunction('convertToInteractive',\n",
              "                                                     [key], {});\n",
              "          if (!dataTable) return;\n",
              "\n",
              "          const docLinkHtml = 'Like what you see? Visit the ' +\n",
              "            '<a target=\"_blank\" href=https://colab.research.google.com/notebooks/data_table.ipynb>data table notebook</a>'\n",
              "            + ' to learn more about interactive tables.';\n",
              "          element.innerHTML = '';\n",
              "          dataTable['output_type'] = 'display_data';\n",
              "          await google.colab.output.renderOutput(dataTable, element);\n",
              "          const docLink = document.createElement('div');\n",
              "          docLink.innerHTML = docLinkHtml;\n",
              "          element.appendChild(docLink);\n",
              "        }\n",
              "      </script>\n",
              "    </div>\n",
              "  </div>\n",
              "  "
            ]
          },
          "metadata": {},
          "execution_count": 56
        }
      ]
    },
    {
      "cell_type": "code",
      "source": [
        "get_stats(d)"
      ],
      "metadata": {
        "id": "d5Py9g3nuG-n",
        "colab": {
          "base_uri": "https://localhost:8080/",
          "height": 175
        },
        "outputId": "7b66ed7a-c20b-412a-bce2-31cc138f5e28"
      },
      "execution_count": null,
      "outputs": [
        {
          "output_type": "execute_result",
          "data": {
            "text/plain": [
              "             media  maximo  minimo\n",
              "categoria                         \n",
              "0          106.055  106.80  105.31\n",
              "1          103.100  108.15   97.72\n",
              "2           98.636  117.22   65.33"
            ],
            "text/html": [
              "\n",
              "  <div id=\"df-28756d6b-0e5e-4d8d-95e2-98699e2936eb\">\n",
              "    <div class=\"colab-df-container\">\n",
              "      <div>\n",
              "<style scoped>\n",
              "    .dataframe tbody tr th:only-of-type {\n",
              "        vertical-align: middle;\n",
              "    }\n",
              "\n",
              "    .dataframe tbody tr th {\n",
              "        vertical-align: top;\n",
              "    }\n",
              "\n",
              "    .dataframe thead th {\n",
              "        text-align: right;\n",
              "    }\n",
              "</style>\n",
              "<table border=\"1\" class=\"dataframe\">\n",
              "  <thead>\n",
              "    <tr style=\"text-align: right;\">\n",
              "      <th></th>\n",
              "      <th>media</th>\n",
              "      <th>maximo</th>\n",
              "      <th>minimo</th>\n",
              "    </tr>\n",
              "    <tr>\n",
              "      <th>categoria</th>\n",
              "      <th></th>\n",
              "      <th></th>\n",
              "      <th></th>\n",
              "    </tr>\n",
              "  </thead>\n",
              "  <tbody>\n",
              "    <tr>\n",
              "      <th>0</th>\n",
              "      <td>106.055</td>\n",
              "      <td>106.80</td>\n",
              "      <td>105.31</td>\n",
              "    </tr>\n",
              "    <tr>\n",
              "      <th>1</th>\n",
              "      <td>103.100</td>\n",
              "      <td>108.15</td>\n",
              "      <td>97.72</td>\n",
              "    </tr>\n",
              "    <tr>\n",
              "      <th>2</th>\n",
              "      <td>98.636</td>\n",
              "      <td>117.22</td>\n",
              "      <td>65.33</td>\n",
              "    </tr>\n",
              "  </tbody>\n",
              "</table>\n",
              "</div>\n",
              "      <button class=\"colab-df-convert\" onclick=\"convertToInteractive('df-28756d6b-0e5e-4d8d-95e2-98699e2936eb')\"\n",
              "              title=\"Convert this dataframe to an interactive table.\"\n",
              "              style=\"display:none;\">\n",
              "        \n",
              "  <svg xmlns=\"http://www.w3.org/2000/svg\" height=\"24px\"viewBox=\"0 0 24 24\"\n",
              "       width=\"24px\">\n",
              "    <path d=\"M0 0h24v24H0V0z\" fill=\"none\"/>\n",
              "    <path d=\"M18.56 5.44l.94 2.06.94-2.06 2.06-.94-2.06-.94-.94-2.06-.94 2.06-2.06.94zm-11 1L8.5 8.5l.94-2.06 2.06-.94-2.06-.94L8.5 2.5l-.94 2.06-2.06.94zm10 10l.94 2.06.94-2.06 2.06-.94-2.06-.94-.94-2.06-.94 2.06-2.06.94z\"/><path d=\"M17.41 7.96l-1.37-1.37c-.4-.4-.92-.59-1.43-.59-.52 0-1.04.2-1.43.59L10.3 9.45l-7.72 7.72c-.78.78-.78 2.05 0 2.83L4 21.41c.39.39.9.59 1.41.59.51 0 1.02-.2 1.41-.59l7.78-7.78 2.81-2.81c.8-.78.8-2.07 0-2.86zM5.41 20L4 18.59l7.72-7.72 1.47 1.35L5.41 20z\"/>\n",
              "  </svg>\n",
              "      </button>\n",
              "      \n",
              "  <style>\n",
              "    .colab-df-container {\n",
              "      display:flex;\n",
              "      flex-wrap:wrap;\n",
              "      gap: 12px;\n",
              "    }\n",
              "\n",
              "    .colab-df-convert {\n",
              "      background-color: #E8F0FE;\n",
              "      border: none;\n",
              "      border-radius: 50%;\n",
              "      cursor: pointer;\n",
              "      display: none;\n",
              "      fill: #1967D2;\n",
              "      height: 32px;\n",
              "      padding: 0 0 0 0;\n",
              "      width: 32px;\n",
              "    }\n",
              "\n",
              "    .colab-df-convert:hover {\n",
              "      background-color: #E2EBFA;\n",
              "      box-shadow: 0px 1px 2px rgba(60, 64, 67, 0.3), 0px 1px 3px 1px rgba(60, 64, 67, 0.15);\n",
              "      fill: #174EA6;\n",
              "    }\n",
              "\n",
              "    [theme=dark] .colab-df-convert {\n",
              "      background-color: #3B4455;\n",
              "      fill: #D2E3FC;\n",
              "    }\n",
              "\n",
              "    [theme=dark] .colab-df-convert:hover {\n",
              "      background-color: #434B5C;\n",
              "      box-shadow: 0px 1px 3px 1px rgba(0, 0, 0, 0.15);\n",
              "      filter: drop-shadow(0px 1px 2px rgba(0, 0, 0, 0.3));\n",
              "      fill: #FFFFFF;\n",
              "    }\n",
              "  </style>\n",
              "\n",
              "      <script>\n",
              "        const buttonEl =\n",
              "          document.querySelector('#df-28756d6b-0e5e-4d8d-95e2-98699e2936eb button.colab-df-convert');\n",
              "        buttonEl.style.display =\n",
              "          google.colab.kernel.accessAllowed ? 'block' : 'none';\n",
              "\n",
              "        async function convertToInteractive(key) {\n",
              "          const element = document.querySelector('#df-28756d6b-0e5e-4d8d-95e2-98699e2936eb');\n",
              "          const dataTable =\n",
              "            await google.colab.kernel.invokeFunction('convertToInteractive',\n",
              "                                                     [key], {});\n",
              "          if (!dataTable) return;\n",
              "\n",
              "          const docLinkHtml = 'Like what you see? Visit the ' +\n",
              "            '<a target=\"_blank\" href=https://colab.research.google.com/notebooks/data_table.ipynb>data table notebook</a>'\n",
              "            + ' to learn more about interactive tables.';\n",
              "          element.innerHTML = '';\n",
              "          dataTable['output_type'] = 'display_data';\n",
              "          await google.colab.output.renderOutput(dataTable, element);\n",
              "          const docLink = document.createElement('div');\n",
              "          docLink.innerHTML = docLinkHtml;\n",
              "          element.appendChild(docLink);\n",
              "        }\n",
              "      </script>\n",
              "    </div>\n",
              "  </div>\n",
              "  "
            ]
          },
          "metadata": {},
          "execution_count": 100
        }
      ]
    },
    {
      "cell_type": "markdown",
      "source": [
        "## Task 3: Fill in missing data\n",
        "\n",
        "Fill in the missing data in the **price** column with the following procedure:\n",
        "\n",
        "- compute the mean and std of the avaialable prices\n",
        "- sample from a normal distribution with the computed mean and std (see [`np.random.normal`])(https://numpy.org/doc/stable/reference/random/generated/numpy.random.normal.html), as many samples as missing data\n",
        "- substitute the missing values with the samples\n",
        "\n",
        "For instance, for this input dataframe:\n",
        "\n",
        "             price  category  margin\n",
        "    itemid                          \n",
        "    18922      NaN       1.0   10.32\n",
        "    69500   121.25       1.0   10.22\n",
        "    76442    90.25       1.0   12.60\n",
        "    33863   106.51       0.0   10.26\n",
        "    15904    95.87       1.0   11.51\n",
        "    41946   103.47       2.0    9.85\n",
        "    85451    93.08       2.0    9.56\n",
        "    70028   116.68       1.0    9.11\n",
        "    26860      NaN       2.0    9.71\n",
        "    12807    91.48       0.0    9.77\n",
        "    \n",
        "your solution might be similar to this (not exactly the same as you will be sampling data):\n",
        "\n",
        "\n",
        "                 price  category  margin\n",
        "    itemid                              \n",
        "    18922    97.441188       1.0   10.32\n",
        "    69500   121.250000       1.0   10.22\n",
        "    76442    90.250000       1.0   12.60\n",
        "    33863   106.510000       0.0   10.26\n",
        "    15904    95.870000       1.0   11.51\n",
        "    41946   103.470000       2.0    9.85\n",
        "    85451    93.080000       2.0    9.56\n",
        "    70028   116.680000       1.0    9.11\n",
        "    26860   103.294843       2.0    9.71\n",
        "    12807    91.480000       0.0    9.77\n",
        "    \n",
        "    \n",
        "**WARN**: your function must not modify the original dataframe, make a copy of the input dataframe, fill the values in the copy and return it.\n",
        "\n",
        "**HINT**: use the [`isna()`](https://pandas.pydata.org/pandas-docs/stable/reference/api/pandas.DataFrame.isna.html) method of a dataframe or a series."
      ],
      "metadata": {
        "id": "B6GkaJVIuMku"
      }
    },
    {
      "cell_type": "code",
      "source": [
        "def fillna(df):\n",
        "    # make sure to make a copy in case you modify the original df\n",
        "    isNaCount = 0\n",
        "    df = df.copy()\n",
        "    mean = df.price.mean()\n",
        "    std = np.std(df.price)\n",
        "    isNa = df.isna()\n",
        "    for item in isNa.price:\n",
        "      if(item):\n",
        "        isNaCount += 1\n",
        "\n",
        "    s = np.random.normal(mean, std, isNaCount)\n",
        "    i = 0\n",
        "\n",
        "    df.loc[df['price'].isnull(), 'price'] = s\n",
        "    return df"
      ],
      "metadata": {
        "id": "yHsYm7JIuUoc"
      },
      "execution_count": 19,
      "outputs": []
    },
    {
      "cell_type": "code",
      "source": [
        "d = create_df(missing=True)\n",
        "d"
      ],
      "metadata": {
        "id": "gwA_UIBzuZTU",
        "colab": {
          "base_uri": "https://localhost:8080/",
          "height": 394
        },
        "outputId": "aeeb92fd-d0f2-4575-c1a2-e846ad9a566e"
      },
      "execution_count": 8,
      "outputs": [
        {
          "output_type": "execute_result",
          "data": {
            "text/plain": [
              "         price  category  margin\n",
              "itemid                          \n",
              "43666      NaN       1.0    8.41\n",
              "6919       NaN       1.0    8.96\n",
              "94365      NaN       2.0   10.29\n",
              "47585   102.10       1.0   11.17\n",
              "46300   102.61       1.0   11.57\n",
              "26030   111.99       1.0    9.78\n",
              "36985    98.05       0.0   10.60\n",
              "61633    92.93       0.0    9.70\n",
              "22039      NaN       0.0    9.48\n",
              "6953       NaN       0.0    9.33"
            ],
            "text/html": [
              "\n",
              "  <div id=\"df-50dfd41c-80b5-48d1-ba2d-fadd4b86d6d4\">\n",
              "    <div class=\"colab-df-container\">\n",
              "      <div>\n",
              "<style scoped>\n",
              "    .dataframe tbody tr th:only-of-type {\n",
              "        vertical-align: middle;\n",
              "    }\n",
              "\n",
              "    .dataframe tbody tr th {\n",
              "        vertical-align: top;\n",
              "    }\n",
              "\n",
              "    .dataframe thead th {\n",
              "        text-align: right;\n",
              "    }\n",
              "</style>\n",
              "<table border=\"1\" class=\"dataframe\">\n",
              "  <thead>\n",
              "    <tr style=\"text-align: right;\">\n",
              "      <th></th>\n",
              "      <th>price</th>\n",
              "      <th>category</th>\n",
              "      <th>margin</th>\n",
              "    </tr>\n",
              "    <tr>\n",
              "      <th>itemid</th>\n",
              "      <th></th>\n",
              "      <th></th>\n",
              "      <th></th>\n",
              "    </tr>\n",
              "  </thead>\n",
              "  <tbody>\n",
              "    <tr>\n",
              "      <th>43666</th>\n",
              "      <td>NaN</td>\n",
              "      <td>1.0</td>\n",
              "      <td>8.41</td>\n",
              "    </tr>\n",
              "    <tr>\n",
              "      <th>6919</th>\n",
              "      <td>NaN</td>\n",
              "      <td>1.0</td>\n",
              "      <td>8.96</td>\n",
              "    </tr>\n",
              "    <tr>\n",
              "      <th>94365</th>\n",
              "      <td>NaN</td>\n",
              "      <td>2.0</td>\n",
              "      <td>10.29</td>\n",
              "    </tr>\n",
              "    <tr>\n",
              "      <th>47585</th>\n",
              "      <td>102.10</td>\n",
              "      <td>1.0</td>\n",
              "      <td>11.17</td>\n",
              "    </tr>\n",
              "    <tr>\n",
              "      <th>46300</th>\n",
              "      <td>102.61</td>\n",
              "      <td>1.0</td>\n",
              "      <td>11.57</td>\n",
              "    </tr>\n",
              "    <tr>\n",
              "      <th>26030</th>\n",
              "      <td>111.99</td>\n",
              "      <td>1.0</td>\n",
              "      <td>9.78</td>\n",
              "    </tr>\n",
              "    <tr>\n",
              "      <th>36985</th>\n",
              "      <td>98.05</td>\n",
              "      <td>0.0</td>\n",
              "      <td>10.60</td>\n",
              "    </tr>\n",
              "    <tr>\n",
              "      <th>61633</th>\n",
              "      <td>92.93</td>\n",
              "      <td>0.0</td>\n",
              "      <td>9.70</td>\n",
              "    </tr>\n",
              "    <tr>\n",
              "      <th>22039</th>\n",
              "      <td>NaN</td>\n",
              "      <td>0.0</td>\n",
              "      <td>9.48</td>\n",
              "    </tr>\n",
              "    <tr>\n",
              "      <th>6953</th>\n",
              "      <td>NaN</td>\n",
              "      <td>0.0</td>\n",
              "      <td>9.33</td>\n",
              "    </tr>\n",
              "  </tbody>\n",
              "</table>\n",
              "</div>\n",
              "      <button class=\"colab-df-convert\" onclick=\"convertToInteractive('df-50dfd41c-80b5-48d1-ba2d-fadd4b86d6d4')\"\n",
              "              title=\"Convert this dataframe to an interactive table.\"\n",
              "              style=\"display:none;\">\n",
              "        \n",
              "  <svg xmlns=\"http://www.w3.org/2000/svg\" height=\"24px\"viewBox=\"0 0 24 24\"\n",
              "       width=\"24px\">\n",
              "    <path d=\"M0 0h24v24H0V0z\" fill=\"none\"/>\n",
              "    <path d=\"M18.56 5.44l.94 2.06.94-2.06 2.06-.94-2.06-.94-.94-2.06-.94 2.06-2.06.94zm-11 1L8.5 8.5l.94-2.06 2.06-.94-2.06-.94L8.5 2.5l-.94 2.06-2.06.94zm10 10l.94 2.06.94-2.06 2.06-.94-2.06-.94-.94-2.06-.94 2.06-2.06.94z\"/><path d=\"M17.41 7.96l-1.37-1.37c-.4-.4-.92-.59-1.43-.59-.52 0-1.04.2-1.43.59L10.3 9.45l-7.72 7.72c-.78.78-.78 2.05 0 2.83L4 21.41c.39.39.9.59 1.41.59.51 0 1.02-.2 1.41-.59l7.78-7.78 2.81-2.81c.8-.78.8-2.07 0-2.86zM5.41 20L4 18.59l7.72-7.72 1.47 1.35L5.41 20z\"/>\n",
              "  </svg>\n",
              "      </button>\n",
              "      \n",
              "  <style>\n",
              "    .colab-df-container {\n",
              "      display:flex;\n",
              "      flex-wrap:wrap;\n",
              "      gap: 12px;\n",
              "    }\n",
              "\n",
              "    .colab-df-convert {\n",
              "      background-color: #E8F0FE;\n",
              "      border: none;\n",
              "      border-radius: 50%;\n",
              "      cursor: pointer;\n",
              "      display: none;\n",
              "      fill: #1967D2;\n",
              "      height: 32px;\n",
              "      padding: 0 0 0 0;\n",
              "      width: 32px;\n",
              "    }\n",
              "\n",
              "    .colab-df-convert:hover {\n",
              "      background-color: #E2EBFA;\n",
              "      box-shadow: 0px 1px 2px rgba(60, 64, 67, 0.3), 0px 1px 3px 1px rgba(60, 64, 67, 0.15);\n",
              "      fill: #174EA6;\n",
              "    }\n",
              "\n",
              "    [theme=dark] .colab-df-convert {\n",
              "      background-color: #3B4455;\n",
              "      fill: #D2E3FC;\n",
              "    }\n",
              "\n",
              "    [theme=dark] .colab-df-convert:hover {\n",
              "      background-color: #434B5C;\n",
              "      box-shadow: 0px 1px 3px 1px rgba(0, 0, 0, 0.15);\n",
              "      filter: drop-shadow(0px 1px 2px rgba(0, 0, 0, 0.3));\n",
              "      fill: #FFFFFF;\n",
              "    }\n",
              "  </style>\n",
              "\n",
              "      <script>\n",
              "        const buttonEl =\n",
              "          document.querySelector('#df-50dfd41c-80b5-48d1-ba2d-fadd4b86d6d4 button.colab-df-convert');\n",
              "        buttonEl.style.display =\n",
              "          google.colab.kernel.accessAllowed ? 'block' : 'none';\n",
              "\n",
              "        async function convertToInteractive(key) {\n",
              "          const element = document.querySelector('#df-50dfd41c-80b5-48d1-ba2d-fadd4b86d6d4');\n",
              "          const dataTable =\n",
              "            await google.colab.kernel.invokeFunction('convertToInteractive',\n",
              "                                                     [key], {});\n",
              "          if (!dataTable) return;\n",
              "\n",
              "          const docLinkHtml = 'Like what you see? Visit the ' +\n",
              "            '<a target=\"_blank\" href=https://colab.research.google.com/notebooks/data_table.ipynb>data table notebook</a>'\n",
              "            + ' to learn more about interactive tables.';\n",
              "          element.innerHTML = '';\n",
              "          dataTable['output_type'] = 'display_data';\n",
              "          await google.colab.output.renderOutput(dataTable, element);\n",
              "          const docLink = document.createElement('div');\n",
              "          docLink.innerHTML = docLinkHtml;\n",
              "          element.appendChild(docLink);\n",
              "        }\n",
              "      </script>\n",
              "    </div>\n",
              "  </div>\n",
              "  "
            ]
          },
          "metadata": {},
          "execution_count": 8
        }
      ]
    },
    {
      "cell_type": "code",
      "source": [
        "fillna(d)"
      ],
      "metadata": {
        "id": "zE6KhlQauaIE",
        "colab": {
          "base_uri": "https://localhost:8080/",
          "height": 394
        },
        "outputId": "88cc34af-5607-4469-a471-8828384061db"
      },
      "execution_count": 20,
      "outputs": [
        {
          "output_type": "execute_result",
          "data": {
            "text/plain": [
              "             price  category  margin\n",
              "itemid                              \n",
              "43666    92.710578       1.0    8.41\n",
              "6919     95.556313       1.0    8.96\n",
              "94365    96.658613       2.0   10.29\n",
              "47585   102.100000       1.0   11.17\n",
              "46300   102.610000       1.0   11.57\n",
              "26030   111.990000       1.0    9.78\n",
              "36985    98.050000       0.0   10.60\n",
              "61633    92.930000       0.0    9.70\n",
              "22039   100.832183       0.0    9.48\n",
              "6953    100.768369       0.0    9.33"
            ],
            "text/html": [
              "\n",
              "  <div id=\"df-b0904b33-59d6-4bc7-989a-e20d754c6af2\">\n",
              "    <div class=\"colab-df-container\">\n",
              "      <div>\n",
              "<style scoped>\n",
              "    .dataframe tbody tr th:only-of-type {\n",
              "        vertical-align: middle;\n",
              "    }\n",
              "\n",
              "    .dataframe tbody tr th {\n",
              "        vertical-align: top;\n",
              "    }\n",
              "\n",
              "    .dataframe thead th {\n",
              "        text-align: right;\n",
              "    }\n",
              "</style>\n",
              "<table border=\"1\" class=\"dataframe\">\n",
              "  <thead>\n",
              "    <tr style=\"text-align: right;\">\n",
              "      <th></th>\n",
              "      <th>price</th>\n",
              "      <th>category</th>\n",
              "      <th>margin</th>\n",
              "    </tr>\n",
              "    <tr>\n",
              "      <th>itemid</th>\n",
              "      <th></th>\n",
              "      <th></th>\n",
              "      <th></th>\n",
              "    </tr>\n",
              "  </thead>\n",
              "  <tbody>\n",
              "    <tr>\n",
              "      <th>43666</th>\n",
              "      <td>92.710578</td>\n",
              "      <td>1.0</td>\n",
              "      <td>8.41</td>\n",
              "    </tr>\n",
              "    <tr>\n",
              "      <th>6919</th>\n",
              "      <td>95.556313</td>\n",
              "      <td>1.0</td>\n",
              "      <td>8.96</td>\n",
              "    </tr>\n",
              "    <tr>\n",
              "      <th>94365</th>\n",
              "      <td>96.658613</td>\n",
              "      <td>2.0</td>\n",
              "      <td>10.29</td>\n",
              "    </tr>\n",
              "    <tr>\n",
              "      <th>47585</th>\n",
              "      <td>102.100000</td>\n",
              "      <td>1.0</td>\n",
              "      <td>11.17</td>\n",
              "    </tr>\n",
              "    <tr>\n",
              "      <th>46300</th>\n",
              "      <td>102.610000</td>\n",
              "      <td>1.0</td>\n",
              "      <td>11.57</td>\n",
              "    </tr>\n",
              "    <tr>\n",
              "      <th>26030</th>\n",
              "      <td>111.990000</td>\n",
              "      <td>1.0</td>\n",
              "      <td>9.78</td>\n",
              "    </tr>\n",
              "    <tr>\n",
              "      <th>36985</th>\n",
              "      <td>98.050000</td>\n",
              "      <td>0.0</td>\n",
              "      <td>10.60</td>\n",
              "    </tr>\n",
              "    <tr>\n",
              "      <th>61633</th>\n",
              "      <td>92.930000</td>\n",
              "      <td>0.0</td>\n",
              "      <td>9.70</td>\n",
              "    </tr>\n",
              "    <tr>\n",
              "      <th>22039</th>\n",
              "      <td>100.832183</td>\n",
              "      <td>0.0</td>\n",
              "      <td>9.48</td>\n",
              "    </tr>\n",
              "    <tr>\n",
              "      <th>6953</th>\n",
              "      <td>100.768369</td>\n",
              "      <td>0.0</td>\n",
              "      <td>9.33</td>\n",
              "    </tr>\n",
              "  </tbody>\n",
              "</table>\n",
              "</div>\n",
              "      <button class=\"colab-df-convert\" onclick=\"convertToInteractive('df-b0904b33-59d6-4bc7-989a-e20d754c6af2')\"\n",
              "              title=\"Convert this dataframe to an interactive table.\"\n",
              "              style=\"display:none;\">\n",
              "        \n",
              "  <svg xmlns=\"http://www.w3.org/2000/svg\" height=\"24px\"viewBox=\"0 0 24 24\"\n",
              "       width=\"24px\">\n",
              "    <path d=\"M0 0h24v24H0V0z\" fill=\"none\"/>\n",
              "    <path d=\"M18.56 5.44l.94 2.06.94-2.06 2.06-.94-2.06-.94-.94-2.06-.94 2.06-2.06.94zm-11 1L8.5 8.5l.94-2.06 2.06-.94-2.06-.94L8.5 2.5l-.94 2.06-2.06.94zm10 10l.94 2.06.94-2.06 2.06-.94-2.06-.94-.94-2.06-.94 2.06-2.06.94z\"/><path d=\"M17.41 7.96l-1.37-1.37c-.4-.4-.92-.59-1.43-.59-.52 0-1.04.2-1.43.59L10.3 9.45l-7.72 7.72c-.78.78-.78 2.05 0 2.83L4 21.41c.39.39.9.59 1.41.59.51 0 1.02-.2 1.41-.59l7.78-7.78 2.81-2.81c.8-.78.8-2.07 0-2.86zM5.41 20L4 18.59l7.72-7.72 1.47 1.35L5.41 20z\"/>\n",
              "  </svg>\n",
              "      </button>\n",
              "      \n",
              "  <style>\n",
              "    .colab-df-container {\n",
              "      display:flex;\n",
              "      flex-wrap:wrap;\n",
              "      gap: 12px;\n",
              "    }\n",
              "\n",
              "    .colab-df-convert {\n",
              "      background-color: #E8F0FE;\n",
              "      border: none;\n",
              "      border-radius: 50%;\n",
              "      cursor: pointer;\n",
              "      display: none;\n",
              "      fill: #1967D2;\n",
              "      height: 32px;\n",
              "      padding: 0 0 0 0;\n",
              "      width: 32px;\n",
              "    }\n",
              "\n",
              "    .colab-df-convert:hover {\n",
              "      background-color: #E2EBFA;\n",
              "      box-shadow: 0px 1px 2px rgba(60, 64, 67, 0.3), 0px 1px 3px 1px rgba(60, 64, 67, 0.15);\n",
              "      fill: #174EA6;\n",
              "    }\n",
              "\n",
              "    [theme=dark] .colab-df-convert {\n",
              "      background-color: #3B4455;\n",
              "      fill: #D2E3FC;\n",
              "    }\n",
              "\n",
              "    [theme=dark] .colab-df-convert:hover {\n",
              "      background-color: #434B5C;\n",
              "      box-shadow: 0px 1px 3px 1px rgba(0, 0, 0, 0.15);\n",
              "      filter: drop-shadow(0px 1px 2px rgba(0, 0, 0, 0.3));\n",
              "      fill: #FFFFFF;\n",
              "    }\n",
              "  </style>\n",
              "\n",
              "      <script>\n",
              "        const buttonEl =\n",
              "          document.querySelector('#df-b0904b33-59d6-4bc7-989a-e20d754c6af2 button.colab-df-convert');\n",
              "        buttonEl.style.display =\n",
              "          google.colab.kernel.accessAllowed ? 'block' : 'none';\n",
              "\n",
              "        async function convertToInteractive(key) {\n",
              "          const element = document.querySelector('#df-b0904b33-59d6-4bc7-989a-e20d754c6af2');\n",
              "          const dataTable =\n",
              "            await google.colab.kernel.invokeFunction('convertToInteractive',\n",
              "                                                     [key], {});\n",
              "          if (!dataTable) return;\n",
              "\n",
              "          const docLinkHtml = 'Like what you see? Visit the ' +\n",
              "            '<a target=\"_blank\" href=https://colab.research.google.com/notebooks/data_table.ipynb>data table notebook</a>'\n",
              "            + ' to learn more about interactive tables.';\n",
              "          element.innerHTML = '';\n",
              "          dataTable['output_type'] = 'display_data';\n",
              "          await google.colab.output.renderOutput(dataTable, element);\n",
              "          const docLink = document.createElement('div');\n",
              "          docLink.innerHTML = docLinkHtml;\n",
              "          element.appendChild(docLink);\n",
              "        }\n",
              "      </script>\n",
              "    </div>\n",
              "  </div>\n",
              "  "
            ]
          },
          "metadata": {},
          "execution_count": 20
        }
      ]
    },
    {
      "cell_type": "markdown",
      "source": [
        "### LAB 02.04 - Card trick"
      ],
      "metadata": {
        "id": "x5AHyYMoorxD"
      }
    },
    {
      "cell_type": "markdown",
      "source": [
        "## Setup \n",
        "\n",
        "make sure to **watch the corresponding video** to understand the card trick.\n",
        "\n",
        "### create a deck for a given configuration\n",
        "\n",
        "The following function returns a list of **card names**. The `shuffle` argument is self evident. We use two letters as an arbitrary card name so that we have enough names for large configurations."
      ],
      "metadata": {
        "id": "O27j-IqOo6_P"
      }
    },
    {
      "cell_type": "code",
      "source": [
        "\n",
        "def create_deck(n_heaps, cards_per_heap, shuffle=False):\n",
        "    n_cards = n_heaps * cards_per_heap\n",
        "    \n",
        "    chars = [chr(i) for i in np.arange(26)+65]\n",
        "    names = [i+j for i,j in itertools.product(chars, chars)]    \n",
        "\n",
        "    assert n_cards < len(names), \"cannot have more than %d cards\"%len(name)\n",
        "    \n",
        "    c = np.r_[names[:n_cards]]\n",
        "    if shuffle:\n",
        "        c = np.random.permutation(c)\n",
        "    return c"
      ],
      "metadata": {
        "id": "J14LiCBIpC9G"
      },
      "execution_count": null,
      "outputs": []
    },
    {
      "cell_type": "code",
      "source": [
        "create_deck(n_heaps=3, cards_per_heap=10, shuffle=False)"
      ],
      "metadata": {
        "id": "zr3DokyipDf1"
      },
      "execution_count": null,
      "outputs": []
    },
    {
      "cell_type": "code",
      "source": [
        "create_deck(n_heaps=3, cards_per_heap=7, shuffle=True)"
      ],
      "metadata": {
        "id": "oQB9MRPopFIF"
      },
      "execution_count": null,
      "outputs": []
    },
    {
      "cell_type": "code",
      "source": [
        "create_deck(n_heaps=3, cards_per_heap=10, shuffle=True)"
      ],
      "metadata": {
        "id": "jaW6IoSOpG3F"
      },
      "execution_count": null,
      "outputs": []
    },
    {
      "cell_type": "markdown",
      "source": [
        "pick a card\n",
        "the following function randomly picks a card from a deck"
      ],
      "metadata": {
        "id": "gfGhQg0JpJgF"
      }
    },
    {
      "cell_type": "code",
      "source": [
        "def pick_card(c):\n",
        "    return np.random.choice(c)"
      ],
      "metadata": {
        "id": "ofBjsN2HpNK9"
      },
      "execution_count": null,
      "outputs": []
    },
    {
      "cell_type": "code",
      "source": [
        "c = create_deck(n_heaps=3, cards_per_heap=7, shuffle=True)\n",
        "n = pick_card(c)\n",
        "n"
      ],
      "metadata": {
        "id": "5yoDUSBZpOkl"
      },
      "execution_count": null,
      "outputs": []
    },
    {
      "cell_type": "markdown",
      "source": [
        "## Task 1. Make the heaps\n",
        "\n",
        "Complete the following funcion so that given desk (as a list returned by `create_deck`) distributes the cards in `n_heaps` according to the procedure of the card trick shown in the video.\n",
        "\n",
        "The heaps must be a list of `n_heaps` lists, each one with `len(c)/n_heaps` card names.\n",
        "\n",
        "`n_heaps` will be an odd number (so that later we can put the chosen heap in the middle of the others), and must be a divisor of the total number of cards in the deck (so that all heaps have the same number of cards)\n",
        "\n",
        "For instance, \n",
        "\n",
        "    >>> n_heaps = 3\n",
        "    >>> c = create_deck(n_heaps=n_heaps, cards_per_heap=7)\n",
        "    >>> h = make_heaps(c, n_heaps)\n",
        "    >>> print(\"deck\", c)\n",
        "    >>> print(\"heaps\")\n",
        "    >>> h   \n",
        "\n",
        "    deck ['AA' 'AB' 'AC' 'AD' 'AE' 'AF' 'AG' 'AH' 'AI' 'AJ' 'AK' 'AL' 'AM' 'AN'\n",
        "     'AO' 'AP' 'AQ' 'AR' 'AS' 'AT' 'AU']\n",
        "    heaps\n",
        "    [['AA', 'AD', 'AG', 'AJ', 'AM', 'AP', 'AS'],\n",
        "     ['AB', 'AE', 'AH', 'AK', 'AN', 'AQ', 'AT'],\n",
        "     ['AC', 'AF', 'AI', 'AL', 'AO', 'AR', 'AU']]\n",
        "  \n",
        "or also\n",
        "\n",
        "    >>> n_heaps = 5\n",
        "    >>> c = create_deck(n_heaps=n_heaps, cards_per_heap=3, shuffle=True)\n",
        "    >>> h = make_heaps(c, n_heaps)\n",
        "    >>> print(\"deck\", c)\n",
        "    >>> print(\"heaps\")\n",
        "    >>> h\n",
        "    \n",
        "    deck ['AA' 'AJ' 'AM' 'AK' 'AH' 'AF' 'AD' 'AN' 'AB' 'AC' 'AG' 'AE' 'AL' 'AI'\n",
        "     'AO']\n",
        "    heaps\n",
        "    [['AA', 'AF', 'AG'],\n",
        "     ['AJ', 'AD', 'AE'],\n",
        "     ['AM', 'AN', 'AL'],\n",
        "     ['AK', 'AB', 'AI'],\n",
        "     ['AH', 'AC', 'AO']]"
      ],
      "metadata": {
        "id": "w2nFgOojpScE"
      }
    },
    {
      "cell_type": "code",
      "source": [
        "def make_heaps(c, n_heaps=3):\n",
        "    assert n_heaps%2==1, \"must have an odd number of heaps\"\n",
        "    assert len(c)%n_heaps==0, \"the length of the deck must be a multiple of the number of heaps\"\n",
        "    \n",
        "    h = ... # YOUR CODE HERE\n",
        "    return h"
      ],
      "metadata": {
        "id": "e2L6r2djpUqM"
      },
      "execution_count": null,
      "outputs": []
    },
    {
      "cell_type": "markdown",
      "source": [
        "\n",
        "manually check your code"
      ],
      "metadata": {
        "id": "rGhHXibKpYvE"
      }
    },
    {
      "cell_type": "code",
      "source": [
        "n_heaps = 3\n",
        "c = create_deck(n_heaps=n_heaps, cards_per_heap=7)\n",
        "h = make_heaps(c, n_heaps)\n",
        "\n",
        "print(\"deck\", c)\n",
        "print(\"heaps\")\n",
        "h\n"
      ],
      "metadata": {
        "id": "sDUBVVE0paFC"
      },
      "execution_count": null,
      "outputs": []
    },
    {
      "cell_type": "code",
      "source": [
        "n_heaps = 5\n",
        "c = create_deck(n_heaps=n_heaps, cards_per_heap=3, shuffle=True)\n",
        "h = make_heaps(c, n_heaps)\n",
        "\n",
        "print(\"deck\", c)\n",
        "print(\"heaps\")\n",
        "h\n"
      ],
      "metadata": {
        "id": "ggQCQLO9pdHi"
      },
      "execution_count": null,
      "outputs": []
    },
    {
      "cell_type": "markdown",
      "source": [
        "## Task 2: Organize the heaps\n",
        "\n",
        "Complete the following funcion so that given a set of heaps (such as the ones returned by the function of the previous task) and a card name:\n",
        "\n",
        "1. Finds what is the heap that contains the card\n",
        "1. Makes randomly two groups of `n_heaps//2` heaps of the remaining heaps\n",
        "   - if `n_heaps=3` this will be two groups of one heap each, since `3//2=1`\n",
        "   - if `n_heaps=5`, it will be two groups of two heaps each, since `5//2=2`\n",
        "   - etc. (observe `//` is the integer division)\n",
        "1. Concatenates the cards in one group with the cards in the heap containing the given card name. with the cards of the second group\n",
        "\n",
        "For example\n",
        "\n",
        "    >>> n_heaps = 3\n",
        "    >>> c = create_deck(n_heaps=n_heaps, cards_per_heap=7, shuffle=True)\n",
        "    >>> n = pick_card(c)\n",
        "    >>> print (\"card picked\", n)\n",
        "    >>> h = make_heaps(c, n_heaps)\n",
        "    >>> h\n",
        "    \n",
        "    card picked AD\n",
        "    [['AP', 'AC', 'AE', 'AO', 'AQ', 'AF', 'AM'],\n",
        "     ['AN', 'AT', 'AB', 'AJ', 'AU', 'AI', 'AS'],\n",
        "     ['AR', 'AD', 'AA', 'AG', 'AH', 'AL', 'AK']]\n",
        "    \n",
        "    \n",
        "    >>> new_c = collect_heaps(h, n)\n",
        "    >>> print (new_c)\n",
        "    \n",
        "    ['AP', 'AC', 'AE', 'AO', 'AQ', 'AF', 'AM', 'AR', 'AD', 'AA', 'AG', 'AH', 'AL', 'AK', 'AN', 'AT', 'AB', 'AJ', 'AU', 'AI', 'AS']"
      ],
      "metadata": {
        "id": "NfAe4mP_pg6J"
      }
    },
    {
      "cell_type": "code",
      "source": [
        "def collect_heaps(h, n):\n",
        "    \n",
        "    r = ... # YOUR CODE HERE\n",
        "    \n",
        "    return r            "
      ],
      "metadata": {
        "id": "cALSy27UpikZ"
      },
      "execution_count": null,
      "outputs": []
    },
    {
      "cell_type": "code",
      "source": [
        "n_heaps = 3\n",
        "c = create_deck(n_heaps=n_heaps, cards_per_heap=7, shuffle=True)\n",
        "n = pick_card(c)\n",
        "print (\"card picked\", n)\n",
        "h = make_heaps(c, n_heaps)\n",
        "h"
      ],
      "metadata": {
        "id": "y0kw5Pnopj1h"
      },
      "execution_count": null,
      "outputs": []
    },
    {
      "cell_type": "code",
      "source": [
        "new_c = collect_heaps(h, n)\n",
        "print (new_c)"
      ],
      "metadata": {
        "id": "-4sZMognpk-x"
      },
      "execution_count": null,
      "outputs": []
    },
    {
      "cell_type": "markdown",
      "source": [
        "## Task 3: Run the card trick\n",
        "\n",
        "Complete the following function such that, when given a a deck of cards `c`, and picked card `n` and a number of heaps `n_heaps`, returns the position of the picked card after doing three times the collect. The position number **must start at zero**.\n",
        "\n",
        "For instance:\n",
        "\n",
        "- For `n_heaps=3` and `cards_per_heap=7`, the final position will always be 10 (which is 11 if you start counting at 1)\n",
        "- For `n_heaps=3` and `cards_per_heap=4`, the final position will be sometimes 5 and sometimes 6 depending on the position of the picked card on the initial deck.\n",
        "- For `n_heaps=5` and `cards_per_heap=3`, the final position will always be 7\n",
        "\n",
        "**You must return an `int`**"
      ],
      "metadata": {
        "id": "2P9JDuFjpm2Z"
      }
    },
    {
      "cell_type": "code",
      "source": [
        "def run(c, n, n_heaps=3):\n",
        "    r = ... # YOUR ANSWER HERE\n",
        "    return r"
      ],
      "metadata": {
        "id": "AAuj4P1kpoMZ"
      },
      "execution_count": null,
      "outputs": []
    },
    {
      "cell_type": "code",
      "source": [
        "n_heaps = 3\n",
        "c = create_deck(n_heaps=n_heaps, cards_per_heap=7)\n",
        "picked = \"AA\"\n",
        "print (\"desk\", c)\n",
        "pos = run(c, picked, n_heaps=n_heaps)\n",
        "print (\"position of card %s is %d\"%(picked, pos))"
      ],
      "metadata": {
        "id": "p8alIIDKppq6"
      },
      "execution_count": null,
      "outputs": []
    },
    {
      "cell_type": "code",
      "source": [
        "n_heaps = 3\n",
        "c = create_deck(n_heaps=n_heaps, cards_per_heap=4)\n",
        "picked = \"AI\"\n",
        "print (\"deck\", c)\n",
        "pos = run(c, picked, n_heaps=n_heaps)\n",
        "print (\"position of card %s is %d\"%(picked, pos))"
      ],
      "metadata": {
        "id": "MCQuobn5pq0C"
      },
      "execution_count": null,
      "outputs": []
    },
    {
      "cell_type": "markdown",
      "source": [
        "## Task 4: Run the trick using the math\n",
        "\n",
        "Given:\n",
        "\n",
        "- $n_h$: A number of heaps\n",
        "- $c_h$: the number of cards per heap\n",
        "- $i$: the position of a card \n",
        "\n",
        "The new position of the card after one cycle of making and collecting the heaps will be:\n",
        "\n",
        "$$c_h(n_h\\div2)+i\\div n_h$$\n",
        "\n",
        "Complete the following function so that it has the same functionality of the previous task, but applying only this formula without using the simulation above. You **MUST NOT ADD** or remove lines from the function skeleton below, **ONLY** fill in the `...`\n",
        "\n",
        "You must get the same results as the previous task.\n",
        "\n",
        "**HINT**: Use `np.argwhere` to get the initial position of the card in the deck"
      ],
      "metadata": {
        "id": "wQEje5papshq"
      }
    },
    {
      "cell_type": "code",
      "source": [
        "def mrun(c, picked_card, n_heaps=3):\n",
        "    assert len(c)%n_heaps==0, \"the number of heaps must be a divisor of the deck length\"\n",
        "    \n",
        "    ch = len(c)//n_heaps # cards per heap\n",
        "    nh = n_heaps\n",
        "    \n",
        "    i = ... # initial position of the card on the deck c\n",
        "    p1 = ...  # the position of the card after the first round\n",
        "    p2 = ...  # the position of the card after the second round\n",
        "    p3 = ...  # the position of the card after the last round\n",
        "    \n",
        "    return p3"
      ],
      "metadata": {
        "id": "1r6ReU4zpuOY"
      },
      "execution_count": null,
      "outputs": []
    },
    {
      "cell_type": "code",
      "source": [
        "n_heaps = 3\n",
        "c = create_deck(n_heaps=n_heaps, cards_per_heap=4)\n",
        "picked = \"AI\"\n",
        "print (\"deck\", c)\n",
        "pos = mrun(c, picked, n_heaps=n_heaps)\n",
        "print (\"position of card %s is %d\"%(picked, pos))"
      ],
      "metadata": {
        "id": "yeX6r0fvpv-Q"
      },
      "execution_count": null,
      "outputs": []
    }
  ]
}