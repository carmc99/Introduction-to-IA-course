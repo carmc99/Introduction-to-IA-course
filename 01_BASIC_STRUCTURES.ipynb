{
  "nbformat": 4,
  "nbformat_minor": 0,
  "metadata": {
    "colab": {
      "provenance": [],
      "include_colab_link": true
    },
    "kernelspec": {
      "name": "python3",
      "display_name": "Python 3"
    },
    "language_info": {
      "name": "python"
    }
  },
  "cells": [
    {
      "cell_type": "markdown",
      "metadata": {
        "id": "view-in-github",
        "colab_type": "text"
      },
      "source": [
        "<a href=\"https://colab.research.google.com/github/carmc99/Introduction-to-IA-course/blob/intro%2Fpython/01_BASIC_STRUCTURES.ipynb\" target=\"_parent\"><img src=\"https://colab.research.google.com/assets/colab-badge.svg\" alt=\"Open In Colab\"/></a>"
      ]
    },
    {
      "cell_type": "markdown",
      "source": [
        "Task 1: Palindrome\n",
        "Determine whether an integer number  n  is a palindrome, this is, if it is the same number when read left to right and when read right to left. Return True if so, otherwise return False."
      ],
      "metadata": {
        "id": "zzSijMFtO-2j"
      }
    },
    {
      "cell_type": "code",
      "source": [
        "def palindromo(n): # assume n is an integer\n",
        "    n = str(n) # convert number to str\n",
        "    if(n[::-1] == n): # slice the string\n",
        "      return True\n",
        "    return False"
      ],
      "metadata": {
        "id": "FpgQP19sPf1m"
      },
      "execution_count": 39,
      "outputs": []
    },
    {
      "cell_type": "code",
      "source": [
        "print (palindromo(12321))\n",
        "print (palindromo(12322))"
      ],
      "metadata": {
        "id": "30UveMCGHfnS",
        "outputId": "0a8498ca-ae3f-449d-a756-6aaf49c8f7ad",
        "colab": {
          "base_uri": "https://localhost:8080/"
        }
      },
      "execution_count": 40,
      "outputs": [
        {
          "output_type": "stream",
          "name": "stdout",
          "text": [
            "True\n",
            "False\n"
          ]
        }
      ]
    },
    {
      "cell_type": "markdown",
      "source": [],
      "metadata": {
        "id": "y3gF7C57PC_C"
      }
    }
  ]
}