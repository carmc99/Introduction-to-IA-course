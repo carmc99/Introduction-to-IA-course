{
  "nbformat": 4,
  "nbformat_minor": 0,
  "metadata": {
    "colab": {
      "provenance": [],
      "include_colab_link": true
    },
    "kernelspec": {
      "name": "python3",
      "display_name": "Python 3"
    },
    "language_info": {
      "name": "python"
    }
  },
  "cells": [
    {
      "cell_type": "markdown",
      "metadata": {
        "id": "view-in-github",
        "colab_type": "text"
      },
      "source": [
        "<a href=\"https://colab.research.google.com/github/carmc99/Introduction-to-IA-course/blob/intro%2Fpython/01_BASIC_STRUCTURES.ipynb\" target=\"_parent\"><img src=\"https://colab.research.google.com/assets/colab-badge.svg\" alt=\"Open In Colab\"/></a>"
      ]
    },
    {
      "cell_type": "markdown",
      "source": [
        "Task 1: Palindrome\n",
        "Determine whether an integer number  n  is a palindrome, this is, if it is the same number when read left to right and when read right to left. Return True if so, otherwise return False."
      ],
      "metadata": {
        "id": "zzSijMFtO-2j"
      }
    },
    {
      "cell_type": "code",
      "source": [
        "def palindromo(n): # assume n is an integer\n",
        "    n = str(n) # convert number to str\n",
        "    if(n[::-1] == n): # slice the string\n",
        "      return True\n",
        "    return False"
      ],
      "metadata": {
        "id": "FpgQP19sPf1m"
      },
      "execution_count": 39,
      "outputs": []
    },
    {
      "cell_type": "code",
      "source": [
        "print (palindromo(12321))\n",
        "print (palindromo(12322))"
      ],
      "metadata": {
        "colab": {
          "base_uri": "https://localhost:8080/"
        },
        "id": "30UveMCGHfnS",
        "outputId": "0a8498ca-ae3f-449d-a756-6aaf49c8f7ad"
      },
      "execution_count": 40,
      "outputs": [
        {
          "output_type": "stream",
          "name": "stdout",
          "text": [
            "True\n",
            "False\n"
          ]
        }
      ]
    },
    {
      "cell_type": "markdown",
      "source": [
        "Task 2: Money Change\n",
        "En este ejercicio, su programa recibirá un monto entre 1 y 99 centavos de Dolar, Escriba un metodo que retorne en una lista, cuantas monedas son necesarias para devolverle a alguien dicho valor, si únicamente se cuenta con monedas de 1, 10 y 25 centavos. La lista debe entregarse de la siguiente manera:\n",
        "\n",
        "In this task your function will receive an amount between 1 and 99 cents and will have to return a list with three numbers [ n1 ,  n10 ,  n25 ], specifying how many coins of 1, 10 and 25 cents are required to obtain the given amonut. We only have coints of 1, 10 and 25 cents. There are no other kinds of coins.\n",
        "\n",
        "If the amount given is less than 1 or more than 99 you must return None."
      ],
      "metadata": {
        "id": "y3gF7C57PC_C"
      }
    },
    {
      "cell_type": "code",
      "source": [
        "def change_money(n):\n",
        "    r=[0,0,0] #recall: r[0]== n_1, r[1]== n_10 y r[2]== n_25 \n",
        "    if n>99 or n<1: return None\n",
        "    while n > 0:\n",
        "      if(n // 25 > 0):\n",
        "        n -= 25\n",
        "        r[2] += 1\n",
        "      elif(n // 10 > 0):\n",
        "        n-=10\n",
        "        r[1] += 1\n",
        "      else:\n",
        "        n-=1\n",
        "        r[0] += 1\n",
        "        \n",
        "    return r"
      ],
      "metadata": {
        "id": "D1Id5AZzSD5q"
      },
      "execution_count": 50,
      "outputs": []
    },
    {
      "cell_type": "code",
      "source": [
        "print(change_money(n=55))\n",
        "print(change_money(n=200))\n",
        "print(change_money(n=47))\n"
      ],
      "metadata": {
        "colab": {
          "base_uri": "https://localhost:8080/"
        },
        "id": "PA2OtEqZSG9I",
        "outputId": "bbefed37-4446-4d4b-de4f-f7356c9520f3"
      },
      "execution_count": 51,
      "outputs": [
        {
          "output_type": "stream",
          "name": "stdout",
          "text": [
            "[5, 0, 2]\n",
            "None\n",
            "[2, 2, 1]\n"
          ]
        }
      ]
    },
    {
      "cell_type": "markdown",
      "source": [
        "## Task 3: Fibonacci\n",
        "\n",
        "Complete the function below so that given an integer $n$ it computes the $n^{th}$ term of the Fibonacci series:\n",
        "\n",
        "$$ f_n = f_{n-1}+f_{n-2}$$ \n",
        "\n",
        "Where $$f_0=0 \\:\\:\\text{ y }\\:\\:f_1=1 $$ so that: $$f_2=1+0=1$$ $$f_3=1+1=2$$ $$f_4=2+1=3$$ and so on\n",
        "\n",
        "### Execution example \n",
        "```python\n",
        "\n",
        ">>> fibonacci(10)\n",
        "55\n",
        "\n",
        ">>> fibonacci(36)\n",
        "14930352\n",
        "```"
      ],
      "metadata": {
        "id": "ZU0Tfn6fWF3h"
      }
    },
    {
      "cell_type": "code",
      "source": [
        "def fibonacci(n):\n",
        "    f0=0\n",
        "    f1=1\n",
        "    suma=0\n",
        "    i = 0\n",
        "    while i < n:\n",
        "      suma = f0 + f1\n",
        "      f1 = f0\n",
        "      f0 = suma\n",
        "      i += 1\n",
        "    return suma"
      ],
      "metadata": {
        "id": "MxOIaHzQWM2-"
      },
      "execution_count": 57,
      "outputs": []
    },
    {
      "cell_type": "code",
      "source": [
        "fibonacci(10), fibonacci(36)"
      ],
      "metadata": {
        "id": "Q1PCFnT3WPeF",
        "outputId": "55498564-447a-4c01-8213-df771174c4f1",
        "colab": {
          "base_uri": "https://localhost:8080/"
        }
      },
      "execution_count": 58,
      "outputs": [
        {
          "output_type": "execute_result",
          "data": {
            "text/plain": [
              "(55, 14930352)"
            ]
          },
          "metadata": {},
          "execution_count": 58
        }
      ]
    }
  ]
}